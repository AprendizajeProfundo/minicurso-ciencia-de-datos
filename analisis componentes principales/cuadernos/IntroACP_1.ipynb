{
 "cells": [
  {
   "attachments": {},
   "cell_type": "markdown",
   "metadata": {
    "id": "bKyAQwYejldk"
   },
   "source": [
    "<figure> \n",
    "<img src=\"../imagenes/logo-final-ap.png\"  width=\"80\" height=\"80\" align=\"left\"/> \n",
    "</figure>\n",
    "\n",
    "# <span style=\"color:blue\"><left>Aprendizaje Profundo</left></span>"
   ]
  },
  {
   "attachments": {},
   "cell_type": "markdown",
   "metadata": {
    "id": "1Ch3SsEFYI1u"
   },
   "source": [
    "# <span style=\"color:red\"><center>Minicurso de Ciencia de Datos<center></span>"
   ]
  },
  {
   "attachments": {},
   "cell_type": "markdown",
   "metadata": {},
   "source": [
    "## <span style=\"color:Green\"><center>Introducción al análisis en componentes principales</center></span>"
   ]
  },
  {
   "attachments": {},
   "cell_type": "markdown",
   "metadata": {},
   "source": [
    "## <span style=\"color:#4361EE\">Profesores</span>"
   ]
  },
  {
   "attachments": {},
   "cell_type": "markdown",
   "metadata": {},
   "source": [
    "1. Alvaro  Montenegro, PhD, ammontenegrod@unal.edu.co\n",
    "1. Camilo José Torres Jiménez, Msc, cjtorresj@unal.edu.co\n",
    "1. Daniel  Montenegro, Msc, dextronomo@gmail.com \n",
    "1. Campo Elías Pardo, PhD, cepardot@unal.edu.co"
   ]
  },
  {
   "attachments": {},
   "cell_type": "markdown",
   "metadata": {},
   "source": [
    "## <span style=\"color:#4361EE\">Asesora Medios y Marketing digital</span>"
   ]
  },
  {
   "attachments": {},
   "cell_type": "markdown",
   "metadata": {},
   "source": [
    "5. Maria del Pilar Montenegro, pmontenegro88@gmail.com\n",
    "6. Jessica López Mejía, jelopezme@unal.edu.co\n",
    "7. Venus Puertas, vpuertasg@unal.edu.co"
   ]
  },
  {
   "attachments": {},
   "cell_type": "markdown",
   "metadata": {},
   "source": [
    "## <span style=\"color:#4361EE\">Jefe Jurídica</span>"
   ]
  },
  {
   "attachments": {},
   "cell_type": "markdown",
   "metadata": {},
   "source": [
    "8. Paula Andrea Guzmán, guzmancruz.paula@gmail.com"
   ]
  },
  {
   "attachments": {},
   "cell_type": "markdown",
   "metadata": {},
   "source": [
    "## <span style=\"color:#4361EE\">Coordinador Jurídico</span>"
   ]
  },
  {
   "attachments": {},
   "cell_type": "markdown",
   "metadata": {},
   "source": [
    "9. David Fuentes, fuentesd065@gmail.com"
   ]
  },
  {
   "attachments": {},
   "cell_type": "markdown",
   "metadata": {},
   "source": [
    "## <span style=\"color:#4361EE\">Desarrolladores Principales</span>"
   ]
  },
  {
   "attachments": {},
   "cell_type": "markdown",
   "metadata": {},
   "source": [
    "10. Dairo Moreno, damoralesj@unal.edu.co\n",
    "11. Joan Castro, jocastroc@unal.edu.co\n",
    "12. Bryan Riveros, briveros@unal.edu.co\n",
    "13. Rosmer Vargas, rovargasc@unal.edu.co"
   ]
  },
  {
   "attachments": {},
   "cell_type": "markdown",
   "metadata": {},
   "source": [
    "## <span style=\"color:#4361EE\">Expertos en Bases de Datos</span>"
   ]
  },
  {
   "attachments": {},
   "cell_type": "markdown",
   "metadata": {},
   "source": [
    "14. Giovvani Barrera, udgiovanni@gmail.com\n",
    "15. Camilo Chitivo, cchitivo@unal.edu.co"
   ]
  },
  {
   "attachments": {},
   "cell_type": "markdown",
   "metadata": {},
   "source": [
    "## <span style=\"color:#4361EE\">Introducción</span>"
   ]
  },
  {
   "attachments": {},
   "cell_type": "markdown",
   "metadata": {},
   "source": [
    "El análisis en componentes principales (ACP) es muy conocido en la Ciencia de Datos como una técnica de reducción de dimensión, pero es mucho más que eso. Si se aborda desde un punto de vista geométrico, es una técnica poderosa para la visualización de datos. Su generalización ha permitido el desarrollo de otros métodos sobre todo para la descripción de variables cualitativas, en cuyo caso también sirve como método de cuantificación de lo cualitativo. Esa visión geométrica de origen francés es la que presentamos aquí. Hacemos uso del R en primera instancia para entender los métodos y luego para llevarlos a la práctica. En este cuaderno introducimos el ACP como se conoce en la mayoría de los ámbitos y que podemos llamar ACP canónico, y al final presentamos el ACP general o generalizado, como un marco común a los métodos derivados, que podemos llamar métodos factoriales o en ejes principales, de los que forman parte los análisis de correspondencias simples y múltiples.\n",
    "\n",
    "Con ejemplos unos de juguete y otros de aplicaciones pequeños se presentan todos los métodos, los cuales se verán con mayor detalle en el Diplomado de Ciencia de Datos y consultar en mi libro *Estadística descriptiva multivariada*, disponible en PDF en la página Web de la Facultad de Ciencias, Universidad Nacional de Colombia Sede Bogotá, enlace corto: https://repositorio.unal.edu.co/handle/unal/79914"
   ]
  },
  {
   "attachments": {},
   "cell_type": "markdown",
   "metadata": {},
   "source": [
    "## <span style=\"color:blue\"><center>Geometría de una variable</center></span>\n",
    "\n",
    "### Datos\n",
    "\n",
    "Se tiene la variable $Y_1$, con los valores:"
   ]
  },
  {
   "cell_type": "code",
   "execution_count": 1,
   "metadata": {
    "tags": [],
    "vscode": {
     "languageId": "r"
    }
   },
   "outputs": [
    {
     "name": "stdout",
     "output_type": "stream",
     "text": [
      "Y1 =  9 7 8 3 1 3 4 7 2 6"
     ]
    }
   ],
   "source": [
    "Y1 <- c(9,7,8,3,1,3,4,7,2,6)\n",
    "cat(\"Y1 = \",Y1)"
   ]
  },
  {
   "attachments": {},
   "cell_type": "markdown",
   "metadata": {},
   "source": [
    "#### Promedio de los datos"
   ]
  },
  {
   "cell_type": "code",
   "execution_count": 2,
   "metadata": {
    "tags": [],
    "vscode": {
     "languageId": "r"
    }
   },
   "outputs": [
    {
     "name": "stdout",
     "output_type": "stream",
     "text": [
      "\n",
      "media de Y1 =  5"
     ]
    }
   ],
   "source": [
    "g1=mean(Y1)\n",
    "cat(\"\\nmedia de Y1 = \",g1)"
   ]
  },
  {
   "attachments": {},
   "cell_type": "markdown",
   "metadata": {},
   "source": [
    "La media o promedio, corresponde al concepto *centro de gravedad* de la física ($g_1$). Si se suponen los puntos como esferas de igual peso, sobre una barra de densidad homogénea la barra queda equilibrada, si se apoya en el punto $g_1$.\n"
   ]
  },
  {
   "attachments": {},
   "cell_type": "markdown",
   "metadata": {},
   "source": [
    "#### Datos centrados\n",
    "\n",
    "Centrar los datos es restarle a cada punto la media $g_1$\n",
    "\n",
    "Sea $X_1 = Y_1 - g_1$  "
   ]
  },
  {
   "cell_type": "code",
   "execution_count": 3,
   "metadata": {
    "tags": [],
    "vscode": {
     "languageId": "r"
    }
   },
   "outputs": [
    {
     "name": "stdout",
     "output_type": "stream",
     "text": [
      "X1 =  4 2 3 -2 -4 -2 -1 2 -3 1"
     ]
    }
   ],
   "source": [
    "X1 = Y1 - g1\n",
    "cat(\"X1 = \",X1)"
   ]
  },
  {
   "attachments": {},
   "cell_type": "markdown",
   "metadata": {},
   "source": [
    "Con esta transformación el punto de apoyo para lograr el equilibrio se situa en $0$"
   ]
  },
  {
   "cell_type": "code",
   "execution_count": 4,
   "metadata": {
    "tags": [],
    "vscode": {
     "languageId": "r"
    }
   },
   "outputs": [
    {
     "data": {
      "text/html": [
       "0"
      ],
      "text/latex": [
       "0"
      ],
      "text/markdown": [
       "0"
      ],
      "text/plain": [
       "[1] 0"
      ]
     },
     "metadata": {},
     "output_type": "display_data"
    }
   ],
   "source": [
    "mean(X1)"
   ]
  },
  {
   "attachments": {},
   "cell_type": "markdown",
   "metadata": {},
   "source": [
    "#### Representación de $Y_1$ y $X_1$ en la recta real:"
   ]
  },
  {
   "attachments": {},
   "cell_type": "markdown",
   "metadata": {},
   "source": [
    "<figure> \n",
    "<img src=\"../imagenes/geometriaY1.png\"  width=\"480\" height=\"480\" align=\"left\"/> \n",
    "</figure>\n",
    "\n"
   ]
  },
  {
   "attachments": {},
   "cell_type": "markdown",
   "metadata": {},
   "source": [
    "\n",
    "En la segunda barra, el origen se traslada al centro de gravedad y los valores se obtienen restándoles $g_1 = 5$. Sea $X_1 = Y_1 - g_1$ "
   ]
  },
  {
   "attachments": {},
   "cell_type": "markdown",
   "metadata": {},
   "source": [
    "Es importante ver que la media es el valor que hace mínima la suma de cuadrados de las distancias entre cada punto el valor. Lo que se hace a continuación es solo para verlo para quienes quieran entenderlo. Sin embargo, es suficiente ver que este resultado se puede demostrar matemáticamente. \n",
    "\n",
    "Sea la función $$f(a) = \\sum_{i=1}^{10} p_i (y_{i1} - a)^2$$ donde $p_i = 1/10$\n",
    "\n",
    "Entonces podemos buscar el valor de $a$ que minimice la suma de cuadrados $f(a)$, ese valor se obtiene igualando el valor de la derivada de $f(a)$ a $0$ es decir $$f'(a) = 2 \\sum_{i=1}^{10} p_i (y_{i1} - a) = 0$$ entonces $$a = \\sum_{i=1}^{10} p_i y_{i1}$$\n",
    "\n",
    "que es igual al centro de gravedad (media o promedio) de $Y_1$\n"
   ]
  },
  {
   "attachments": {},
   "cell_type": "markdown",
   "metadata": {},
   "source": [
    "#### Varianza de los datos\n",
    "\n",
    "Sea $V_1$, la varianza de $Y_1$, entonces $$V_1 =\\frac{1}{10} \\sum_{i=1}^{10} (y_{i1}-g_1)^2 =\\frac{1}{10} \\sum_{i=1}^{10} x_{i1}^2$$\n",
    "\n",
    "Estas fórmulas corresponden al momento de inercia de los puntos respecto al centro de gravedad, que en Estadística descriptiva multivariada denominamos *inercia* para generalizar el concepto de varianza cuando se consideran varias variables simultáneamente. \n",
    "\n",
    "La varianza de $Y_1$, que es igual a la de $X_1$ es:\n"
   ]
  },
  {
   "cell_type": "code",
   "execution_count": 5,
   "metadata": {
    "tags": [],
    "vscode": {
     "languageId": "r"
    }
   },
   "outputs": [
    {
     "data": {
      "text/html": [
       "6.8"
      ],
      "text/latex": [
       "6.8"
      ],
      "text/markdown": [
       "6.8"
      ],
      "text/plain": [
       "[1] 6.8"
      ]
     },
     "metadata": {},
     "output_type": "display_data"
    }
   ],
   "source": [
    "V1=1/10*sum(X1*X1);V1"
   ]
  },
  {
   "attachments": {},
   "cell_type": "markdown",
   "metadata": {},
   "source": [
    "## <span style=\"color:blue\"><center>Geometría de dos variables</center></span>\n",
    "\n",
    "Sea la variable $Y_2$ con los valores:\n"
   ]
  },
  {
   "cell_type": "code",
   "execution_count": 6,
   "metadata": {
    "tags": [],
    "vscode": {
     "languageId": "r"
    }
   },
   "outputs": [
    {
     "name": "stdout",
     "output_type": "stream",
     "text": [
      "Y2 =  9 13 6 1 5 11 4 3 8 10"
     ]
    }
   ],
   "source": [
    "Y2=c(9,13,6,1,5,11,4,3,8,10)\n",
    "cat(\"Y2 = \",Y2)"
   ]
  },
  {
   "cell_type": "code",
   "execution_count": 7,
   "metadata": {
    "tags": [],
    "vscode": {
     "languageId": "r"
    }
   },
   "outputs": [
    {
     "name": "stdout",
     "output_type": "stream",
     "text": [
      "\n",
      "media de Y2 =  7"
     ]
    }
   ],
   "source": [
    "g2=mean(Y2)\n",
    "cat(\"\\nmedia de Y2 = \",g2)"
   ]
  },
  {
   "attachments": {},
   "cell_type": "markdown",
   "metadata": {},
   "source": [
    "$X_2$ es $Y_2$ centrado"
   ]
  },
  {
   "cell_type": "code",
   "execution_count": 8,
   "metadata": {
    "tags": [],
    "vscode": {
     "languageId": "r"
    }
   },
   "outputs": [
    {
     "name": "stdout",
     "output_type": "stream",
     "text": [
      "X2 =  2 6 -1 -6 -2 4 -3 -4 1 3"
     ]
    }
   ],
   "source": [
    "X2=Y2-g2\n",
    "cat(\"X2 = \",X2)\n"
   ]
  },
  {
   "attachments": {},
   "cell_type": "markdown",
   "metadata": {},
   "source": [
    "Varianza de $Y_2$"
   ]
  },
  {
   "cell_type": "code",
   "execution_count": 9,
   "metadata": {
    "tags": [],
    "vscode": {
     "languageId": "r"
    }
   },
   "outputs": [
    {
     "name": "stdout",
     "output_type": "stream",
     "text": [
      "V2 =  13.2"
     ]
    }
   ],
   "source": [
    "V2=1/10*sum(X2*X2)\n",
    "cat(\"V2 = \",V2)"
   ]
  },
  {
   "attachments": {},
   "cell_type": "markdown",
   "metadata": {},
   "source": [
    "Nótese que $X_2$ es más disperso que $X_1$, en efecto las $V_2$ es mayor que $V_1$"
   ]
  },
  {
   "cell_type": "code",
   "execution_count": 10,
   "metadata": {
    "tags": [],
    "vscode": {
     "languageId": "r"
    }
   },
   "outputs": [
    {
     "data": {
      "text/html": [
       "6.8"
      ],
      "text/latex": [
       "6.8"
      ],
      "text/markdown": [
       "6.8"
      ],
      "text/plain": [
       "[1] 6.8"
      ]
     },
     "metadata": {},
     "output_type": "display_data"
    }
   ],
   "source": [
    "V1"
   ]
  },
  {
   "cell_type": "code",
   "execution_count": 11,
   "metadata": {
    "tags": [],
    "vscode": {
     "languageId": "r"
    }
   },
   "outputs": [
    {
     "data": {
      "image/png": "[encoded data removed]",
      "text/plain": [
       "plot without title"
      ]
     },
     "metadata": {
      "image/png": {
       "height": 420,
       "width": 420
      }
     },
     "output_type": "display_data"
    }
   ],
   "source": [
    "stripchart(X1,method = \"stack\",xlim=c(-7,7))\n",
    "text(-7,1,\"X1\")\n",
    "stripchart(X2,method = \"stack\",add=TRUE,col=\"darkgreen\",at = 0.5)\n",
    "text(-7, 0.5, \"X2\",col=\"darkgreen\")"
   ]
  },
  {
   "attachments": {},
   "cell_type": "markdown",
   "metadata": {
    "tags": []
   },
   "source": [
    "### Diagrama de dispersión de las dos variables\n",
    "\n",
    "Si se consideran las dos variables simultáneamente, las parejas de datos se tratan como vectores de dimensión 2, se guardan en una matriz de 10 filas por dos columnas y se representan en un diagrama de dispersión.\n"
   ]
  },
  {
   "cell_type": "code",
   "execution_count": 12,
   "metadata": {
    "tags": [],
    "vscode": {
     "languageId": "r"
    }
   },
   "outputs": [
    {
     "name": "stdout",
     "output_type": "stream",
     "text": [
      "Matriz Y transpuesta "
     ]
    },
    {
     "data": {
      "text/html": [
       "<table class=\"dataframe\">\n",
       "<caption>A matrix: 2 × 10 of type dbl</caption>\n",
       "<thead>\n",
       "\t<tr><th></th><th scope=col>I1</th><th scope=col>I2</th><th scope=col>I3</th><th scope=col>I4</th><th scope=col>I5</th><th scope=col>I6</th><th scope=col>I7</th><th scope=col>I8</th><th scope=col>I9</th><th scope=col>I10</th></tr>\n",
       "</thead>\n",
       "<tbody>\n",
       "\t<tr><th scope=row>Y1</th><td>9</td><td> 7</td><td>8</td><td>3</td><td>1</td><td> 3</td><td>4</td><td>7</td><td>2</td><td> 6</td></tr>\n",
       "\t<tr><th scope=row>Y2</th><td>9</td><td>13</td><td>6</td><td>1</td><td>5</td><td>11</td><td>4</td><td>3</td><td>8</td><td>10</td></tr>\n",
       "</tbody>\n",
       "</table>\n"
      ],
      "text/latex": [
       "A matrix: 2 × 10 of type dbl\n",
       "\\begin{tabular}{r|llllllllll}\n",
       "  & I1 & I2 & I3 & I4 & I5 & I6 & I7 & I8 & I9 & I10\\\\\n",
       "\\hline\n",
       "\tY1 & 9 &  7 & 8 & 3 & 1 &  3 & 4 & 7 & 2 &  6\\\\\n",
       "\tY2 & 9 & 13 & 6 & 1 & 5 & 11 & 4 & 3 & 8 & 10\\\\\n",
       "\\end{tabular}\n"
      ],
      "text/markdown": [
       "\n",
       "A matrix: 2 × 10 of type dbl\n",
       "\n",
       "| <!--/--> | I1 | I2 | I3 | I4 | I5 | I6 | I7 | I8 | I9 | I10 |\n",
       "|---|---|---|---|---|---|---|---|---|---|---|\n",
       "| Y1 | 9 |  7 | 8 | 3 | 1 |  3 | 4 | 7 | 2 |  6 |\n",
       "| Y2 | 9 | 13 | 6 | 1 | 5 | 11 | 4 | 3 | 8 | 10 |\n",
       "\n"
      ],
      "text/plain": [
       "   I1 I2 I3 I4 I5 I6 I7 I8 I9 I10\n",
       "Y1 9   7 8  3  1   3 4  7  2   6 \n",
       "Y2 9  13 6  1  5  11 4  3  8  10 "
      ]
     },
     "metadata": {},
     "output_type": "display_data"
    },
    {
     "name": "stdout",
     "output_type": "stream",
     "text": [
      "Centro de gravedad = [ 5 7 ]"
     ]
    },
    {
     "data": {
      "image/png": "[encoded data removed]",
      "text/plain": [
       "plot without title"
      ]
     },
     "metadata": {
      "image/png": {
       "height": 420,
       "width": 420
      }
     },
     "output_type": "display_data"
    }
   ],
   "source": [
    "Y=cbind(Y1=Y1,Y2=Y2)\n",
    "# identificación de las filas\n",
    "rownames(Y)=paste(\"I\",1:10,sep=\"\")\n",
    "cat(\"Matriz Y transpuesta \")\n",
    "t(Y)\n",
    "g=colMeans(Y)\n",
    "cat(\"Centro de gravedad = [\",g,\"]\")\n",
    "plot(Y,las=1,xlim=c(0,10),ylim=c(0,15),asp=1)\n",
    "text(Y,labels=rownames(Y),pos=3)\n",
    "text(g[1],g[2],col=\"darkgreen\",labels=\"g\",cex=2)"
   ]
  },
  {
   "attachments": {},
   "cell_type": "markdown",
   "metadata": {
    "id": "ui7IVUEiOTpm"
   },
   "source": []
  },
  {
   "attachments": {},
   "cell_type": "markdown",
   "metadata": {},
   "source": [
    "Diagrama de dispersión transladando el origen al centro de gravedad (centrado)"
   ]
  },
  {
   "cell_type": "code",
   "execution_count": 13,
   "metadata": {
    "tags": [],
    "vscode": {
     "languageId": "r"
    }
   },
   "outputs": [
    {
     "name": "stdout",
     "output_type": "stream",
     "text": [
      "Matriz centrada X"
     ]
    },
    {
     "data": {
      "text/html": [
       "<table class=\"dataframe\">\n",
       "<caption>A matrix: 2 × 10 of type dbl</caption>\n",
       "<thead>\n",
       "\t<tr><th></th><th scope=col>I1</th><th scope=col>I2</th><th scope=col>I3</th><th scope=col>I4</th><th scope=col>I5</th><th scope=col>I6</th><th scope=col>I7</th><th scope=col>I8</th><th scope=col>I9</th><th scope=col>I10</th></tr>\n",
       "</thead>\n",
       "<tbody>\n",
       "\t<tr><th scope=row>X1</th><td>4</td><td>2</td><td> 3</td><td>-2</td><td>-4</td><td>-2</td><td>-1</td><td> 2</td><td>-3</td><td>1</td></tr>\n",
       "\t<tr><th scope=row>X2</th><td>2</td><td>6</td><td>-1</td><td>-6</td><td>-2</td><td> 4</td><td>-3</td><td>-4</td><td> 1</td><td>3</td></tr>\n",
       "</tbody>\n",
       "</table>\n"
      ],
      "text/latex": [
       "A matrix: 2 × 10 of type dbl\n",
       "\\begin{tabular}{r|llllllllll}\n",
       "  & I1 & I2 & I3 & I4 & I5 & I6 & I7 & I8 & I9 & I10\\\\\n",
       "\\hline\n",
       "\tX1 & 4 & 2 &  3 & -2 & -4 & -2 & -1 &  2 & -3 & 1\\\\\n",
       "\tX2 & 2 & 6 & -1 & -6 & -2 &  4 & -3 & -4 &  1 & 3\\\\\n",
       "\\end{tabular}\n"
      ],
      "text/markdown": [
       "\n",
       "A matrix: 2 × 10 of type dbl\n",
       "\n",
       "| <!--/--> | I1 | I2 | I3 | I4 | I5 | I6 | I7 | I8 | I9 | I10 |\n",
       "|---|---|---|---|---|---|---|---|---|---|---|\n",
       "| X1 | 4 | 2 |  3 | -2 | -4 | -2 | -1 |  2 | -3 | 1 |\n",
       "| X2 | 2 | 6 | -1 | -6 | -2 |  4 | -3 | -4 |  1 | 3 |\n",
       "\n"
      ],
      "text/plain": [
       "   I1 I2 I3 I4 I5 I6 I7 I8 I9 I10\n",
       "X1 4  2   3 -2 -4 -2 -1  2 -3 1  \n",
       "X2 2  6  -1 -6 -2  4 -3 -4  1 3  "
      ]
     },
     "metadata": {},
     "output_type": "display_data"
    },
    {
     "name": "stdout",
     "output_type": "stream",
     "text": [
      "centro de gravedad = [ 0 0 ]"
     ]
    }
   ],
   "source": [
    "X = Y-rep(1,10)%*%t(g)\n",
    "cat(\"Matriz centrada X\")\n",
    "colnames(X)=c(\"X1\",\"X2\")\n",
    "t(X)\n",
    "cat(\"centro de gravedad = [\",colSums(X),\"]\")"
   ]
  },
  {
   "attachments": {},
   "cell_type": "markdown",
   "metadata": {},
   "source": [
    "Diagrama de dispersión de los datos centrados"
   ]
  },
  {
   "cell_type": "code",
   "execution_count": 14,
   "metadata": {
    "tags": [],
    "vscode": {
     "languageId": "r"
    }
   },
   "outputs": [
    {
     "name": "stdout",
     "output_type": "stream",
     "text": [
      "Matriz de varianzas y covarianzas de Y o X"
     ]
    },
    {
     "data": {
      "text/html": [
       "<table class=\"dataframe\">\n",
       "<caption>A matrix: 2 × 2 of type dbl</caption>\n",
       "<thead>\n",
       "\t<tr><th></th><th scope=col>Y1</th><th scope=col>Y2</th></tr>\n",
       "</thead>\n",
       "<tbody>\n",
       "\t<tr><th scope=row>Y1</th><td>6.8</td><td> 2.4</td></tr>\n",
       "\t<tr><th scope=row>Y2</th><td>2.4</td><td>13.2</td></tr>\n",
       "</tbody>\n",
       "</table>\n"
      ],
      "text/latex": [
       "A matrix: 2 × 2 of type dbl\n",
       "\\begin{tabular}{r|ll}\n",
       "  & Y1 & Y2\\\\\n",
       "\\hline\n",
       "\tY1 & 6.8 &  2.4\\\\\n",
       "\tY2 & 2.4 & 13.2\\\\\n",
       "\\end{tabular}\n"
      ],
      "text/markdown": [
       "\n",
       "A matrix: 2 × 2 of type dbl\n",
       "\n",
       "| <!--/--> | Y1 | Y2 |\n",
       "|---|---|---|\n",
       "| Y1 | 6.8 |  2.4 |\n",
       "| Y2 | 2.4 | 13.2 |\n",
       "\n"
      ],
      "text/plain": [
       "   Y1  Y2  \n",
       "Y1 6.8  2.4\n",
       "Y2 2.4 13.2"
      ]
     },
     "metadata": {},
     "output_type": "display_data"
    },
    {
     "name": "stdout",
     "output_type": "stream",
     "text": [
      "Matriz de correlaciones de Y o X"
     ]
    },
    {
     "data": {
      "text/html": [
       "<table class=\"dataframe\">\n",
       "<caption>A matrix: 2 × 2 of type dbl</caption>\n",
       "<thead>\n",
       "\t<tr><th></th><th scope=col>Y1</th><th scope=col>Y2</th></tr>\n",
       "</thead>\n",
       "<tbody>\n",
       "\t<tr><th scope=row>Y1</th><td>1.000</td><td>0.253</td></tr>\n",
       "\t<tr><th scope=row>Y2</th><td>0.253</td><td>1.000</td></tr>\n",
       "</tbody>\n",
       "</table>\n"
      ],
      "text/latex": [
       "A matrix: 2 × 2 of type dbl\n",
       "\\begin{tabular}{r|ll}\n",
       "  & Y1 & Y2\\\\\n",
       "\\hline\n",
       "\tY1 & 1.000 & 0.253\\\\\n",
       "\tY2 & 0.253 & 1.000\\\\\n",
       "\\end{tabular}\n"
      ],
      "text/markdown": [
       "\n",
       "A matrix: 2 × 2 of type dbl\n",
       "\n",
       "| <!--/--> | Y1 | Y2 |\n",
       "|---|---|---|\n",
       "| Y1 | 1.000 | 0.253 |\n",
       "| Y2 | 0.253 | 1.000 |\n",
       "\n"
      ],
      "text/plain": [
       "   Y1    Y2   \n",
       "Y1 1.000 0.253\n",
       "Y2 0.253 1.000"
      ]
     },
     "metadata": {},
     "output_type": "display_data"
    },
    {
     "data": {
      "image/png": "[encoded data removed]",
      "text/plain": [
       "plot without title"
      ]
     },
     "metadata": {
      "image/png": {
       "height": 420,
       "width": 420
      }
     },
     "output_type": "display_data"
    }
   ],
   "source": [
    "plot(X,las=1,asp=1,xlim=c(-5,5),ylim=c(-7,8))\n",
    "text(X,labels=rownames(X),pos=3)\n",
    "abline(v=-5:5,h=-7:8,col=\"gray80\")\n",
    "abline(v=0,h=0,col=\"green\")\n",
    "text(0,0,\"0\",col=\"darkgreen\",cex=2)\n",
    "cat(\"Matriz de varianzas y covarianzas de Y o X\")\n",
    "V<-cov(Y)*9/10;V\n",
    "cat(\"Matriz de correlaciones de Y o X\")\n",
    "R <- cor(Y); round(R,3)"
   ]
  },
  {
   "attachments": {},
   "cell_type": "markdown",
   "metadata": {},
   "source": [
    "### Eje de mayor proyección\n",
    "\n",
    "A ojo: linea con origen en 0 y pendiente 3"
   ]
  },
  {
   "cell_type": "code",
   "execution_count": 15,
   "metadata": {
    "vscode": {
     "languageId": "r"
    }
   },
   "outputs": [
    {
     "data": {
      "image/png": "[encoded data removed]",
      "text/plain": [
       "plot without title"
      ]
     },
     "metadata": {
      "image/png": {
       "height": 420,
       "width": 420
      }
     },
     "output_type": "display_data"
    }
   ],
   "source": [
    "plot(X,las=1,asp=1,xlim=c(-5,5),ylim=c(-7,8))\n",
    "text(X,labels=rownames(X),pos=3)\n",
    "abline(v=-5:5,h=-7:8,col=\"gray80\")\n",
    "abline(v=0,h=0,col=\"green\")\n",
    "text(0,0,\"0\",col=\"green\")\n",
    "abline(0,3,col=\"orange\")\n",
    "# eje perpendicular\n",
    "abline(0,-1/3,col=\"orange\")"
   ]
  },
  {
   "attachments": {},
   "cell_type": "markdown",
   "metadata": {},
   "source": [
    "Completar el ejercicio en papel cuadriculado y midiendo las proyecciones con regla.\n",
    "Para ver aquí el resultado (rotación) utilizo funciones de *ade4* y *FactoClass*."
   ]
  },
  {
   "cell_type": "code",
   "execution_count": 16,
   "metadata": {
    "tags": [],
    "vscode": {
     "languageId": "r"
    }
   },
   "outputs": [
    {
     "ename": "ERROR",
     "evalue": "Error in dudi.pca(Y, scannf = FALSE, scale = FALSE): no se pudo encontrar la función \"dudi.pca\"\n",
     "output_type": "error",
     "traceback": [
      "Error in dudi.pca(Y, scannf = FALSE, scale = FALSE): no se pudo encontrar la función \"dudi.pca\"\nTraceback:\n"
     ]
    }
   ],
   "source": [
    "rota<-dudi.pca(Y,scannf=FALSE,scale=FALSE) # Se realiza ACP \n",
    "cat(\"Coordenadas sobre los nuevos ejes\")\n",
    "F=rota$li\n",
    "round(t(F),2)\n",
    "# grafica con plot.dudi{FactoClass}\n",
    "plot(rota,Tcol=FALSE,cex.row=1.2,gg=TRUE)\n",
    "#abline(v=0,h=0,col=\"orange\")"
   ]
  },
  {
   "attachments": {},
   "cell_type": "markdown",
   "metadata": {},
   "source": [
    "Los nuevos ejes que soportan la *nube de puntos* son nuevas variables: sumas ponderadas de las dos variables originales $X_1$ y $X_2$. Los valores para los 10 puntos constituyen la matriz **F**.   "
   ]
  },
  {
   "attachments": {},
   "cell_type": "markdown",
   "metadata": {
    "tags": []
   },
   "source": [
    "Lambda=var(F)*9/10\n",
    "cat(\"Matriz de varianzas y covarianza sobre los nuevos ejes\")\n",
    "round(Lambda,3)\n",
    "cat(\"Traza de Lambda =\",sum(diag(Lambda)))\n",
    "cat(\"\\nMatriz V (varianzas y covarianzas de Y\")\n",
    "V\n",
    "cat(\"Traza de V =\",sum(diag(V)))"
   ]
  },
  {
   "attachments": {},
   "cell_type": "markdown",
   "metadata": {
    "tags": []
   },
   "source": [
    "Nótese que la suma de varianzas de **V** --traza(**V**)-- es igual a la de las nuevas variables traza(**$\\Lambda$)** "
   ]
  },
  {
   "attachments": {},
   "cell_type": "markdown",
   "metadata": {},
   "source": [
    "Lo que cambia es que $F_1$ tiene más varianza que $F_2$ y las dos nuevas variables no están correlacionadas."
   ]
  },
  {
   "attachments": {},
   "cell_type": "markdown",
   "metadata": {},
   "source": [
    "## <span style=\"color:blue\"><center>Geometría de tres variables</center></span>\n",
    "\n",
    "Como ejemplo de juguete se utiliza la tabla de los 10 tratamientos de los datos *cafe{FactoClass}*, utilizando las 3 variables físicas presentes: *Color*, *DA* (densidad aparente) y *EA* (estrato acuoso. La nube de los 10 puntos (vectores de 3 componentes) requiere de 3 ejes y aún la podemos visualizar."
   ]
  },
  {
   "cell_type": "code",
   "execution_count": null,
   "metadata": {
    "tags": [],
    "vscode": {
     "languageId": "r"
    }
   },
   "outputs": [],
   "source": [
    "data(cafe)\n",
    "Y<-cafe[1:10,1:3]"
   ]
  },
  {
   "cell_type": "code",
   "execution_count": null,
   "metadata": {
    "vscode": {
     "languageId": "r"
    }
   },
   "outputs": [],
   "source": [
    "par(las=1); # grafica;\n",
    "Y3D<-scatterplot3d(Y,main=\"Y\",type=\"h\",color=\"black\",box=FALSE,\n",
    "\t\t\t\t   las=1); \n",
    "Y3D$points3d(Y,pch=1);\n",
    "addgrids3d(Y, grid = c(\"xy\",\"xz\",\"yz\"));\n",
    "cord2d<-Y3D$xyz.convert(Y) # convertir cordenadas 3D a 2D;\n",
    "# poner etiquetas;\n",
    "text(cord2d,labels=rownames(Y), cex=0.8,col=\"black\",pos=3); \n",
    "# poner el centro de gravedad en la gráfica\n",
    "g <- colMeans(Y) \n",
    "Y3D$points3d(t(g),pch=19,col=\"darkgreen\",type = \"h\");\n",
    "text(Y3D$xyz.convert(t(g)),labels=\"g\",pos=3,col=\"black\",\n",
    "     cex=1.3);\n",
    "t(Y) \n"
   ]
  },
  {
   "attachments": {},
   "cell_type": "markdown",
   "metadata": {},
   "source": [
    "Datos centrados"
   ]
  },
  {
   "cell_type": "code",
   "execution_count": null,
   "metadata": {
    "vscode": {
     "languageId": "r"
    }
   },
   "outputs": [],
   "source": [
    "# cálculo de la matriz de datos centrados y representación en 3D\n",
    "Yc<-scale(Y,scale=FALSE)   #calculo\n",
    "attr(Yc,\"scaled:center\")->g  #la función scale muestra el centro de gravedad\n",
    "t(rbind(Yc,g))\n",
    "# grafica de datos centrados\n",
    "par(las=1);\n",
    "Yc3D<-scatterplot3d(Yc,main=\"Yc\",type=\"h\",color=\"black\",\n",
    "\t               box=FALSE,las=1);\n",
    "Yc3D$points3d(Yc,pch=1);\n",
    "addgrids3d(Yc,grid=c(\"xy\", \"xz\", \"yz\"));\n",
    "text (Yc3D$xyz.convert(Yc),labels=rownames(Yc),cex=0.8,\n",
    "\t  col=\"black\",pos=3);\n",
    "Yc3D$points3d(t(c(0 ,0 ,0)),pch=19 , col =\"darkgreen\",type = \"h\");\n",
    "text(Yc3D$xyz.convert (t(c(0 ,0 ,0))),labels =\"0\",pos =3, \n",
    "     col =\"darkgreen\",cex =1.3);\n"
   ]
  },
  {
   "attachments": {},
   "cell_type": "markdown",
   "metadata": {},
   "source": [
    "#### **Cálculo y gráfica 3D de la matriz de datos estandarizados X**"
   ]
  },
  {
   "cell_type": "code",
   "execution_count": null,
   "metadata": {
    "vscode": {
     "languageId": "r"
    }
   },
   "outputs": [],
   "source": [
    "# Cálculo de matriz X estandarizada\n",
    "X<-scale(Y)\n",
    "# aquí la función scale calcula la media y la desviación estándar\n",
    "# las varianzas que calcula R es la muestral: se divide por n-1\n",
    "round(attr(X,\"scaled:scale\"),1)->Des\n",
    "# X transpuesta + g + Des\n",
    "t(round(rbind(X,g,Des),2))\n",
    "# gráfica de la matriz centrada y reducida (estandrizada)\n",
    "par(las=1) # etiquetas de los dos ejes sean horizontales;\n",
    "X3D<-scatterplot3d(X,main=\"X\",type =\"h\",box=FALSE,asp=1); \n",
    "X3D$points3d(Yc,pch=1);\n",
    "addgrids3d(X,grid=c(\"xy\",\"xz\",\"yz\"),col.grid=\"grey80\");\n",
    "text (X3D$xyz.convert(X),labels=rownames(X),cex=0.8,pos=3);\n",
    "X3D$points3d (t(c(0,0,0)),pch=19,col=\"darkgreen\",type=\"h\");\n",
    "text(X3D$xyz.convert(t(c(0,0,0))),labels=\"0\",pos=3,col=\"darkgreen\"\n",
    "\t ,cex=0.8);\n"
   ]
  },
  {
   "attachments": {},
   "cell_type": "markdown",
   "metadata": {},
   "source": [
    "#### Rotación de ejes o cambio de base"
   ]
  },
  {
   "cell_type": "code",
   "execution_count": null,
   "metadata": {
    "tags": [],
    "vscode": {
     "languageId": "r"
    }
   },
   "outputs": [],
   "source": [
    "acp=dudi.pca(Y,scannf=FALSE,nf=3)"
   ]
  },
  {
   "cell_type": "code",
   "execution_count": null,
   "metadata": {
    "vscode": {
     "languageId": "r"
    }
   },
   "outputs": [],
   "source": [
    "par(las=1) # etiquetas de los dos ejes sean horizontales;\n",
    "X3D<-scatterplot3d(F,main=\"F\",type =\"h\",box=FALSE,asp=1); \n",
    "X3D$points3d(F,pch=1);\n",
    "addgrids3d(F,grid=c(\"xy\",\"xz\",\"yz\"),col.grid=\"grey80\");\n",
    "text (X3D$xyz.convert(F),labels=rownames(F),cex=0.8,pos=3);\n",
    "X3D$points3d (t(c(0,0,0)),pch=19,col=\"darkgreen\",type=\"h\");\n",
    "text(X3D$xyz.convert(t(c(0,0,0))),labels=\"0\",pos=3,col=\"darkgreen\"\n",
    "\t ,cex=0.8)"
   ]
  },
  {
   "cell_type": "code",
   "execution_count": null,
   "metadata": {
    "tags": [],
    "vscode": {
     "languageId": "r"
    }
   },
   "outputs": [],
   "source": [
    "cat(\"Tabla de coordenadas sobre los nuevos ejes\")\n",
    "F=acp$li;round(t(F),2)"
   ]
  },
  {
   "attachments": {},
   "cell_type": "markdown",
   "metadata": {},
   "source": [
    "#### Mejor plano de proyección"
   ]
  },
  {
   "cell_type": "code",
   "execution_count": null,
   "metadata": {
    "tags": [],
    "vscode": {
     "languageId": "r"
    }
   },
   "outputs": [],
   "source": [
    "plot(acp,Tcol=FALSE,asp=1,gg=TRUE)"
   ]
  },
  {
   "attachments": {},
   "cell_type": "markdown",
   "metadata": {},
   "source": [
    "#### Círculo de correlaciones"
   ]
  },
  {
   "cell_type": "code",
   "execution_count": null,
   "metadata": {
    "vscode": {
     "languageId": "r"
    }
   },
   "outputs": [],
   "source": [
    "s.corcircle(acp$co)"
   ]
  },
  {
   "attachments": {},
   "cell_type": "markdown",
   "metadata": {},
   "source": [
    "#### Proyección en el plano 1-3"
   ]
  },
  {
   "cell_type": "code",
   "execution_count": null,
   "metadata": {
    "vscode": {
     "languageId": "r"
    }
   },
   "outputs": [],
   "source": [
    "plot(acp,1,3,Tcol=FALSE,asp=1)"
   ]
  },
  {
   "cell_type": "code",
   "execution_count": null,
   "metadata": {
    "vscode": {
     "languageId": "r"
    }
   },
   "outputs": [],
   "source": [
    "s.corcircle(acp$co,1,3)"
   ]
  },
  {
   "attachments": {},
   "cell_type": "markdown",
   "metadata": {},
   "source": [
    "## <span style=\"color:blue\"><center>Geometría de *p* variables y *n* individuos</center></span>\n"
   ]
  },
  {
   "attachments": {},
   "cell_type": "markdown",
   "metadata": {},
   "source": [
    "<figure> \n",
    "<img src=\"../imagenes/esquemaTabla.png\"  width=\"240\" height=\"240\" align=\"left\"/> \n",
    "</figure>"
   ]
  },
  {
   "attachments": {},
   "cell_type": "markdown",
   "metadata": {},
   "source": [
    "## <span style=\"color:blue\"><center>Ejemplo de *p=5* variables y *n=445* individuos</center></span>\n",
    "\n",
    "Resultados de los 5 componentes de los admitidos a las 7 carreras de la Facultad de Ciencias para el primer semestre de 2013. \n",
    "\n",
    "#### Extracto de la tabla\n"
   ]
  },
  {
   "cell_type": "code",
   "execution_count": null,
   "metadata": {
    "tags": [],
    "vscode": {
     "languageId": "r"
    }
   },
   "outputs": [],
   "source": [
    "data(admi)\n",
    "Y=admi[,2:6]\n",
    "Y[seq(1,445,50),]\n",
    "# Matriz de varianzas y covarianzas\n",
    "V=var(Y)*444/445\n",
    "round(V,3)"
   ]
  },
  {
   "attachments": {},
   "cell_type": "markdown",
   "metadata": {},
   "source": [
    "ACP sin estandarizar, ya que los resultados están expresados con media 10 y desviación estándar 1, con todos los resultados (admitidos y no admitidos para todas las carreras)."
   ]
  },
  {
   "cell_type": "code",
   "execution_count": null,
   "metadata": {
    "tags": [],
    "vscode": {
     "languageId": "r"
    }
   },
   "outputs": [],
   "source": [
    "#paquete para graficas utilizando ggplot2\n",
    "#install.packages(\"factoextra\")\n",
    "library(factoextra)"
   ]
  },
  {
   "cell_type": "code",
   "execution_count": null,
   "metadata": {
    "tags": [],
    "vscode": {
     "languageId": "r"
    }
   },
   "outputs": [],
   "source": [
    "acpadmi<-dudi.pca(Y,scale=FALSE,scannf=FALSE)\n",
    "# histograma de valores propios\n",
    "fviz_eig(acpadmi) #función de factoextra\n",
    "inertia(acpadmi)"
   ]
  },
  {
   "cell_type": "code",
   "execution_count": null,
   "metadata": {
    "tags": [],
    "vscode": {
     "languageId": "r"
    }
   },
   "outputs": [],
   "source": [
    "\"promedio de valores propios\"\n",
    "round(sum(acpadmi$eig)/5,4)"
   ]
  },
  {
   "attachments": {},
   "cell_type": "markdown",
   "metadata": {},
   "source": [
    "**Dos ejes son suficientes para una síntesis de los resultados**\n",
    " 1. La varianza del primer eje es casi el doble de la del segundo, en el gráfico se destaca de los demás, su varianza corresponde al 38.4 de la inercia\n",
    " 2. El segundo eje alcanza casi el valor del promedio.\n",
    " 3. El primer plano factorial (ejes 1 y 2) retiene un 58.3% de la inercia total (5.009).\n",
    "\n",
    "#### Primer plano factorial de las variables\n"
   ]
  },
  {
   "cell_type": "code",
   "execution_count": null,
   "metadata": {
    "tags": [],
    "vscode": {
     "languageId": "r"
    }
   },
   "outputs": [],
   "source": [
    "fviz_pca_var(acpadmi) #función del paquete factoextra"
   ]
  },
  {
   "attachments": {},
   "cell_type": "markdown",
   "metadata": {},
   "source": [
    "El primer eje es un factor tamaño: el lado negativo del primer eje significa mayores resultados en todos los componentes, sobretodo en matemáticas. Los coeficientes del primer eje son:"
   ]
  },
  {
   "cell_type": "code",
   "execution_count": null,
   "metadata": {
    "tags": [],
    "vscode": {
     "languageId": "r"
    }
   },
   "outputs": [],
   "source": [
    "rownames(acpadmi$c1)\n",
    "round(acpadmi$c1[,1],3)"
   ]
  },
  {
   "attachments": {},
   "cell_type": "markdown",
   "metadata": {},
   "source": [
    "El lado positivo del segundo eje indica sobretodo mejores resultados en imagen y el negativo en textual, seguido de sociales. Los coeficientes son:"
   ]
  },
  {
   "cell_type": "code",
   "execution_count": null,
   "metadata": {
    "tags": [],
    "vscode": {
     "languageId": "r"
    }
   },
   "outputs": [],
   "source": [
    "rownames(acpadmi$c1)\n",
    "round(acpadmi$c1[,2],3)"
   ]
  },
  {
   "attachments": {},
   "cell_type": "markdown",
   "metadata": {},
   "source": [
    "#### Primer plano factorial de los admitidos"
   ]
  },
  {
   "cell_type": "code",
   "execution_count": null,
   "metadata": {
    "tags": [],
    "vscode": {
     "languageId": "r"
    }
   },
   "outputs": [],
   "source": [
    "fviz_pca_ind(acpadmi,label=\"NONE\")"
   ]
  },
  {
   "attachments": {},
   "cell_type": "markdown",
   "metadata": {},
   "source": [
    "#### La carrera como variable cualitativa suplementaria"
   ]
  },
  {
   "cell_type": "code",
   "execution_count": null,
   "metadata": {
    "tags": [],
    "vscode": {
     "languageId": "r"
    }
   },
   "outputs": [],
   "source": [
    "carrsup=supqual(acpadmi,as.data.frame(admi$carr))\n",
    "#plano12\n",
    "plano12=fviz_pca_ind(acpadmi,col.ind=\"yellow\",label=\"NONE\")\n",
    "fviz_add(plano12,carrsup$coor,repel=TRUE)"
   ]
  },
  {
   "attachments": {},
   "cell_type": "markdown",
   "metadata": {},
   "source": [
    "#### *Zoom* de las carreras "
   ]
  },
  {
   "cell_type": "code",
   "execution_count": null,
   "metadata": {
    "vscode": {
     "languageId": "r"
    }
   },
   "outputs": [],
   "source": [
    "plotfp(supcarr$coor)\n",
    "round(data.frame(coor=carrsup$coor,tval=carrsup$tv),3)"
   ]
  },
  {
   "attachments": {},
   "cell_type": "markdown",
   "metadata": {},
   "source": [
    "Los promedios de las carreras quedan ordenadas de mayor (-) a menor(+) en el primer eje: Matemáticas, Física, Geología, Biología, Química, Farmacia y Estadística. En el segundo eje se oponen Matemáticas (+) y Farmacia (-), lo que indica mejor rendimiento promedio en imagen para los admitidos a Matemáticas y mayor en Textual para Farmacia."
   ]
  },
  {
   "attachments": {},
   "cell_type": "markdown",
   "metadata": {},
   "source": [
    "## <span style=\"color:blue\"><center>Análisis en componentes principales generalizado *ACP*(**X,M,N**)</center></span>"
   ]
  },
  {
   "attachments": {},
   "cell_type": "markdown",
   "metadata": {},
   "source": [
    "Casi todos los métodos en ejes principales (factoriales) se puede derivar de este procedimiento general. Aunque es un poco técnico también se puede ver como una caja negra, quienes quieran entenderlo matemáticamente necesitan conocer los conceptos de álgebra lineal, específicamente lo que tiene que ver con los espacios vectoriales en los reales con producto interno. De un producto interno se deriva una métrica (distancia) y todo lo que se requiere para la representación gráfica multidimensional de tablas de datos. \n",
    "\n",
    "Una tabla de datos se transforma en una matriz **X** del *ACP*(**X,M,N**) es la que se va a representar geométricamente. **X** tiene $n$ filas y $p$ columnas.\n"
   ]
  },
  {
   "attachments": {},
   "cell_type": "markdown",
   "metadata": {},
   "source": [
    "<figure> \n",
    "<img src=\"../imagenes/esquemaTabla.png\"  width=\"240\" height=\"240\" align=\"left\"/> \n",
    "</figure>"
   ]
  },
  {
   "attachments": {},
   "cell_type": "markdown",
   "metadata": {},
   "source": [
    "La matriz **X** tiene dos representaciones geométricas:\n",
    "1. $n$ vectores fila (puntos fila) en $\\mathbb{R}^p$, es decir que los ejes son las columnas de **X**. *Espacio de las filas*. *Nube de puntos fila*\n",
    "2. $p$ vectores columna (puntos, flechas en el ACP) en $\\mathbb{R}^n$ *Espacio de las columnas*. *Nube de columnas*\n",
    "\n",
    "Los dos espacios están relacionados y se denomina *dualidad* entre las dos representaciones. Esto se puede resumir en un diagrama de dualidad y sus fórmulas asociadas.\n"
   ]
  },
  {
   "attachments": {},
   "cell_type": "markdown",
   "metadata": {},
   "source": [
    "### <span style=\"color:blue\"><center>Diagrama de dualidad del *ACP*(**X,M,N**)</center></span>"
   ]
  },
  {
   "attachments": {},
   "cell_type": "markdown",
   "metadata": {},
   "source": [
    "<figure> \n",
    "<img src=\"../imagenes/DuDiMDpn.png\"  width=\"480\" height=\"480\" align=\"left\"/> \n",
    "</figure>"
   ]
  },
  {
   "attachments": {},
   "cell_type": "markdown",
   "metadata": {},
   "source": [
    "$E = \\mathbb{R}^p$ es el espacio de las filas, $E = \\mathbb{R}^p$ es el espacio de las columnas.\n",
    "$E^{*}$ se llama el espacio dual de $E$, y $F^{*}$ el dual de $F=\\mathbb{R}^p$.\n",
    "\n",
    "Esta es la \"caja negra\" del *ACP*(**X,M,N**) y abrirla completamente requiere conocimientos de geometría euclidiana multidimensional, que está basada en álgebra lineal. En resumen, para los métodos con matrices de métrica diagonales:\n",
    "1. **X** matriz obtenida mediante alguna transformación de los datos.\n",
    "2. **M** matriz de producto interno, *métrica* en el espacio de las filas y de pesos de las columnas (vector en la diagonal).\n",
    "3. **N** matriz de *métrica* en el espacio de las columnas y de pesos en el espacio de las filas.\n",
    "\n",
    "Con la función *as.dudi{ade4}* se obtiene los resultados de un *ACP*(**X,M,N**):\n"
   ]
  },
  {
   "attachments": {},
   "cell_type": "markdown",
   "metadata": {},
   "source": [
    "<figure> \n",
    "<img src=\"../imagenes/Diagasdudi.png\"  width=\"960\" height=\"960\" align=\"left\"/> \n",
    "</figure>"
   ]
  },
  {
   "attachments": {},
   "cell_type": "markdown",
   "metadata": {},
   "source": [
    "Esta función es interna del *ade4* y es llamada por los otros procedimientos específicos.\n",
    "\n",
    "A continuación se presentan, con ejemplos de juguete, los siguientes métodos:\n",
    "1. ACP canónico = $ACP(\\mathbf{X},\\mathbf{I}_p,\\frac{1}{n}\\mathbf{I}_n)$, ya visto.\n",
    "2. Imagen geométrica de matrices de varianzas y covarianzas o de correlaciones.\n",
    "3. Imagen geométrica de una matriz de distancias euclidianas.\n",
    "4. Análisis de correspondencias simples (ACS).\n",
    "5. Análisis de correspondencias múltiples.\n"
   ]
  },
  {
   "attachments": {},
   "cell_type": "markdown",
   "metadata": {},
   "source": [
    "### <span style=\"color:blue\"><center>Análisis en componentes principales (ACP)</center></span>"
   ]
  },
  {
   "attachments": {},
   "cell_type": "markdown",
   "metadata": {},
   "source": [
    "<figure> \n",
    "<img src=\"../imagenes/Diagdudipca.png\"  width=\"960\" height=\"960\" align=\"left\"/> \n",
    "</figure>"
   ]
  },
  {
   "attachments": {},
   "cell_type": "markdown",
   "metadata": {},
   "source": [
    "### <span style=\"color:blue\"><center>Imagen geométrica de matrices de correlaciones</center></span>"
   ]
  },
  {
   "attachments": {},
   "cell_type": "markdown",
   "metadata": {},
   "source": [
    "Diagrama de dualidad incompleto = Parte superior del diagrma de dualidad =  $ACP(\\mathbf{V,M})$\n",
    "\n",
    "<figure> \n",
    "<img src=\"../imagenes/DuDiV.png\"  width=\"480\" height=\"480\" align=\"left\"/> \n",
    "</figure>"
   ]
  },
  {
   "attachments": {},
   "cell_type": "markdown",
   "metadata": {},
   "source": [
    "* **V**: matriz de covarianzas o matriz de correlaciones (no se conoce **X**)\n",
    "\n",
    "* $\\mathbf{M}=\\mathbf{I}_p$\n",
    "\n",
    "* Valores y vectores propios de **V**\n",
    "\n",
    "* $\\lambda_1 \\geq \\lambda_2 \\geq \\cdots \\geq \\lambda_p $\n",
    "\n",
    "* $\\mathbf{u}_1, \\mathbf{u}_2, \\cdots, \\mathbf{u}_p$\n",
    "\n",
    "* Coordenadas: $G_s = \\sqrt{\\lambda_s} \\mathbf{u}_s$\n"
   ]
  },
  {
   "attachments": {},
   "cell_type": "markdown",
   "metadata": {},
   "source": [
    "#### Ejemplo: matriz de correlaciones de los componentes del examen de admisión de los admitidos a las siete carreras de la Facultad de Ciencias Unal Bogotá, primer semestre 2013"
   ]
  },
  {
   "attachments": {},
   "cell_type": "markdown",
   "metadata": {},
   "source": [
    "1. Cálculo de la matriz de correlaciones para el ejemplo"
   ]
  },
  {
   "cell_type": "code",
   "execution_count": null,
   "metadata": {
    "vscode": {
     "languageId": "r"
    }
   },
   "outputs": [],
   "source": [
    "library(FactoClass)\n",
    "data(admi)\n",
    "\"Matriz de correlaciones\"\n",
    "V <- cor(admi[,2:6])\n",
    "as.dist(round(V,3)) # matriz de correlaciones\n"
   ]
  },
  {
   "attachments": {},
   "cell_type": "markdown",
   "metadata": {},
   "source": [
    "2. Obtención de las coordenadas de las variables"
   ]
  },
  {
   "cell_type": "code",
   "execution_count": null,
   "metadata": {
    "vscode": {
     "languageId": "r"
    }
   },
   "outputs": [],
   "source": [
    "eigV <- eigen(V)\n",
    "Lambda<-diag(eigV$values)\n",
    "U<-eigV$vectors\n",
    "G<-U%*%sqrt(Lambda)\n",
    "rownames(G)<-colnames(V)\n",
    "round(G,3)"
   ]
  },
  {
   "attachments": {},
   "cell_type": "markdown",
   "metadata": {},
   "source": [
    "3. Selección del número de ejes para lectura e interpretación"
   ]
  },
  {
   "cell_type": "code",
   "execution_count": null,
   "metadata": {
    "vscode": {
     "languageId": "r"
    }
   },
   "outputs": [],
   "source": [
    "barplot(Lambda)\n",
    "\"Promedio de valores propios\"\n",
    "sum(Lambda)/5\n",
    "abline(h=1,col=\"orange\")"
   ]
  },
  {
   "cell_type": "code",
   "execution_count": null,
   "metadata": {
    "vscode": {
     "languageId": "r"
    }
   },
   "outputs": [],
   "source": [
    "valp = diag(Lambda)\n",
    "tablavp = data.frame(valp,porvp=valp*100/sum(valp),\n",
    "                     poracu=cumsum(valp)*100/sum(valp))\n",
    "round(tablavp,2)"
   ]
  },
  {
   "attachments": {},
   "cell_type": "markdown",
   "metadata": {},
   "source": [
    "Dos ejes son suficientes para una lectura sintética de la matriz de correlaciones"
   ]
  },
  {
   "attachments": {},
   "cell_type": "markdown",
   "metadata": {},
   "source": [
    "4. Círculos de correlaciones"
   ]
  },
  {
   "cell_type": "code",
   "execution_count": null,
   "metadata": {
    "vscode": {
     "languageId": "r"
    }
   },
   "outputs": [],
   "source": [
    "# primer círculo de correlaciones\n",
    "s.corcircle(G,fullcircle=FALSE)"
   ]
  },
  {
   "attachments": {},
   "cell_type": "markdown",
   "metadata": {},
   "source": [
    "Sociales y textual tienen entre si una correlación apreciable, los mismo que ciencias y matemáticas; matemáticas y ciencias tienen correlación baja con imagen; imagen prácticamente no está correlacionada con sociales, ni textual. A continuación se presenta, de nuevo, la matriz de correlaciones, para la lectura numérica."
   ]
  },
  {
   "cell_type": "code",
   "execution_count": null,
   "metadata": {
    "vscode": {
     "languageId": "r"
    }
   },
   "outputs": [],
   "source": [
    "as.dist(round(V,3))"
   ]
  },
  {
   "attachments": {},
   "cell_type": "markdown",
   "metadata": {},
   "source": [
    "### <span style=\"color:blue\"><center>Imagen geométrica de matrices de distancias euclidianas = Análisis en coordenadas principales (ACO)</center></span>"
   ]
  },
  {
   "attachments": {},
   "cell_type": "markdown",
   "metadata": {},
   "source": [
    "**D** es una matriz de distancias euclidianas y *nf* el número de ejes a retener para lectura e interpretación."
   ]
  },
  {
   "attachments": {},
   "cell_type": "markdown",
   "metadata": {},
   "source": [
    "#### <span style=\"color:blue\"><center>Diagrama de dualidad incompleto</center></span>"
   ]
  },
  {
   "attachments": {},
   "cell_type": "markdown",
   "metadata": {},
   "source": [
    "<figure> \n",
    "<img src=\"../imagenes/DuDiW.png\"  width=\"480\" height=\"480\" align=\"left\"/> "
   ]
  },
  {
   "attachments": {},
   "cell_type": "markdown",
   "metadata": {},
   "source": [
    "Es la parte inferior del diagrama no se tiene la parte superior porque no se conocen los datos.\n",
    "\n",
    "De la matriz de distancias **D** se obtiene la matriz de productos internos **W**, la métrica **N** suele ser la matriz identidad $n \\times n$ multiplicada por $1/n$. Entonces a la matriz $\\frac{1}{n} \\mathbf{W}$ es a la que se le halla los valores y vectores propios.\n",
    "\n",
    "Estos cálculos y otros se obtienen con la función *dudi.pco{ade4}*.\n"
   ]
  },
  {
   "attachments": {},
   "cell_type": "markdown",
   "metadata": {},
   "source": [
    "#### <span style=\"color:blue\"><center>Función *dudi.pco{ade4}*</center></span>"
   ]
  },
  {
   "attachments": {},
   "cell_type": "markdown",
   "metadata": {},
   "source": [
    "<figure> \n",
    "<img src=\"../imagenes/Diagdudipco.png\"  width=\"960\" height=\"960\" align=\"left\"/> "
   ]
  },
  {
   "attachments": {},
   "cell_type": "markdown",
   "metadata": {},
   "source": [
    "### Ejemplo de juguete: imagen euclidiana de la matriz de distancias el ejemplo café con todas las variables, estandarizadas."
   ]
  },
  {
   "attachments": {},
   "cell_type": "markdown",
   "metadata": {},
   "source": [
    "1. Obtención de la matriz de distancias eucludianas"
   ]
  },
  {
   "cell_type": "code",
   "execution_count": null,
   "metadata": {
    "vscode": {
     "languageId": "r"
    }
   },
   "outputs": [],
   "source": [
    "data(cafe)\n",
    "D=dist(scale(cafe))\n",
    "round(D,2)"
   ]
  },
  {
   "attachments": {},
   "cell_type": "markdown",
   "metadata": {},
   "source": [
    "2. Selección del número de ejes"
   ]
  },
  {
   "cell_type": "code",
   "execution_count": null,
   "metadata": {
    "vscode": {
     "languageId": "r"
    }
   },
   "outputs": [],
   "source": [
    "aco <- dudi.pco(D,scannf=FALSE)\n",
    "barplot(aco$eig,las=1)"
   ]
  },
  {
   "cell_type": "code",
   "execution_count": null,
   "metadata": {
    "vscode": {
     "languageId": "r"
    }
   },
   "outputs": [],
   "source": [
    "round(inertia(aco)$tot.inertia,2)->ineraco\n",
    "ineraco\n",
    "\"Promedio de valores propios\"\n",
    "round(mean(ineraco$inertia),2)"
   ]
  },
  {
   "attachments": {},
   "cell_type": "markdown",
   "metadata": {},
   "source": [
    "Tres valores propios están por encima del promedio y acumulan el 88.7\\% de la inercia."
   ]
  },
  {
   "attachments": {},
   "cell_type": "markdown",
   "metadata": {},
   "source": [
    "3. Primer plano factorial"
   ]
  },
  {
   "cell_type": "code",
   "execution_count": null,
   "metadata": {
    "vscode": {
     "languageId": "r"
    }
   },
   "outputs": [],
   "source": [
    "# para agregar el tercer eje a las tablas del objeto aco\n",
    "aco<-redo.dudi(aco,newnf=3)\n",
    "plot(aco,gg=T,Tcol=FALSE)"
   ]
  },
  {
   "attachments": {},
   "cell_type": "markdown",
   "metadata": {},
   "source": [
    "Se observa que el primer eje ordena los cafes de más contaminados (a la izquierda del plano) y el segundo eje separa los de tostación clara (abajo) de los de tostación oscura (arriba)."
   ]
  },
  {
   "attachments": {},
   "cell_type": "markdown",
   "metadata": {},
   "source": [
    "4. Plano factorial 1-3"
   ]
  },
  {
   "cell_type": "code",
   "execution_count": null,
   "metadata": {
    "vscode": {
     "languageId": "r"
    }
   },
   "outputs": [],
   "source": [
    "plot(aco,1,3,gg=T,Tcol=FALSE)"
   ]
  },
  {
   "attachments": {},
   "cell_type": "markdown",
   "metadata": {},
   "source": [
    "Nótese que el tercer eje separa los dos cafés comerciales de los 10 tratamientos experimentales.\n",
    "\n",
    "\n"
   ]
  },
  {
   "attachments": {},
   "cell_type": "markdown",
   "metadata": {},
   "source": [
    "## <span style=\"color:blue\"><center>Análisis de correspondencias simples (ACS)</center></span>"
   ]
  },
  {
   "attachments": {},
   "cell_type": "markdown",
   "metadata": {},
   "source": [
    "<figure> \n",
    "<img src=\"../imagenes/Diagdudicoa.png\"  width=\"960\" height=\"960\" align=\"left\"/> "
   ]
  },
  {
   "attachments": {},
   "cell_type": "markdown",
   "metadata": {},
   "source": [
    "**K** es una tabla de contingencia, de frecuencias o de números positivos; y *nf* el número de ejes a retener para lectura e interpretación."
   ]
  },
  {
   "attachments": {},
   "cell_type": "markdown",
   "metadata": {},
   "source": [
    "### <span style=\"color:blue\"><center>Ejemplo de juguete</center></span>\n",
    "\n",
    "Tabla de contingencia de admitidos a la Facultad de Ciencias *Carrera x Estrato\n",
    "\n",
    "1. Tablas de: contingencia **K**, de frecuencias relativas **F**, de desviados al modelo de independencia **F**-**A**\n"
   ]
  },
  {
   "cell_type": "code",
   "execution_count": null,
   "metadata": {
    "vscode": {
     "languageId": "r"
    }
   },
   "outputs": [],
   "source": [
    "K<-unclass(table(admi$carr,admi$estr))\n",
    "addmargins(K)"
   ]
  },
  {
   "cell_type": "code",
   "execution_count": null,
   "metadata": {
    "vscode": {
     "languageId": "r"
    }
   },
   "outputs": [],
   "source": [
    "F = K/sum(K)\n",
    "addmargins(round(F*100,1))"
   ]
  },
  {
   "cell_type": "code",
   "execution_count": null,
   "metadata": {
    "vscode": {
     "languageId": "r"
    }
   },
   "outputs": [],
   "source": [
    "# modelo de independencia A\n",
    "A<-rowSums(F)%*%t(colSums(F))\n",
    "colnames(A)<-colnames(F)\n",
    "\"Modelo de independencia en procentaje\"\n",
    "addmargins(round(A*100,1))\n",
    "\"Devios de la independencia en porcentaje\"\n",
    "round((F-A)*100,2)"
   ]
  },
  {
   "attachments": {},
   "cell_type": "markdown",
   "metadata": {},
   "source": [
    "2. Representación geométrica de los perfiles fila (condicionales fila = histogramas fila)"
   ]
  },
  {
   "cell_type": "code",
   "execution_count": null,
   "metadata": {
    "vscode": {
     "languageId": "r"
    }
   },
   "outputs": [],
   "source": [
    "acs<-dudi.coa(K,scannf=FALSE) \n",
    "plot(acs,Tcol=FALSE,xlim=c(-0.7,0.3),cframe=1,asp=1) \n",
    "plotct(K,\"row\",col=c(\"red\",\"yellow\",\"green\"))"
   ]
  },
  {
   "attachments": {},
   "cell_type": "markdown",
   "metadata": {},
   "source": [
    "3. Representación geométrica de los perfiles columna (condicionales)"
   ]
  },
  {
   "cell_type": "code",
   "execution_count": null,
   "metadata": {
    "vscode": {
     "languageId": "r"
    }
   },
   "outputs": [],
   "source": [
    "plot(acs,Trow=FALSE,asp=1) \n",
    "plotct(t(K),\"row\",col=2:8)"
   ]
  },
  {
   "attachments": {},
   "cell_type": "markdown",
   "metadata": {},
   "source": [
    "3. Representación superpuesta o simultánea"
   ]
  },
  {
   "attachments": {},
   "cell_type": "markdown",
   "metadata": {},
   "source": [
    "<center>\n",
    "<img src=\"https://www.researchgate.net/profile/Alfonso-Zavaleta-3/publication/33552394/figure/fig1/AS:645104205312001@1530816236474/Figura-1-Esquema-de-la-representacion-simultanea-del-analisis-de-correspondencias-simple.png\" alt=\"Relaciones cuasibaricéntricas\" width=\"350\" height=\"450\">\n",
    "<center>"
   ]
  },
  {
   "cell_type": "code",
   "execution_count": null,
   "metadata": {
    "vscode": {
     "languageId": "r"
    }
   },
   "outputs": [],
   "source": [
    "plot(acs,xlim=c(-0.7,0.3),cframe=1,\n",
    "     main=\"Representación simultanea de carreras y estratos\")"
   ]
  },
  {
   "attachments": {},
   "cell_type": "markdown",
   "metadata": {},
   "source": [
    "4. Ayudas para la interpretación"
   ]
  },
  {
   "cell_type": "code",
   "execution_count": null,
   "metadata": {
    "vscode": {
     "languageId": "r"
    }
   },
   "outputs": [],
   "source": [
    "ayuacs<-inertia(acs,T,T)\n",
    "# carreras\n",
    "round(cbind(acs$li,Ca=ayuacs$row.abs,cos2=ayuacs$row.rel,conInercia=ayuacs$row.contrib),2)\n",
    "# estratos\n",
    "round(cbind(acs$co,Ca=ayuacs$col.abs,cos2=ayuacs$col.rel,conInercia=ayuacs$col.contrib),2)"
   ]
  },
  {
   "attachments": {},
   "cell_type": "markdown",
   "metadata": {},
   "source": [
    "## <span style=\"color:blue\"><center>Análisis de correspondencias múltiples (ACM)</center></span>"
   ]
  },
  {
   "attachments": {},
   "cell_type": "markdown",
   "metadata": {},
   "source": [
    "<figure> \n",
    "<img src=\"../imagenes/Diagdudiacm.png\"  width=\"960\" height=\"960\" align=\"left\"/> "
   ]
  },
  {
   "attachments": {},
   "cell_type": "markdown",
   "metadata": {},
   "source": [
    "**Y** es una tabla individuos $\\times$ variables cualitativas y *nf* el número de ejes a retener para lectura e interpretación. En el objeto de salida *cr* son las razones de correlación entre las variables cualitativas y los ejes factoriales."
   ]
  },
  {
   "attachments": {},
   "cell_type": "markdown",
   "metadata": {},
   "source": [
    "### <span style=\"color:blue\"><center>Ejemplo: descripción de admitidos según algunas variables sociodemográficas</center></span>"
   ]
  },
  {
   "attachments": {},
   "cell_type": "markdown",
   "metadata": {},
   "source": [
    "- Descripción de los 445 admitidos a la Facultad de Ciencias, para el semestre de 2013-I.\n",
    "- Datos disponibles en *admi{FactoClass}*\n",
    "- Se utilizan como variables activas las sociodemográficas disponibles: \n",
    "    - Género: Femenino, Masculino\n",
    "    - Edad: 16 o menos, 17, 18, 19 o más\n",
    "    - Estrato: bajo, medio, alto\n",
    "    - Procedencia: Bogotá, Cundinamarca, Otro\n"
   ]
  },
  {
   "attachments": {},
   "cell_type": "markdown",
   "metadata": {},
   "source": [
    "1. Tabla de datos"
   ]
  },
  {
   "cell_type": "code",
   "execution_count": null,
   "metadata": {
    "vscode": {
     "languageId": "r"
    }
   },
   "outputs": [],
   "source": [
    "Y<-admi[,8:11]\n",
    "\"Dimensiones de Y\"\n",
    "dim(Y)"
   ]
  },
  {
   "attachments": {},
   "cell_type": "markdown",
   "metadata": {},
   "source": [
    "Extracto de la tabla de datos: filas múltiples de 25"
   ]
  },
  {
   "cell_type": "code",
   "execution_count": null,
   "metadata": {
    "vscode": {
     "languageId": "r"
    }
   },
   "outputs": [],
   "source": [
    "sel<-seq(25,425,25); Y[sel,]"
   ]
  },
  {
   "attachments": {},
   "cell_type": "markdown",
   "metadata": {},
   "source": [
    "2. Tabla disyuntiva completa (TDC): **Z** = codificación *dot hot*\n",
    "\n",
    "Tabla de admitidos x categorías"
   ]
  },
  {
   "cell_type": "code",
   "execution_count": null,
   "metadata": {
    "vscode": {
     "languageId": "r"
    }
   },
   "outputs": [],
   "source": [
    "Z<-acm.disjonctif(Y)\n",
    "\"Dimensiones de Z\"\n",
    "dim(Z)\n",
    "names(Z)<-substr(names(Z),6,8)\n",
    "Z[sel,] #sel<-seq(25,425,25)"
   ]
  },
  {
   "attachments": {},
   "cell_type": "markdown",
   "metadata": {},
   "source": [
    "3. Tabla de Burt\n",
    "\n",
    "Tabla de categoría x categorías denominada también tabla de contingencias múltiples"
   ]
  },
  {
   "cell_type": "code",
   "execution_count": null,
   "metadata": {
    "vscode": {
     "languageId": "r"
    }
   },
   "outputs": [],
   "source": [
    "Z<-as.matrix(Z)\n",
    "B<-t(Z)%*%Z\n",
    "B"
   ]
  },
  {
   "attachments": {},
   "cell_type": "markdown",
   "metadata": {},
   "source": [
    "4. Selección del número de ejes para la lectura e interpretación"
   ]
  },
  {
   "cell_type": "code",
   "execution_count": null,
   "metadata": {
    "vscode": {
     "languageId": "r"
    }
   },
   "outputs": [],
   "source": [
    "acm<-dudi.acm(Y,scannf=FALSE,nf=3)\n",
    "inertia(acm)\n",
    "barplot(acm$eig,main=\"Barplot eigen-values\")\n",
    "#linea verde promedio de los valores propios\n",
    "abline(h=sum(acm$eig)/8,col=\"darkgreen\")\n",
    "#mayores a linea roja, 1/4 (4 es el número de variables)\n",
    "#ejes no parásitos (ver criterio de Benzécri)\n",
    "#(+0.002 para que no tape la linea verde)\n",
    "abline(h=1/4+0.002,col=\"red\") "
   ]
  },
  {
   "attachments": {},
   "cell_type": "markdown",
   "metadata": {},
   "source": [
    "Se seleccionaron 3 ejes, con los tres criterios\n",
    "- Forma del histograma\n",
    "- Valores propios superiores el promedio de ellos\n",
    "- Valores propios superiores a *1/s* (s es el número de variables --aquí 4--)"
   ]
  },
  {
   "attachments": {},
   "cell_type": "markdown",
   "metadata": {},
   "source": [
    "5. Representación de los individuos (admitidos)"
   ]
  },
  {
   "cell_type": "code",
   "execution_count": null,
   "metadata": {
    "vscode": {
     "languageId": "r"
    }
   },
   "outputs": [],
   "source": [
    "plot(acm,Tcol=FALSE,gg=TRUE,roweti=sel,main=\"Factores 1-2 del ACM\")"
   ]
  },
  {
   "attachments": {},
   "cell_type": "markdown",
   "metadata": {},
   "source": [
    "6. Representación de las categorías"
   ]
  },
  {
   "cell_type": "code",
   "execution_count": null,
   "metadata": {
    "vscode": {
     "languageId": "r"
    }
   },
   "outputs": [],
   "source": [
    "plot(acm,Trow=FALSE,gg=TRUE,main=\"Factores 1-2\")"
   ]
  },
  {
   "attachments": {},
   "cell_type": "markdown",
   "metadata": {},
   "source": [
    "Coordenadas y ayudas para la interpretación de las categoría en los tres primeros ejes"
   ]
  },
  {
   "cell_type": "code",
   "execution_count": null,
   "metadata": {
    "vscode": {
     "languageId": "r"
    }
   },
   "outputs": [],
   "source": [
    "ayuacm<-inertia(acm,,T)\n",
    "round(cbind(acm$co,ayuacm$col.abs,ayuacm$col.rel,contColumna=ayuacm$col.contrib),2)\n",
    "\"Porcentaje de contribución promedio de las categorías\"\n",
    "round(sum(acm$eig)/12*100,2)"
   ]
  },
  {
   "attachments": {},
   "cell_type": "markdown",
   "metadata": {},
   "source": [
    "7. Representación simultánea de individuos (admitidos) x categorías"
   ]
  },
  {
   "cell_type": "code",
   "execution_count": null,
   "metadata": {
    "vscode": {
     "languageId": "r"
    }
   },
   "outputs": [],
   "source": [
    "plot(acm,roweti=\"\",main=\"Representación simultanea 1er plano\")"
   ]
  },
  {
   "attachments": {},
   "cell_type": "markdown",
   "metadata": {},
   "source": [
    "8. Representación de las variables (razones de correlación)"
   ]
  },
  {
   "cell_type": "code",
   "execution_count": null,
   "metadata": {
    "vscode": {
     "languageId": "r"
    }
   },
   "outputs": [],
   "source": [
    "plotfp(acm$cr,main=\"Factores 1-2, radios de correlación\") # función de FactoClass"
   ]
  },
  {
   "attachments": {},
   "cell_type": "markdown",
   "metadata": {},
   "source": [
    "9. Proyección de las carreras como variable cualitativa suplementaria"
   ]
  },
  {
   "cell_type": "code",
   "execution_count": null,
   "metadata": {
    "vscode": {
     "languageId": "r"
    }
   },
   "outputs": [],
   "source": [
    "supCarr<-supqual(acm,admi$carr)\n",
    "attach(supCarr)\n",
    "\"Coordenadas y ayudas para la interpretación\"\n",
    "data.frame(ncat,dis2,coor=round(coor,3),valt=round(tv,3),cos2=round(cos2,4))\n",
    "\"Razones de correlación\"\n",
    "round(scr*100,2)\n",
    "detach(supCarr)\n",
    "plot(acm,Trow =FALSE,infaxes=\"no\",main=\"Plano 1-2\",\n",
    "ylim =c( -1.5 ,1.3) , col.col=\" black \")\n",
    "points( supCarr$coor ,col =\"darkgreen\")\n",
    "text(supCarr$coor , labels = attributes (admi[,1])$levels ,\n",
    "col =\"darkgreen\",pos =1, cex =0.8 , font =3)"
   ]
  },
  {
   "attachments": {},
   "cell_type": "markdown",
   "metadata": {},
   "source": [
    "- Sólo es legítimo interpretar como diferente de cero las coordenadas de: \n",
    "- Química (-) sobre el primer eje, Matemáticas (+) sobre el segundo eje; y Geología (-) opuesto a Farmacia (+) sobre el tercer eje.  \n",
    " - Química  tiene, en comparación al promedio, mayor proporción de admitidos de  estrato bajo y origen fuera de Bogotá,\n",
    " - Matemáticas  de 19 o más años, \n",
    " - Geología de 17 años y de estrato alto,  \n",
    " - Farmacia de 18 años y género femenino. "
   ]
  },
  {
   "attachments": {},
   "cell_type": "markdown",
   "metadata": {},
   "source": [
    "10. El ACM como método de pretratamiento de variables cualitativas: cuantificación, filtro y reducción de dimensión"
   ]
  },
  {
   "attachments": {},
   "cell_type": "markdown",
   "metadata": {},
   "source": [
    "<figure> \n",
    "<img src=\"../imagenes/clasVarNom.png\"  width=\"600\" height=\"600\" align=\"left\"/> "
   ]
  },
  {
   "attachments": {},
   "cell_type": "markdown",
   "metadata": {},
   "source": [
    "1. De la tabla de individuos por variables cualitativas (nominales o ordinales) se pasa a una tabla de individuos x variables cuantitativas (coordenadas factoriales). Es un mecanismo de cuantificación.\n",
    "\n",
    "2. Al proceso de agrupamiento (clasificación no supervisada) no se toman todos los ejes sino los *S* primeros (valor a determinar). Mecanismo de filtro y de reducción de dimensión.\n",
    "\n",
    "3. Cualquier procedimiento estadístico, de minería o aprendizaje para variables cuantitativas puede hacerse a partir de la tabla de coordenadas factoriales. En discriminación (clasificación supervisada) es también un mecanismo de regularización.\n",
    "\n",
    "4. Nótese que no es lo mismo hacer ACP de una codificación *dot hot*, tabla de ceros y unos de individuos por categorías. El ACM es el análisis de correspondencias (AC) de una tabla *dot hot*, indicadora de varias particiones del conjunto de datos.\n",
    "\n",
    "5. La presentación de los métodos, cada uno como un ACP generalizado particular, permite programarlos con programas de ACP, con las transformaciones necesarias.\n"
   ]
  },
  {
   "attachments": {},
   "cell_type": "markdown",
   "metadata": {
    "id": "lFZXRXoOTrsJ"
   },
   "source": [
    "# Muchas gracias por su atención\n",
    "\n",
    "Campo Elías Pardo, Email: cepardot@unal.edu.co"
   ]
  }
 ],
 "metadata": {
  "colab": {
   "collapsed_sections": [],
   "provenance": []
  },
  "kernelspec": {
   "display_name": "R",
   "language": "R",
   "name": "ir"
  },
  "language_info": {
   "codemirror_mode": "r",
   "file_extension": ".r",
   "mimetype": "text/x-r-source",
   "name": "R",
   "pygments_lexer": "r",
   "version": "4.3.1"
  }
 },
 "nbformat": 4,
 "nbformat_minor": 4
}
