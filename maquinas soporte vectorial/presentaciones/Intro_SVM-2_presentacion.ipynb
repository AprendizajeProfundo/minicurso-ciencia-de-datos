{
 "cells": [
  {
   "cell_type": "markdown",
   "id": "fe7e97fe-2121-4e3d-bba0-e5208d5256d8",
   "metadata": {
    "slideshow": {
     "slide_type": "slide"
    },
    "tags": []
   },
   "source": [
    "<figure> \n",
    "<img src=\"../imagenes/logo-final-ap.png\"  width=\"80\" height=\"80\" align=\"left\"/> \n",
    "</figure>\n",
    "\n",
    "# <span style=\"color:blue\"><left>Aprendizaje Profundo</left></span>"
   ]
  },
  {
   "cell_type": "markdown",
   "id": "9600e515-624c-431d-8d62-89e170ebdec3",
   "metadata": {},
   "source": [
    "# <span style=\"color:red\"><center>Minicurso de Ciencia de Datos<center></span>"
   ]
  },
  {
   "cell_type": "markdown",
   "id": "33dd1c20-4b26-43bb-b456-7babcc2ed154",
   "metadata": {},
   "source": [
    "## <span style=\"color:Green\"><center>Máquinas de Soporte Vectorial</center></span>"
   ]
  },
  {
   "cell_type": "markdown",
   "id": "5204bb7f-3b22-45fe-a7b9-8e8772e936b7",
   "metadata": {},
   "source": [
    "<figure> \n",
    "<img src=\"../imagenes/Paisaje-azul.jpg\"  width=\"600\" height=\"600\" align=\"center\"/> \n",
    "</figure>\n",
    "\n",
    "Fuente [Wiki-commons](https://commons.wikimedia.org/w/index.php?search=paisaje+mar&title=Special:MediaSearch&go=Go&type=image)"
   ]
  },
  {
   "cell_type": "markdown",
   "id": "779854a9-3c83-4024-81fb-0cbfc835a903",
   "metadata": {
    "slideshow": {
     "slide_type": "slide"
    },
    "tags": []
   },
   "source": [
    "## <span style=\"color:blue\">Profesores</span>"
   ]
  },
  {
   "cell_type": "markdown",
   "id": "2259f06b-5c6a-4a1a-84c9-8303cfd03e52",
   "metadata": {},
   "source": [
    "1. Alvaro  Montenegro, PhD, ammontenegrod@unal.edu.co\n",
    "1. Campo Elías Pardo, PhD, cepardot@unal.edu.co\n",
    "1. Daniel  Montenegro, Msc, dammontenegrore@unal.edu.co\n",
    "1. Oleg Jarma, Estadístico, ojarmam@unal.edu.co "
   ]
  },
  {
   "cell_type": "markdown",
   "id": "7b8ea0f5-e944-41f0-b0cd-a24c89dcdb45",
   "metadata": {},
   "source": [
    "## <span style=\"color:blue\">Equipo de Marketing</span>"
   ]
  },
  {
   "cell_type": "markdown",
   "id": "11e7879d-0fe7-42c9-9480-9af48cca3f4f",
   "metadata": {},
   "source": [
    "1. Maria del Pilar Montenegro, pmontenegro88@gmail.com\n",
    "1. Laura Mondragón, laura.mondragon2125@gmail.com\n",
    "1. Jessica López, jelopezme@unal.edu.co"
   ]
  },
  {
   "cell_type": "markdown",
   "id": "e557f061-26fd-49a3-94e8-9a0b8a549ea3",
   "metadata": {
    "slideshow": {
     "slide_type": "slide"
    },
    "tags": []
   },
   "source": [
    "## <span style=\"color:blue\"><center>Separadores lineales</center></span>"
   ]
  },
  {
   "cell_type": "markdown",
   "id": "9646d72d-425e-478e-bda1-89d0505e53ed",
   "metadata": {
    "slideshow": {
     "slide_type": "slide"
    },
    "tags": []
   },
   "source": [
    "### <span style=\"color:#4CC9F0\">Separando el plano 2D linealmente</span>"
   ]
  },
  {
   "cell_type": "markdown",
   "id": "0fa61820-4143-4957-af9b-07715cc5955d",
   "metadata": {
    "slideshow": {
     "slide_type": "slide"
    },
    "tags": []
   },
   "source": [
    "Una línea recta separa el plano en dos partes disyuntas. Una recta es determinada por la ecuación\n",
    "\n",
    "$$\n",
    "\\large{\n",
    "y = w_1 x + b\n",
    "}\n",
    "$$\n",
    "\n",
    "El ejemplo muestra como la recta $y=2x+1$ divide el plan en tres partes disyuntas:"
   ]
  },
  {
   "cell_type": "markdown",
   "id": "839ed7d7-8d39-4647-8fae-8ca1cc6936d9",
   "metadata": {
    "slideshow": {
     "slide_type": "subslide"
    },
    "tags": []
   },
   "source": [
    "<figure>\n",
    "    <center>\n",
    "        <img src=\"../imagenes/recta.png\" align=\"center\"/> \n",
    "            <figcaption>Recta dividiendo el plano. Fuente: Alvaro Montenegro\n",
    "            </figcaption>\n",
    "    </center>\n",
    "</figure>"
   ]
  },
  {
   "cell_type": "markdown",
   "id": "71f1c605-cd28-4ba0-a5c6-0dd0f0e32866",
   "metadata": {
    "slideshow": {
     "slide_type": "subslide"
    },
    "tags": []
   },
   "source": [
    "### <span style=\"color:#4CC9F0\">Un plano separando el espacio 3D linealmente</span>"
   ]
  },
  {
   "cell_type": "markdown",
   "id": "08dbcb51-8cd5-4564-b999-c68a00aceca3",
   "metadata": {
    "slideshow": {
     "slide_type": "subslide"
    },
    "tags": []
   },
   "source": [
    "Una plano separa el espacio en tres partes disyuntas. Un plano es determinado por la ecuación\n",
    "\n",
    "$$\n",
    "\\large{\n",
    "z = w_1 x +w_2 y + b\n",
    "}\n",
    "$$\n",
    "\n",
    "El ejemplo muestra como el plano $z = 3x+ - 2y + 3$ divide el plan en tres partes disyuntas:"
   ]
  },
  {
   "cell_type": "markdown",
   "id": "bf6a7609-9db3-4e2a-9393-b039f648b779",
   "metadata": {},
   "source": [
    "<figure>\n",
    "    <center>\n",
    "        <img src=\"../imagenes/plano.png\" align=\"center\"/> \n",
    "            <figcaption>Plano dividiendo el el espacio 3D. \n",
    "            </figcaption>\n",
    "    </center>\n",
    "</figure>\n",
    "\n",
    "Fuente: Alvaro Montenegro"
   ]
  },
  {
   "cell_type": "markdown",
   "id": "8165c7e8-cb47-45cc-883b-ecf27fdbe31e",
   "metadata": {
    "slideshow": {
     "slide_type": "subslide"
    },
    "tags": []
   },
   "source": [
    "## <span style=\"color:blue\"><center>Datos separables linealmente en un espacio euclideano $\\mathfrak{R}^n$ </center></span>"
   ]
  },
  {
   "cell_type": "markdown",
   "id": "3fd8dca6-ac4e-4655-b5cb-8bdb8e26f6d4",
   "metadata": {
    "slideshow": {
     "slide_type": "subslide"
    },
    "tags": []
   },
   "source": [
    "### <span style=\"color:#4CC9F0\">Sobre los datos</span>"
   ]
  },
  {
   "cell_type": "markdown",
   "id": "8c8e44cd-2f6c-4113-86f3-2a15176e463e",
   "metadata": {
    "slideshow": {
     "slide_type": "subslide"
    },
    "tags": []
   },
   "source": [
    "En esta presentación vamos a considerar conjuntos de datos $S$ determinados por\n",
    "\n",
    "$$\n",
    "\\large{\n",
    "S= \\{ (\\mathbf{x}_1, y_1), \\ldots, (\\mathbf{x}_p, y_p  ))\\}\n",
    "},\n",
    "$$\n",
    "\n",
    "en donde cada $\\mathbf{x}$ es un vector en algún espacio euclidiano, digamos $\\mathfrak{R}^n$. Cada componente es una característica (`feature`) de un individuo, y diremos que $\\mathbf{x}$  es un vector de características. \n",
    "\n",
    "Por otro lado estaremos interesados en problemas de aprendizaje supervisado. Así que las $y$'s representan etiquetas para los datos. Por simplicidad de nuestra exposición supondremos que la etiquetas son elementos del conjunto \n",
    "\n",
    "$$\n",
    "\\large{\n",
    "Y = \\{-1, 1\\}\n",
    "}.\n",
    "$$"
   ]
  },
  {
   "cell_type": "markdown",
   "id": "12746dfd-4af2-4d33-a4c6-9dd4fabfd6c1",
   "metadata": {
    "slideshow": {
     "slide_type": "subslide"
    },
    "tags": []
   },
   "source": [
    "### <span style=\"color:#4CC9F0\">Hiperplanos</span>"
   ]
  },
  {
   "cell_type": "markdown",
   "id": "489465c5-d328-4049-ae96-a305048d9ba0",
   "metadata": {
    "slideshow": {
     "slide_type": "subslide"
    },
    "tags": []
   },
   "source": [
    "Un hiperplano en el espacio euclidiano $\\mathfrak{R}^{n}$ es la generalización de la recta en $\\mathfrak{R}^2$ y del plano en $\\mathfrak{R}^3$. Un hiperplano es una espacio de dimensión $n$ sumergido en el espacio euclidiano $\\mathfrak{R}^{n}$ y se define como el conjunto de puntos $\\mathbf{x} \\in \\mathfrak{R}^{n}$ que satisfacen la ecuación\n",
    "\n",
    "$$\n",
    "\\large{\n",
    "w_1 x_1 +w_2 x_2, \\ldots,w_{n}x_{n} + b = 0.\n",
    "}\n",
    "$$\n",
    "\n",
    "El vector $\\mathbf{w} = (w_1, \\ldots, w_n)$ se denominará `vector de pesos` y el número $b$ se denominará `umbral` o sesgo. Observe que un hiperplano en $\\mathfrak{R}^{n}$ queda complemetamente determinado por la pareja $(\\mathbf{w},b)$"
   ]
  },
  {
   "cell_type": "markdown",
   "id": "1dce52e6-318a-4034-b0fa-58a4fea2ac3c",
   "metadata": {
    "slideshow": {
     "slide_type": "subslide"
    },
    "tags": []
   },
   "source": [
    "### <span style=\"color:#4CC9F0\">Datos separables linealmente en un espacio euclidiano $\\mathfrak{R}^{n}$</span>"
   ]
  },
  {
   "cell_type": "markdown",
   "id": "9f6958bb-48f8-4dde-bbb6-cb3a2f393777",
   "metadata": {
    "slideshow": {
     "slide_type": "subslide"
    },
    "tags": []
   },
   "source": [
    "Decimos que el el conjunto de puntos $S$ es linealmente separable en  $\\mathfrak{R}^{n}$ si  existe un hiperplano $(\\mathbf{w},b)$ en  $\\mathfrak{R}^{n}$ talque\n",
    "\n",
    "$$\n",
    "\\begin{align}\n",
    "w_1 x_1 +w_2 x_2, \\ldots,w_{n}x_{n} + b < 0, \\quad &\\text{ cuando } y=-1\\\\\n",
    "w_1 x_1 +w_2 x_2, \\ldots,w_{n}x_{n} + b > 0, \\quad &\\text{ cuando } y = 1\n",
    "\\end{align}\n",
    "$$"
   ]
  },
  {
   "cell_type": "markdown",
   "id": "a2b141c1-3b2c-46b0-b8b4-2608b7c2c104",
   "metadata": {
    "slideshow": {
     "slide_type": "subslide"
    },
    "tags": []
   },
   "source": [
    "### <span style=\"color:#4CC9F0\">Hiperplanos separadores de un conjunto de puntos</span>"
   ]
  },
  {
   "cell_type": "markdown",
   "id": "c3d903ea-0a0c-4b13-9f9f-af0a60f38f5a",
   "metadata": {
    "slideshow": {
     "slide_type": "subslide"
    },
    "tags": []
   },
   "source": [
    "Un hiperplano $(\\mathbf{w},b)$ que separa linealmente al conjunto de puntos $S$ se denomina hiperplano separador del conjunto $S$. \n",
    "\n",
    "Cuando el conjunto de puntos $S$ es separable linealmente, pueden existir infinitos planos separadores  para $S$. ¿Puede imaginar porque?"
   ]
  },
  {
   "cell_type": "markdown",
   "id": "477e4490-7dd6-4f6e-a48d-3f9adc711de5",
   "metadata": {
    "tags": []
   },
   "source": [
    "<figure>\n",
    "    <center>\n",
    "        <img src=\"../imagenes/datos_separables_recta.png\" align=\"center\"/> \n",
    "            <figcaption>Datos separables por una línea recta. \n",
    "            </figcaption>\n",
    "    </center>\n",
    "</figure>\n",
    "\n",
    "Fuente: Alvaro Montenegro"
   ]
  },
  {
   "cell_type": "markdown",
   "id": "4f31f2e1-470e-4271-96f4-81a9a1763bd8",
   "metadata": {
    "tags": []
   },
   "source": [
    "## <span style=\"color:blue\"><center>Datos separables linealmente en 3D</center></span>"
   ]
  },
  {
   "cell_type": "markdown",
   "id": "0c622fd1-98bb-4e78-9834-8103dca1d42c",
   "metadata": {},
   "source": [
    "<figure>\n",
    "    <center>\n",
    "        <img src=\"../imagenes/puntos_separables_3D.png\" align=\"center\"/> \n",
    "            <figcaption>Datos separables por un plano en 3D. \n",
    "            </figcaption>\n",
    "    </center>\n",
    "</figure>\n",
    "\n",
    "Fuente: Alvaro Montenegro"
   ]
  },
  {
   "cell_type": "markdown",
   "id": "e186b6e5-1703-4c31-a85a-c91974fadafc",
   "metadata": {
    "tags": []
   },
   "source": [
    "## <span style=\"color:blue\"><center>Datos no separables linealmente en 2D</center></span>"
   ]
  },
  {
   "cell_type": "markdown",
   "id": "d74c7f4a-1731-4c54-8fc9-766e083ba3a9",
   "metadata": {},
   "source": [
    "El siguiente ejemplo presenta un conjunto de datos en $\\mathfrak{R}^2$ que no pueden separarse linealmente."
   ]
  },
  {
   "cell_type": "code",
   "execution_count": null,
   "id": "5090841e-9bcb-49d7-bb3e-59ccfc66c78e",
   "metadata": {
    "tags": []
   },
   "outputs": [],
   "source": [
    "%matplotlib widget\n",
    "\n",
    "import matplotlib.pyplot as plt\n",
    "from mpl_toolkits.mplot3d import Axes3D\n",
    "import numpy as np\n",
    "\n",
    "num_in = 100\n",
    "num_out = 150\n",
    "\n",
    "np.random.seed(seed=100)\n",
    "radio_in = np.sqrt(np.random.rand(num_in))\n",
    "radio_out = np.sqrt(np.random.rand(num_out)) + 1.0\n",
    "\n",
    "theta_in = np.random.rand(num_in) * 2 * np.pi -np.pi\n",
    "theta_out = np.random.rand(num_out) * 2* np.pi - np.pi\n",
    "\n",
    "x_in = radio_in * np.cos(theta_in)\n",
    "y_in = radio_in * np.sin(theta_in)\n",
    "\n",
    "x_out = radio_out * np.cos(theta_out)\n",
    "y_out = radio_out * np.sin(theta_out)\n",
    "\n",
    "\n",
    "plt.close('all')\n",
    "fig = plt.figure(figsize=(6, 6))\n",
    "plt.scatter(x_out, y_out, color ='red')\n",
    "plt.scatter(x_in, y_in, color ='blue')\n",
    "# círculo\n",
    "_t = np.arange(0,7,0.1)\n",
    "_x = np.cos(_t)\n",
    "_y = np.sin(_t)\n",
    "plt.plot(_x,_y,'g-')\n",
    "plt.xlim(-2,2)\n",
    "plt.ylim(-2, 2)\n",
    "plt.xlabel('x')\n",
    "plt.ylabel('y')\n",
    "plt.title('Datos no separables linealmente')\n",
    "plt.grid(True)\n",
    "plt.savefig('../imagenes/imag.png')\n",
    "plt.show()"
   ]
  },
  {
   "cell_type": "markdown",
   "id": "82030bd0-e07d-4216-91c3-dded06826733",
   "metadata": {},
   "source": [
    "<figure>\n",
    "    <center>\n",
    "        <img src=\"../imagenes/imag.png\" width=\"600\" height=\"600\" align=\"center\"/> \n",
    "            <figcaption>Fuente: Alvaro Montenegro\n",
    "            </figcaption>\n",
    "    </center>\n",
    "</figure>"
   ]
  },
  {
   "cell_type": "markdown",
   "id": "d9b6ed25-b38d-4780-877f-76f9f3ffa72b",
   "metadata": {
    "slideshow": {
     "slide_type": "subslide"
    },
    "tags": []
   },
   "source": [
    "## <span style=\"color:blue\">Transformando los datos para que sean linealmente separables</span>"
   ]
  },
  {
   "cell_type": "markdown",
   "id": "82fb1f22-0863-4752-9dbf-aa1d744b9cd8",
   "metadata": {
    "slideshow": {
     "slide_type": "subslide"
    },
    "tags": []
   },
   "source": [
    "Existen diferentes estrategias que permiten transformar un conjunto de datos no separable en otro que si sea separable. El **truco** es subir a un espacio más grande. veamos como podríamos hacerlo en el anterior ejemplo.\n",
    "\n",
    "El truco es usar la siguiente transformación de los datos\n",
    "\n",
    "$$\n",
    "\\large{\n",
    "(x,y) \\mapsto (x,y, x^2 + y^2)\n",
    "}.\n",
    "$$\n",
    "\n",
    "Observe que el conjunto de datos transformado ahora está en $\\mathfrak{R}^3$ y ya es separable linealmente.\n",
    "\n",
    "El problema en la practica es diseñar procedimientos generales para tratar de incrustar los datos en un espacio más grande, que llamaremos espacio de características o `feature space`, de tal manera que los datos transformados sean separables (o `casi separables, en el sentido de un error pequeño`) en ese espacio.\n",
    "\n",
    "**Invitamos a imaginar como sería un plano separador en este caso**."
   ]
  },
  {
   "cell_type": "markdown",
   "id": "8fbb1f77-30ac-4c17-960c-7956c1d35637",
   "metadata": {},
   "source": [
    "<figure>\n",
    "    <center>\n",
    "        <img src=\"../imagenes/transformation_1.png\" width=\"600\" height=\"600\" align=\"center\"/> \n",
    "            <figcaption>Transformación de los datos a un espacio con más dimensiones\n",
    "            </figcaption>\n",
    "    </center>\n",
    "</figure>\n",
    "\n",
    "Fuente: Alvaro Montenegro"
   ]
  },
  {
   "cell_type": "markdown",
   "id": "7609aedd-c197-4cca-b810-7b9989e65030",
   "metadata": {},
   "source": [
    "Si ha observado detenidamente los separadores lineales presentados antes, es decir las líneas rectas y los planos pueden escribirse de la siguiente manera genérica.\n",
    "\n",
    "$$\n",
    "\\large{w'x - b  = w_1x_1 + w_2x_2 + \\ldots w_nx_n -b = 0},\n",
    "$$\n",
    "\n",
    "En donde $w$ es el parámetro del modelo que tiene dimensión geométrica $n-1$ en relación con la dimensión $n$ del espacio geométrico que separa. Por ejemplo si estamos en el espacio 3D, se tiene que n=3 y que entonces un separador lineal es un plano con ecuación\n",
    "\n",
    "$$\n",
    "\\large{w_1 x_1 + w_2x_2 - b =  0},\n",
    "$$\n",
    "\n",
    "En ocasiones se reescribe el vector $w$ en la forma $(w_0, \\dots, w_n)$ y $x = (1, x_1 \\ldots x_n)$, con lo cual ahora la ecuación del separador lineal toma la forma\n",
    "\n",
    "\n",
    "$$\n",
    "\\large{ w'x = w_0 1 + w_1x_1 + \\ldots w_nx_n = 0},\n",
    "$$\n",
    "\n",
    "Se dice que esta ecuación define un hiperplano separador en  el espacio euclidiano de dimensión $n$, denotado $\\mathfrak{R}^n$."
   ]
  },
  {
   "cell_type": "markdown",
   "id": "3af5ec04-7ac0-4f5f-8cac-3f63b6c6a83f",
   "metadata": {},
   "source": [
    "Como vimos antes, un hiperplano de dimensión $n-1$ separa el correspndiente espacio euclidiano en subespacios:\n",
    "\n",
    "<figure>\n",
    "    <center>\n",
    "        <img src=\"../imagenes/recta.png\" width= 200 heigh = 200 align=\"center\"/> \n",
    "            <figcaption>Recta dividiendo el plano. Fuente: Alvaro Montenegro\n",
    "            </figcaption>\n",
    "    </center>\n",
    "</figure>"
   ]
  },
  {
   "cell_type": "markdown",
   "id": "8e32486b-4f31-4165-b569-a4c20aa0592f",
   "metadata": {},
   "source": [
    "El hiperplano que corresponde al conjunto de puntos $x$ que cumplen con la ecuación\n",
    "$$\n",
    "\\large{ w'x = w_0 1 + w_1x_1 + \\ldots w_nx_n = 0},\n",
    "$$\n",
    "\n",
    "que llamaremos `puntos neutros, indiferentes o de frontera`.\n",
    "\n",
    "* El subespacio de los puntos que están *'por encima'* del hiperplano, que llamaremos `puntos positivos`  es decir los puntos $x$ que satisfacen\n",
    "$$\n",
    "\\large{ w'x = w_0 1 + w_1x_1 + \\ldots w_nx_n > 0}.\n",
    "$$\n",
    "\n",
    "* El subespacio de los puntos que están *'por debajo* del hiperplano que llamaremos `puntos negativos`, es decir los puntos x auq satisfacen\n",
    "$$\n",
    "\\large{ w'x = w_0 1 + w_1x_1 + \\ldots w_nx_n < 0}.\n",
    "$$"
   ]
  },
  {
   "cell_type": "markdown",
   "id": "8a40001b-b389-492f-a748-cd341cb30f73",
   "metadata": {
    "tags": []
   },
   "source": [
    "## <span style=\"color:blue\"><center>Producto escalar</center></span>"
   ]
  },
  {
   "cell_type": "markdown",
   "id": "c88401f3-4e42-4a1b-baae-3de87ab6d8b0",
   "metadata": {},
   "source": [
    "Si se tenemos dos vectores en el  plano, digamos $(x,y)$ y $(u,w)$, el producto escalar entre estos dos vectores es definido por\n",
    "\n",
    "\n",
    "$$\n",
    "\\large{(x,y)\\begin{pmatrix}x \\\\ y \\end{pmatrix}} = x\\ast u + y\\ast w.\n",
    "$$\n",
    "\n",
    "\n",
    "<figure>\n",
    "    <center>\n",
    "        <img src=\"../imagenes/Animación_del_producto_escala.gif\"  width=\"600\" height=\"600\" align=\"center\"/> \n",
    "            <figcaption>Producto escalar en $\\mathfrak{R}^2$\n",
    "            </figcaption>\n",
    "    </center>\n",
    "</figure>\n",
    "\n",
    "Fuente: [Wiki commons](https://commons.wikimedia.org/w/index.php?search=producto+escalar&title=Special:MediaSearch&go=Go&type=image).\n",
    "\n",
    "\n",
    "En general, si  $x = (x_1, \\ldots, x_n)$ y $z=(z_1, \\ldots z_n)$ son vectores en el espacio euclidiano $\\mathfrak{R}^n$, se define  el producto escalar entre $z$ y $w$ como\n",
    "\n",
    "$$\n",
    "\\huge{<x,z>  = x_1\\ast z_1, \\ldots x_n  \\ast z_n}.\n",
    "$$"
   ]
  },
  {
   "cell_type": "markdown",
   "id": "6a53324a-32f8-47a8-9b8c-135707bed42c",
   "metadata": {},
   "source": [
    "## <span style=\"color:blue\"><center>Norma de un vector</center></span>"
   ]
  },
  {
   "cell_type": "markdown",
   "id": "86dc1005-3a86-40dc-93d7-e6f5542584fb",
   "metadata": {},
   "source": [
    "Supongamos que $\\mathbf{w} \\in \\mathfrak{R}^n$ es un vector. La norma (o tamaño) del vector se denota por $||\\mathbf{w}||$ y se define como\n",
    "\n",
    "$$\n",
    "\\huge||\\mathbf{w}|| = \\sqrt{<\\mathbf{w}, \\mathbf{w}>} = \\sqrt{w_1^2+ \\ldots + w_n^2}.\n",
    "$$"
   ]
  },
  {
   "cell_type": "markdown",
   "id": "94be6500-5eaf-4d71-b7b8-4bcfd2b301b4",
   "metadata": {},
   "source": [
    "## <span style=\"color:blue\"><center>Proyección de un vector sobre otro</center></span>"
   ]
  },
  {
   "cell_type": "markdown",
   "id": "ea547d2d-fde1-4460-a526-7e032fe3e774",
   "metadata": {},
   "source": [
    "Si $\\mathbf{x}$ y $\\mathbf{w}$ son dos vectores en $\\mathfrak{R}^n$, la proyección del vector $\\mathbf{x}$ sobre el vector $\\mathbf{y}$ es denotada $Pr_{\\mathbf{w}}\\mathbf{x}$ y dedinida como\n",
    "\n",
    "$$\n",
    "\\large{\n",
    "Pr_{\\mathbf{w}}\\mathbf{x} = \\left[\\frac{<\\mathbf{w}, \\mathbf{x}>}{||\\mathbf{w}||}\\right] \\frac{\\mathbf{w}}{||\\mathbf{w}||}\n",
    "} \n",
    "$$\n",
    "\n",
    "\n",
    "<figure>\n",
    "    <center>\n",
    "        <img src=\"../imagenes/projection.png\" width=\"400\" height=\"400\" align=\"center\"/> \n",
    "            <figcaption>Proyección de un vector sobre otro\n",
    "            </figcaption>\n",
    "    </center>\n",
    "</figure>\n",
    "\n",
    "Fuente: [kristakingmath](https://www.kristakingmath.com/blog/scalar-and-vector-projections)\n",
    "\n",
    "No insteresa con esta noción observar que si $||\\mathbf{w}||=1$, entonces $<\\mathbf{w}, \\mathbf{x}>$ es la longitud de la proyección del vector $\\mathbf{x}$  a lo largo del rayo determinado por el vector $\\mathbf{w}$."
   ]
  },
  {
   "cell_type": "markdown",
   "id": "04833167-84f3-44e1-97ce-dc053ea4d924",
   "metadata": {},
   "source": [
    "## <span style=\"color:blue\"><center>Separación lineal y función predictiva</center></span>"
   ]
  },
  {
   "cell_type": "markdown",
   "id": "61dafa23-8c95-48c6-ac39-3672fd1064d2",
   "metadata": {},
   "source": [
    "En un problema de clasificación en dos clases, por ejemplo para distinguir entre perros y gatos, por lo general tenemos un conjunto de características, digamos $\\mathbf{x}=(x_1, \\ldots, x_n)$, que esperamos permitan diferenciar a un perro de un gato. \n",
    "\n",
    "Dado  un vector de pesos $\\mathbf{w}=(w_1,\\ldots, w_n)$ y un umbral $b$  definamos la `función predictiva` $f_{\\mathbf{w},b}(x) $ mediante\n",
    "\n",
    "$$\n",
    "\\large{f_{\\mathbf{w},b}(x) = \\hspace{0.2cm} <\\mathbf{w}, \\mathbf{x}> + \\hspace{0.2cm} b}.\n",
    "$$\n",
    "\n",
    "Tenga en cuenta que $<\\mathbf{w}, \\mathbf{x}>  + \\hspace{0.2cm} b=0$ es un hiperplano separador. Entonces, se tiene que\n",
    "\n",
    "* $f_{\\mathbf{w},b}(\\mathbf{x})> 0$ para todos los puntos positivos.\n",
    "* $f_{\\mathbf{w},b}(\\mathbf{x})= 0$ para todos los puntos de frontera.\n",
    "* $f_{\\mathbf{w},b}(\\mathbf{x})< 0$ para todos los puntos negativos.\n",
    "\n",
    "Ahora definimos la función de clasificación $g_{\\mathbf{w},b}()$ mediante\n",
    "\n",
    "$$\n",
    "g_{\\mathbf{w},b}(x) = \n",
    "\\begin{cases} \n",
    "1 &\\text{ si } f_{\\mathbf{w},b}(\\mathbf{x})\\ge 0,\\\\\n",
    "-1  &\\text{ si } f_{\\mathbf{w},b}(\\mathbf{x})< 0,\\\\\n",
    "\\end{cases}\n",
    "$$\n",
    "\n",
    "\n",
    "\n",
    "Si etiquetamos las características $\\mathbf{x}$ de los perros con -1, y las de los gatos con -1, decimos que los perros y los gatos son `linealmente separables` a partir de sus características $\\mathbf{x}$, si es posible construir una función de clasificación $g$, que clasifique correctamente los datos. \n",
    "\n"
   ]
  },
  {
   "cell_type": "markdown",
   "id": "6cc144f4-78a4-4b6f-a0b3-90555a52aba8",
   "metadata": {},
   "source": [
    "## <span style=\"color:blue\"><center>Algoritmo  genérico para construir un clasificador lineal</center></span>"
   ]
  },
  {
   "cell_type": "markdown",
   "id": "5238152b-461a-4a6f-a841-41fea56b56cf",
   "metadata": {},
   "source": [
    "Consideremos la tarea supervisada de clasificación binaria. Vamos a considerar que los datos viene dados en parejas\n",
    "\n",
    "$$\n",
    "\\large{\n",
    "S = \\{(x_1, y_1), \\ldots, (x_l, y_l) \\}}\n",
    "$$\n",
    "\n",
    "en donde la $x$'s son las características (features) y las $y$'s son la etiquetas. Cada punto $x_i$ proviene de un conjunto $X \\subset \\mathfrak{R}^n$ y las etiquetas $y_i$ provienen del conjunto $Y= \\{-1, +1\\}$ \n",
    "\n",
    "El clasificador lineal binario se define mediante la función\n",
    "\n",
    "$$\n",
    "g_{\\mathbf{w},b}(\\mathbf{x}) = \\text{signo}(<\\mathbf{w},\\mathbf{x}> + b),\n",
    "$$\n",
    "\n",
    "La función *signo* es definida por\n",
    "\n",
    "$$\n",
    "\\text{signo}(x) = \n",
    "\\begin{cases} \n",
    "1 &\\text{ si } x\\ge 0,\\\\\n",
    "-1  &\\text{ si } x< 0,\\\\\n",
    "\\end{cases}\n",
    "$$\n",
    "\n",
    "Aquí adoptamos la convención *signo(0)= 1*, por comodidad del desarrollo.\n",
    "\n",
    "En términos estadísticos, el problema consiste en hallar $\\mathbf{w}$ y $b$  tal que\n",
    "\n",
    "$$\n",
    "\\large{\n",
    "E[0.5|g_{\\mathbf{w},b}(\\mathbf{x})-y|]\n",
    "}\n",
    "$$\n",
    "\n",
    "es pequeño. El signo $|\\cdot|$ se  usa para denotar discrepancia o distancia."
   ]
  },
  {
   "cell_type": "markdown",
   "id": "3e37be25-5896-4a0d-a5f6-08cdc1942b60",
   "metadata": {},
   "source": [
    "## <span style=\"color:blue\"><center>Transformando un problema de separación no lineal</center></span>"
   ]
  },
  {
   "cell_type": "markdown",
   "id": "a04b76ff-c6d9-4b70-bf1a-0269d6c09bc1",
   "metadata": {},
   "source": [
    "Vamos a regresar a nuestro ejemplo inicial de datos no separables linealmente. Recuerde que ya mostramos como es posible hacer un incrustamiento (embedding) en un espacio más grande. Pasamos del espacio 2D al espacio 3D por medio de la transformación\n",
    "\n",
    "$$\n",
    "\\large{\n",
    "(x,y) \\mapsto (x,y, x^2 + y^2).\n",
    "}\n",
    "$$\n",
    "\n",
    "En este momento vamos a considerar una nueva transformación dada por\n",
    "\n",
    "$$\n",
    "\\large{\n",
    "(x,y) \\mapsto (x^2,y^2, \\sqrt{2}xy)\n",
    "}\n",
    "$$\n",
    "\n",
    "La siguiente imagen ilustra una vista de como resultan transformados los datos. \n"
   ]
  },
  {
   "cell_type": "markdown",
   "id": "ef9caa1f-3e54-4c66-a9e9-e76ed950090d",
   "metadata": {},
   "source": [
    "<figure>\n",
    "    <center>\n",
    "        <img src=\"../imagenes/embedding_2.png\" width= 600 heigh = 600 align=\"center\"/> \n",
    "            <figcaption>Datos transformados con un kernel\n",
    "            </figcaption>\n",
    "    </center>\n",
    "</figure>\n",
    "\n",
    "Fuente: Alvaro Montenegro"
   ]
  },
  {
   "cell_type": "markdown",
   "id": "9db81656-e4bd-4153-abbf-4fdc4267cb8f",
   "metadata": {},
   "source": [
    "## <span style=\"color:blue\"><center>El truco del kernel</center></span>"
   ]
  },
  {
   "cell_type": "markdown",
   "id": "f9c2b5f5-1a0b-4deb-acae-6d24255ea813",
   "metadata": {},
   "source": [
    "Por facilidad los puntos originales serán denotados simplemente  mediante $x=(x_1, x_2)$ y los puntos transformados mediante $\\phi(x)$. Entonces tenemos que\n",
    "\n",
    "$$\n",
    "\\large{\n",
    "\\phi(x) = (x_1^2, x_2^2, \\sqrt{2}x_1x_2)\n",
    "}\n",
    "$$\n",
    "\n",
    "Los punto transformados están ahora en $\\mathfrak{R}^3$. Vamos en seguida a calcular el producto escalar entre dos vectores transformados $w$ y $u$. Tenemos que\n",
    "\n",
    "$$\n",
    "\\large{\n",
    "<\\phi(w),\\phi(v)> = (w_1v_1 + w_2v_2)^2 = \\hspace{0.2cm} <w,v>^2\n",
    "}\n",
    "$$\n",
    "\n",
    "Es decir, que \n",
    "\n",
    "**<center>¡Podemos calcular el producto en el espacio destino sin transformar los datos originales!</center>**\n"
   ]
  },
  {
   "cell_type": "markdown",
   "id": "da45b5d5-1ec7-4c6a-b41f-5a95884f9523",
   "metadata": {},
   "source": [
    "## <span style=\"color:blue\"><center>Función Kernel</center></span>"
   ]
  },
  {
   "cell_type": "markdown",
   "id": "7fda0e24-9431-44ca-a997-bcfff8d2aec2",
   "metadata": {},
   "source": [
    "Consideremos una función de sumergimiento $\\phi$ tal que\n",
    "\n",
    "$$\n",
    "\\large{\n",
    "\\phi: x \\mapsto \\phi(x) \\in F\n",
    "}\n",
    "$$\n",
    "\n",
    "\n",
    "El espacio $F$ se denomina espacio de características (features). Un `kernel` es una función $\\kappa$ que satisface\n",
    "\n",
    "\n",
    "$$\n",
    "\\large{\n",
    "\\kappa(x,y) = <\\phi(x), \\phi(y)>\n",
    "}\n",
    "$$\n",
    "\n",
    "**Interpretación**\n",
    "\n",
    "Un kernel es una función que calcula el producto escalar de dos datos en el espacio de características, sin necesidad de transformar individualmente cada uno de los datos."
   ]
  },
  {
   "cell_type": "markdown",
   "id": "51f54b5c-e7fe-4fee-99ca-fd5a813baa8e",
   "metadata": {},
   "source": [
    "## <span style=\"color:blue\"><center>Función Predictiva revisitada</center></span>"
   ]
  },
  {
   "cell_type": "markdown",
   "id": "1bc48c32-ba33-4b5d-bcfc-c2983dbd658f",
   "metadata": {},
   "source": [
    "\n",
    "\n",
    "Los matemáticos han demostrado que para un conjunto de datos  $ S= \\{(x_1, y_1), \\ldots, (x_p, y_p)\\}$ \n",
    "una función predictiva $f_{\\mathbf{w},b}$ puede escribirse como\n",
    "\n",
    "$$\n",
    "\\large{\n",
    "f_{\\mathbf{w},b}(x) = \\sum_{i=1}^p a_i <x_i,x>,\n",
    "}\n",
    "$$\n",
    "\n",
    "Si denotamos por $\\mathbf{a}$ al vector de pesos $(a_1, \\cdots, a_p)$, como $\\mathbf{y}$ al vector de etiquetas, entonces se tiene que\n",
    "\n",
    "$$\n",
    "\\large{\n",
    "\\mathbf{a} = G^{-1}\\mathbf{y}\n",
    "}\n",
    "$$\n",
    "\n",
    "y el punto central aquí es que la `matriz Gram` $G$ tiene como elementos\n",
    "\n",
    "$$\n",
    "\\large{\n",
    "G_{i,j} = <\\mathbf{x}_i, \\mathbf{x}_j>\n",
    "}\n",
    "$$\n",
    "\n",
    "Es decir la matriz de los productos escalares entre todos los puntos del conjunto $S$\n",
    "\n",
    "Si la matriz Gram $G$ tien problemas para ser invertida, se toma un valor $\\lambda>0$ y la matriz identidad $I$ para obtener una solución de la forma \n",
    "\n",
    "$$\n",
    "\\large{\n",
    "\\mathbf{\\alpha} = \\left[G+\\lambda I\\right]^{-1}\\mathbf{y}\n",
    "}\n",
    "$$\n"
   ]
  },
  {
   "cell_type": "markdown",
   "id": "5ba3a7ab-3ec6-4bcd-b63b-577b24646da5",
   "metadata": {
    "tags": []
   },
   "source": [
    "## <span style=\"color:blue\"><center>Kernel y función predictiva </center></span>"
   ]
  },
  {
   "cell_type": "markdown",
   "id": "47fdd41d-3452-4272-a85a-ea82690fb7de",
   "metadata": {
    "tags": []
   },
   "source": [
    "**Hemos llegado a un punto culminante de esta charla**. Para resumir lo importante digamos que:\n",
    "\n",
    "1. Es posible transformar problemas no separables linealmente en problemas separables linealmente mediante sumergimiento de los datos en espacios de características.\n",
    "1. Un kernel, calcula el producto escalar en el espacio de características determinado por un sumergimiento, sin necesidad de sumergir cada punto de manera individual.\n",
    "1. Una función predictiva para separación lineal puede escribirse en términos del producto escalar entre los puntos, mediante el uso de la matriz Gram. \n",
    "\n",
    "\n",
    "Entonces, si disponemos de un kernel, la matriz Gram en el espacio de características se puede calcular mediante\n",
    "\n",
    "$$\n",
    "\\large{\n",
    "G_{ij} = <\\phi(x_i),\\phi( x_j)> = \\kappa(x_i,x_j)\n",
    "}.\n",
    "$$\n",
    "\n"
   ]
  },
  {
   "cell_type": "markdown",
   "id": "e5a8c76b-00fc-4ca2-960c-247d96cd7b97",
   "metadata": {
    "tags": []
   },
   "source": [
    "## <span style=\"color:blue\"><center>Construcción de kernels</center></span>"
   ]
  },
  {
   "cell_type": "markdown",
   "id": "6b69c7b1-cede-4128-824d-c2de43a23ffe",
   "metadata": {
    "tags": []
   },
   "source": [
    "Supongamos que \n",
    "\n",
    "* $\\kappa_1$ y $\\kappa_2$ son kernels.\n",
    "* $f(\\cdot)$ es una función real.\n",
    "* $\\phi$ es un sumergimiento en $\\mathfrak{R}^n$ con kernel $\\kappa_3$\n",
    "* $B$ es una matriz positiva y semidefinida positiva\n",
    "* $a$ un número real positivo\n",
    "\n",
    "Entonces las siguientes funciones son kernels.\n",
    "\n",
    "1. $\\kappa(x,z) = \\kappa_1(x,z) + \\kappa_2(x,z)$\n",
    "1.  $\\kappa(x,z) = a\\kappa_1(x,z) $\n",
    "1.  $\\kappa(x,z) = \\kappa_1(x,z)\\ast \\kappa_2(x,z)$\n",
    "1.  $\\kappa(x,z) = f(x) \\ast f(y)$\n",
    "1.  $\\kappa(x,z) = x'Bz$"
   ]
  },
  {
   "cell_type": "markdown",
   "id": "8cb1d2b5-5735-4fd0-adad-a273979e9f09",
   "metadata": {
    "tags": []
   },
   "source": [
    "## <span style=\"color:blue\"><center>Kernels polinomiales y gaussianos</center></span>"
   ]
  },
  {
   "cell_type": "markdown",
   "id": "8029174e-511a-4bde-9030-439a58f853d3",
   "metadata": {
    "tags": []
   },
   "source": [
    "Supongamos que $\\kappa_1(x,z)$ es un kernel $p(\\cdot)$ es un polinomio con coeficientes positivos.\n",
    "\n",
    "Entonces las siguientes funciones son kernels.\n",
    "\n",
    "1. $\\kappa(x,z) = p(\\kappa_1(x,z))$\n",
    "1.  $\\kappa(x,z) = \\exp (\\kappa_1(x,z))$\n",
    "1.  $\\kappa(x,z) = \\exp (-||x-z||/(2\\sigma^2))$"
   ]
  },
  {
   "cell_type": "markdown",
   "id": "f79ba7d0-7da2-47ea-b3f2-a1330c86b1bc",
   "metadata": {},
   "source": [
    "</center></span>"
   ]
  },
  {
   "cell_type": "markdown",
   "id": "75165f9b-c9d3-4891-bedb-b492b9fe6138",
   "metadata": {
    "slideshow": {
     "slide_type": "subslide"
    },
    "tags": []
   },
   "source": [
    "## <span style=\"color:blue\"><center>SVM I. Margen funcional</center></span>"
   ]
  },
  {
   "cell_type": "markdown",
   "id": "d5e1e517-434b-4265-bb45-a35dcc5d5815",
   "metadata": {
    "slideshow": {
     "slide_type": "subslide"
    },
    "tags": []
   },
   "source": [
    "\n",
    "Para una función real  $g$ definida en el espacio de características, su `margen con respecto  a un ejemplo` $(\\mathbf{x},y)$ es definido por\n",
    "\n",
    "$$\n",
    "m(g, (\\mathbf{x},y)) = y g(\\mathbf{x}).\n",
    "$$\n",
    "\n",
    "El margen funcional de la función $f$  con el conjunto de entrenamiento $S=(\\mathbf{x}_1, y_1), \\cdots, \\mathbf{x}_l, y_l)$, es definido por\n",
    "\n",
    "$$\n",
    "m(S,g) = \\min_{1\\le i \\le l} y_i g(\\mathbf{x}_i).\n",
    "$$\n",
    "\n",
    "Dada una función $g$ y un deseado margen $\\lambda$ denotamos por\n",
    "\n",
    "$$\n",
    "\\xi_i = (\\lambda -y_ig(\\mathbf{x},y_i))_+\n",
    "$$\n",
    "\n",
    "al valor por el cual $g$ falla para alcanzar el margen $\\lambda$. Esta cantidad es conocida como la `variable de holgura` del ejemplo. Recuerde que  $(x)_+= x$ si $x\\ge 0$ y cero en otra parte. "
   ]
  },
  {
   "cell_type": "markdown",
   "id": "bdca6f94-842c-4b19-93b3-911912c25f01",
   "metadata": {
    "slideshow": {
     "slide_type": "subslide"
    },
    "tags": []
   },
   "source": [
    "## <span style=\"color:blue\"><center>SVM II. Margen funcional y función de predicción lineal </center></span>"
   ]
  },
  {
   "cell_type": "markdown",
   "id": "011d5c1f-13f1-4dba-9e58-74778c045d1f",
   "metadata": {
    "slideshow": {
     "slide_type": "subslide"
    },
    "tags": []
   },
   "source": [
    "Ya tenemos los requisitos para introducir la máquinas de soporte vectorial (SVM). Para empezar, supongmos que tenemos un conjunto de datos de entrenamiento $S= \\{(\\mathbf{x}_1, y_1), \\cdots, (\\mathbf{x}_p, y_p\\})$. \n",
    "\n",
    "Por otro lado supongamos que existe un función de predicción lineal\n",
    "\n",
    "$$\n",
    "g_{\\mathbf{w},b}(\\mathbf{x}) = <\\mathbf{w}, \\phi(\\mathbf{x})> + \\hspace{0.2cm} b,\n",
    "$$\n",
    "\n",
    "determinada por un vector de pesos $\\mathbf{w}$ y un umbral $b$. Supongamos además que existe una constante $\\gamma > 0$ talque \n",
    "\n",
    "$$\n",
    "\\xi_i = (\\gamma -y_ig(\\mathbf{x}_i))_+ = 0,  \\text{ para } i = 1,\\ldots, p.\n",
    "$$\n",
    "\n",
    "Esto significa que el margen $(S,g)$ del conjunto de entrenamiento satisface\n",
    "\n",
    "$$\n",
    "m(S,g) = \\min_{1\\le i \\le l } y_ig(\\mathbf{x}_i) \\ge \\lambda.\n",
    "$$"
   ]
  },
  {
   "cell_type": "markdown",
   "id": "1b92ec5c-9a56-4d67-9396-f20e1cf8c7e6",
   "metadata": {
    "slideshow": {
     "slide_type": "subslide"
    },
    "tags": []
   },
   "source": [
    "## <span style=\"color:blue\"><center>SVM III. Interpretación del margen funcional y la función de predicción </center></span>"
   ]
  },
  {
   "cell_type": "markdown",
   "id": "9feae180-486f-406e-837e-5f50a4111443",
   "metadata": {
    "slideshow": {
     "slide_type": "subslide"
    },
    "tags": []
   },
   "source": [
    "Informalmente, lo que  queremos  decir es que las dos clases de datos pueden ser separadas por un hiperplano con margen $\\lambda$ como se ilustra a continuación.  Decimos en este caso que el conjunto de datos es `linealmente separable` con margen $\\lambda$. Además se dice que el clasificador resultante es consistente si clasifica correctamente todos los datos de entrenamiento. \n",
    "\n",
    "Margen en el caso de los datos de iris. Fuente: [wiki commons](https://commons.wikimedia.org/w/index.php?search=support+vector+machine&title=Special:MediaSearch&go=Go&type=image)\n",
    "<figure>\n",
    "    <center>\n",
    "        <img src=\"../imagenes/SVM_-_Iris_dataset.png\" width= 400 heigh = 400 align=\"left\"/> \n",
    "            <figcaption> \n",
    "            </figcaption>\n",
    "    </center>\n",
    "</figure>\n",
    "\n",
    "Por comodidad se puede asumir que el vector de pesos tiene norma 1, es decir $||\\mathbf{w}||=1$. En este caso, la expresión $<\\mathbf{w}, \\phi(\\mathbf{x}_i)>$ mide la longitud de la proyección del punto $\\phi(\\mathbf{x}_i)$ sobre el rayo defindo por $\\mathbf{w}$. \n",
    "\n",
    "Tambien se tiene que \n",
    "$$y_i g(\\mathbf{x}_i)= y_i <\\mathbf{w}, \\phi(\\mathbf{x}_i)>$$\n",
    "mide que tan lejos está el punto $\\phi(\\mathbf{x}_i)$ de la frontera definida por el hiperplano."
   ]
  },
  {
   "cell_type": "markdown",
   "id": "9edbd82b-b19c-4665-9f2e-4401bb0b4b0d",
   "metadata": {
    "slideshow": {
     "slide_type": "subslide"
    },
    "tags": []
   },
   "source": [
    "## <span style=\"color:blue\"><center> SVM IV. Máquinas de Soporte Vectorial (SVM)</center></span>"
   ]
  },
  {
   "cell_type": "markdown",
   "id": "ea1ead21-ce34-4217-a892-d611e4f8f81b",
   "metadata": {
    "slideshow": {
     "slide_type": "subslide"
    },
    "tags": []
   },
   "source": [
    "Una máquina de vectores de soporte construye un hiperplano o un conjunto de hiperplanos en un espacio dimensional alto o infinito, que puede usarse para clasificación, regresión u otras tareas. Intuitivamente, una buena separación se logra con el hiperplano que tiene la mayor distancia a los puntos de datos de entrenamiento más cercanos de cualquier clase (el llamado margen funcional), ya que, en general, cuanto mayor es el margen, menor es el error de generalización del clasificador. La siguiente figura muestra la función de decisión para un problema separable linealmente, con tres muestras en los límites del margen, llamados `vectores de soporte`."
   ]
  },
  {
   "cell_type": "markdown",
   "id": "dd389ee5-bc11-419d-93f2-e066e7528a22",
   "metadata": {
    "slideshow": {
     "slide_type": "subslide"
    },
    "tags": []
   },
   "source": [
    "<figure>\n",
    "    <center>\n",
    "        <img src=\"../imagenes/SVM_margin.png\" width = 600 high= 600 align=\"center\"/> \n",
    "            <figcaption>Máquina de Soporte Vectorial\n",
    "            </figcaption>\n",
    "    </center>\n",
    "</figure>"
   ]
  },
  {
   "cell_type": "markdown",
   "id": "751b1b78-1088-4052-a155-f34955a93aa3",
   "metadata": {},
   "source": [
    "## <span style=\"color:blue\"><center> SVM V. Algoritmo SVM lineal</center></span>"
   ]
  },
  {
   "cell_type": "markdown",
   "id": "7998e386-0541-49e0-8e73-ea9b592d8c78",
   "metadata": {},
   "source": [
    "Teniendo en cuenta todo el recorrido hecho hasta el este momento, lo único que resta para construir una máquina de soporte vectorial (SVM) para clasificar un conjunto de entrenamiento $S=\\{(\\mathbf{x}_1, y_1), \\cdots, (\\mathbf{x}_l, y_l)\\}$ es exhibir un algortimo para lograrlo. \n",
    "\n",
    "\n",
    "Si el conjunto de datos $S$ es linealmente separable, el hiperplano $(\\mathbf{w},b)$ que resuelve el siguiente problema de optimización \n",
    "\n",
    "$$\n",
    "\\begin{align}\n",
    "\\text{minimize}_{\\mathbf{w},b} \\hspace{1cm} & \\tfrac{1}{2}<\\mathbf{w},\\mathbf{w}>\\\\\n",
    "\\text{sujeto a} \\hspace{1cm} &y_i(<\\mathbf{w}, \\mathbf{x}_i> + \\hspace{0.2cm} b) \\ge 1\\\\\n",
    "& i= 1, \\ldots, p.\n",
    "\\end{align}\n",
    "$$\n",
    "\n",
    "+ Los vectores $\\mathbf{x}_j$ para los cuales se tiene en la solución que $<\\mathbf{w},\\mathbf{x}_j>  + b  = \\pm 1$ se denominan `vectores de soporte` y son los que actúan como separadores de las clases.\n",
    "\n",
    "\n",
    "es el hiperplano de margen maximal que separa los puntos de $S$ con margen dado por $\\lambda = 1/||\\mathbf{w}||$.\n",
    "\n",
    "Este problema es **convexo**, lo que implica que tiene una única solución. \n"
   ]
  },
  {
   "cell_type": "markdown",
   "id": "661423cb-56a2-4eb8-a369-e9ceec7cc544",
   "metadata": {},
   "source": [
    "## <span style=\"color:blue\"><center> SVM VI. Algoritmo SVM lineal como problema de Programación cuadrática</center></span>"
   ]
  },
  {
   "cell_type": "markdown",
   "id": "cbf2fc93-9237-452a-a8de-258b1b903484",
   "metadata": {},
   "source": [
    "Se puede demostrar que el problema de optimización anterior se puede re-escribir en la siguiente forma, que es la que realmente se implementa con frecuencia\n",
    "\n",
    "$$\n",
    "\\begin{align}\n",
    "\\text{minimize}_{\\mathbf{a}} \\hspace{1cm} & \\tfrac{1}{2}\\mathbf{a}^T \\mathbf{Y}\\mathbf{K}\\mathbf{Y}\\mathbf{a} - \\mathbf{1}^T\\mathbf{a}\\\\\n",
    "\\text{sujeto a} \\hspace{1cm} & \\mathbf{a}^T \\mathbf{y} = 0,\\\\\n",
    "& \\mathbf{a} \\ge 0\n",
    "\\end{align}\n",
    "$$\n",
    "\n",
    "en donde \n",
    "\n",
    "* $\\mathbf{Y} = \\text{diag}(y_1,\\ldots, y_p)$\n",
    "* $\\mathbf{K}$ es la matriz Gram de los puntos $\\mathbf{x}$, es decir, sus elementos son $k_{ij} = <\\mathbf{x}_i, \\mathbf{x}_j>$.\n",
    "\n",
    "El vector $\\mathbf{w}$ es obtenido como\n",
    "\n",
    "$$\n",
    "\\mathbf{w} = \\sum_{i=1}^p a_iy_i\\mathbf{x}_i.\n",
    "$$\n",
    "\n",
    "El umbral $b$ puede obtenerse a partir de cualquier vector soporte $\\mathbf{x}_j$, resolviendo al ecuación $<\\mathbf{w}, \\mathbf{x}_j> + \\hspace{0.2cm} b= 1$ o $<\\mathbf{w}, \\mathbf{x}_j> + \\hspace{0.2cm} b= -1$, según sea el caso."
   ]
  },
  {
   "cell_type": "markdown",
   "id": "75f29341-9470-4246-ac78-b93a714ea4bd",
   "metadata": {},
   "source": [
    "## <span style=\"color:blue\"><center> SVM VII. Algoritmo SVM solución suave</center></span>"
   ]
  },
  {
   "cell_type": "markdown",
   "id": "9531246b-a6f2-49fd-97cd-497e7d82a5b2",
   "metadata": {},
   "source": [
    "El caso más común es cuando las clases son casi separables linealmente. En este caso, se busca el hiperplano separador que minimiza el error de clasificación. \n",
    "\n",
    "* En este caso permitimos errores de clasificación introduciendo las variables de holgura $\\xi_i$ definidas previamente.\n",
    "* Introducimos un parámetro de regularización o penalización (trade off)\n",
    "\n",
    "El problema ahora se reescribe en la forma\n",
    "\n",
    "\n",
    "$$\n",
    "\\begin{align}\n",
    "\\text{minimize}_{\\mathbf{w},b} \\hspace{1cm} & \\tfrac{1}{2}<\\mathbf{w},\\mathbf{w}> + C\\sum_i \\xi_i\\\\\n",
    "\\text{sujeto a} \\hspace{1cm} &y_i(<\\mathbf{w}, \\mathbf{x}_i> + \\hspace{0.2cm} b) \\ge 1- \\xi_i  \\hspace{0.2cm} \\forall{i} \\\\\n",
    "& \\xi_i \\ge 0, \\hspace{0.2cm} \\forall{i}.\n",
    "\\end{align} \n",
    "$$"
   ]
  },
  {
   "cell_type": "markdown",
   "id": "ee9ef5fd-a26d-4d77-a50c-09a292376b93",
   "metadata": {},
   "source": [
    "## <span style=\"color:blue\"><center> SVM VIII. Algoritmo SVM no lineal con programación cuadrática</center></span>"
   ]
  },
  {
   "cell_type": "markdown",
   "id": "b59efeff-e562-411d-b7c4-a0e2de68767f",
   "metadata": {},
   "source": [
    "Finalmente resolvemos el problema de clasificación no lineal.\n",
    "\n",
    "El problema se traduce a la solución cuadrática media, conocida como `solución dual`. La única diferencia es que ahora la mtriz Gram usa un kernel definido por el usuario.\n",
    "\n",
    "Así el problema se escribe como:\n",
    "\n",
    "\n",
    "$$\n",
    "\\begin{align}\n",
    "\\text{minimize}_{\\mathbf{a}} \\hspace{1cm} & \\tfrac{1}{2}\\mathbf{a}^T \\mathbf{Y}\\mathbf{K}\\mathbf{Y}\\mathbf{a} - \\mathbf{1}^T\\mathbf{a}\\\\\n",
    "\\text{sujeto a} \\hspace{1cm} & \\mathbf{a}^T \\mathbf{y} = 0,\\\\\n",
    "& 0 \\le \\mathbf{a} \\le C\n",
    "\\end{align}\n",
    "$$\n",
    "\n",
    "en donde \n",
    "\n",
    "* $\\mathbf{Y} = \\text{diag}(y_1,\\ldots, y_p)$\n",
    "* $\\mathbf{K}$ es la matriz Gram de los puntos $\\phi(\\mathbf{x})$, es decir, sus elementos son $k_{ij} = <\\phi(\\mathbf{x}_i), \\phi(\\mathbf{x}_j)> = \\kappa(\\mathbf{x}_i, \\mathbf{x}_i)$.\n",
    "\n",
    "El vector $\\mathbf{w}$ es obtenido como\n",
    "\n",
    "$$\n",
    "\\mathbf{w} = \\sum_{i=1}^p a_iy_i\\phi(\\mathbf{x}_i).\n",
    "$$\n",
    "\n",
    "El umbral $b$ puede obtenerse a partir de cualquier vector soporte $\\mathbf{x}_j$, resolviendo al ecuación $<\\mathbf{w}, \\mathbf{x}_j> + \\hspace{0.2cm} b= 1$ o $<\\mathbf{w}, \\mathbf{x}_j> + \\hspace{0.2cm} b= -1$, según sea el caso."
   ]
  },
  {
   "cell_type": "markdown",
   "id": "6b27e643-e87f-40e7-8729-00f93f507914",
   "metadata": {},
   "source": [
    "## <span style=\"color:blue\"><center> El ejemplo de los datos de Iris con sklearn</center></span>"
   ]
  },
  {
   "cell_type": "markdown",
   "id": "60339000-973e-474e-a43e-f5f4b84765f2",
   "metadata": {},
   "source": [
    "Finalizamos esta aventura con un ejemplo típico de la estadística. El ejemplo iris. Por comodidad usaremos únicamente dos clases. El ejemplo es tomado de los [tutoriales de sklearn](https://scikit-learn.org/stable/modules/classes.html?highlight=svm#module-sklearn.svm)"
   ]
  },
  {
   "cell_type": "code",
   "execution_count": 2,
   "id": "2c243f2d-fa72-4e1d-939c-4f88efc4d089",
   "metadata": {},
   "outputs": [
    {
     "data": {
      "image/png": "[encoded data removed]",
      "text/plain": [
       "<Figure size 640x480 with 4 Axes>"
      ]
     },
     "metadata": {},
     "output_type": "display_data"
    }
   ],
   "source": [
    "import matplotlib.pyplot as plt\n",
    "from sklearn import svm, datasets\n",
    "from sklearn.inspection import DecisionBoundaryDisplay\n",
    "\n",
    "\n",
    "# import some data to play with\n",
    "iris = datasets.load_iris()\n",
    "# Take the first two features. We could avoid this by using a two-dim dataset\n",
    "X = iris.data[:, :2]\n",
    "y = iris.target\n",
    "\n",
    "# we create an instance of SVM and fit out data. We do not scale our\n",
    "# data since we want to plot the support vectors\n",
    "C = 1.0  # SVM regularization parameter\n",
    "models = (\n",
    "    svm.SVC(kernel=\"linear\", C=C),\n",
    "    svm.LinearSVC(C=C, max_iter=10000),\n",
    "    svm.SVC(kernel=\"rbf\", gamma=0.7, C=C),\n",
    "    svm.SVC(kernel=\"poly\", degree=3, gamma=\"auto\", C=C),\n",
    ")\n",
    "models = (clf.fit(X, y) for clf in models)\n",
    "\n",
    "# title for the plots\n",
    "titles = (\n",
    "    \"SVC con un kernel lineal\",\n",
    "    \"LinearSVC (kernel lineal\",\n",
    "    \"SVC con Kernel gaussiano \",\n",
    "    \"SVC with kernel polinomial (grado 3)\",\n",
    ")\n",
    "\n",
    "# Set-up 2x2 grid for plotting.\n",
    "fig, sub = plt.subplots(2, 2)\n",
    "plt.subplots_adjust(wspace=0.4, hspace=0.4)\n",
    "\n",
    "X0, X1 = X[:, 0], X[:, 1]\n",
    "\n",
    "for clf, title, ax in zip(models, titles, sub.flatten()):\n",
    "    disp = DecisionBoundaryDisplay.from_estimator(\n",
    "        clf,\n",
    "        X,\n",
    "        response_method=\"predict\",\n",
    "        cmap=plt.cm.coolwarm,\n",
    "        alpha=0.8,\n",
    "        ax=ax,\n",
    "        xlabel=iris.feature_names[0],\n",
    "        ylabel=iris.feature_names[1],\n",
    "    )\n",
    "    ax.scatter(X0, X1, c=y, cmap=plt.cm.coolwarm, s=20, edgecolors=\"k\")\n",
    "    ax.set_xticks(())\n",
    "    ax.set_yticks(())\n",
    "    ax.set_title(title)\n",
    "\n",
    "plt.show()\n"
   ]
  },
  {
   "cell_type": "markdown",
   "id": "91adb516-1deb-4642-b0f8-71107baf82a1",
   "metadata": {
    "slideshow": {
     "slide_type": "fragment"
    },
    "tags": []
   },
   "source": [
    "# <span style=\"color:blue\"><center> ¡Muchas gracias!</center></span><figure> \n",
    "<img src=\"../imagenes/logo-final-ap.png\"  width=\"80\" height=\"80\" align=\"right\"/> \n",
    "</figure>"
   ]
  }
 ],
 "metadata": {
  "kernelspec": {
   "display_name": "Python 3 (ipykernel)",
   "language": "python",
   "name": "python3"
  },
  "language_info": {
   "codemirror_mode": {
    "name": "ipython",
    "version": 3
   },
   "file_extension": ".py",
   "mimetype": "text/x-python",
   "name": "python",
   "nbconvert_exporter": "python",
   "pygments_lexer": "ipython3",
   "version": "3.10.4"
  }
 },
 "nbformat": 4,
 "nbformat_minor": 5
}
