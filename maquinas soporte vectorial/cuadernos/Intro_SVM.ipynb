{
 "cells": [
  {
   "cell_type": "markdown",
   "id": "fe7e97fe-2121-4e3d-bba0-e5208d5256d8",
   "metadata": {
    "slideshow": {
     "slide_type": "slide"
    },
    "tags": []
   },
   "source": [
    "<figure> \n",
    "<img src=\"../imagenes/logo-final-ap.png\"  width=\"80\" height=\"80\" align=\"left\"/> \n",
    "</figure>\n",
    "\n",
    "# <span style=\"color:blue\"><left>Aprendizaje Profundo</left></span>"
   ]
  },
  {
   "cell_type": "markdown",
   "id": "9600e515-624c-431d-8d62-89e170ebdec3",
   "metadata": {},
   "source": [
    "# <span style=\"color:red\"><center>Minicurso de Ciencia de Datos<center></span>"
   ]
  },
  {
   "cell_type": "markdown",
   "id": "33dd1c20-4b26-43bb-b456-7babcc2ed154",
   "metadata": {},
   "source": [
    "## <span style=\"color:Green\"><center>Máquinas de Soporte Vectorial</center></span>"
   ]
  },
  {
   "cell_type": "markdown",
   "id": "5204bb7f-3b22-45fe-a7b9-8e8772e936b7",
   "metadata": {},
   "source": [
    "<figure> \n",
    "<img src=\"../imagenes/Paisaje-azul.jpg\"  width=\"600\" height=\"600\" align=\"center\"/> \n",
    "</figure>\n",
    "\n",
    "Fuente [Wiki-commons](https://commons.wikimedia.org/w/index.php?search=paisaje+mar&title=Special:MediaSearch&go=Go&type=image)"
   ]
  },
  {
   "cell_type": "markdown",
   "id": "779854a9-3c83-4024-81fb-0cbfc835a903",
   "metadata": {
    "slideshow": {
     "slide_type": "slide"
    },
    "tags": []
   },
   "source": [
    "## <span style=\"color:blue\">Profesores</span>"
   ]
  },
  {
   "cell_type": "markdown",
   "id": "2259f06b-5c6a-4a1a-84c9-8303cfd03e52",
   "metadata": {},
   "source": [
    "1. Alvaro  Montenegro, PhD, ammontenegrod@unal.edu.co\n",
    "1. Campo Elías Pardo, PhD, cepardot@unal.edu.co\n",
    "1. Daniel  Montenegro, Msc, dammontenegrore@unal.edu.co\n",
    "1. Oleg Jarma, Estadístico, ojarmam@unal.edu.co "
   ]
  },
  {
   "cell_type": "markdown",
   "id": "7b8ea0f5-e944-41f0-b0cd-a24c89dcdb45",
   "metadata": {},
   "source": [
    "## <span style=\"color:blue\">Equipo de Marketing</span>"
   ]
  },
  {
   "cell_type": "markdown",
   "id": "11e7879d-0fe7-42c9-9480-9af48cca3f4f",
   "metadata": {},
   "source": [
    "1. Maria del Pilar Montenegro, pmontenegro88@gmail.com\n",
    "1. Laura Mondragón, laura.mondragon2125@gmail.com\n",
    "1. Jessica López, jelopezme@unal.edu.co"
   ]
  },
  {
   "cell_type": "markdown",
   "id": "e557f061-26fd-49a3-94e8-9a0b8a549ea3",
   "metadata": {
    "slideshow": {
     "slide_type": "slide"
    },
    "tags": []
   },
   "source": [
    "## <span style=\"color:blue\"><center>Separadores lineales</center></span>"
   ]
  },
  {
   "cell_type": "markdown",
   "id": "9646d72d-425e-478e-bda1-89d0505e53ed",
   "metadata": {
    "slideshow": {
     "slide_type": "slide"
    },
    "tags": []
   },
   "source": [
    "### <span style=\"color:#4CC9F0\">Separando el plano 2D linealmente</span>"
   ]
  },
  {
   "cell_type": "markdown",
   "id": "0fa61820-4143-4957-af9b-07715cc5955d",
   "metadata": {
    "slideshow": {
     "slide_type": "slide"
    },
    "tags": []
   },
   "source": [
    "Una línea recta separa el plano en dos partes disyuntas. Una recta es determinada por la ecuación\n",
    "\n",
    "$$\n",
    "\\large{\n",
    "y = w_1 x + b\n",
    "}\n",
    "$$\n",
    "\n",
    "El ejemplo muestra como la recta $y=2x+1$ divide el plan en tres partes disyuntas:"
   ]
  },
  {
   "cell_type": "code",
   "execution_count": null,
   "id": "d8f725d0-ee92-46f3-9b42-1652ce7aa5e3",
   "metadata": {},
   "outputs": [],
   "source": [
    "import matplotlib.pyplot as plt\n",
    "import numpy as np\n",
    "\n",
    "\n",
    "x = np.linspace(-1., 1., 200)\n",
    "y = 2*x +1\n",
    "plt.annotate('$y = 2 x + 1$', xy=(-0.20, 0.9),  xycoords='data', rotation=38, size=10, color ='blue')\n",
    "plt.annotate('$y > 2 x + 1$', xy=(-1.0, 1.5),  xycoords='data', rotation=0, size=10, color ='red')\n",
    "plt.annotate('$y < 2 x + 1$', xy=(0.5, 0.0),  xycoords='data', rotation=0, size=10, color ='red')\n",
    "plt.grid()\n",
    "plt.plot(x,y)\n",
    "plt.title('Una recta divide el plano en dos tres partes disyuntas', color='blue')\n",
    "plt.savefig('../imagenes/recta.png')\n",
    "plt.show()"
   ]
  },
  {
   "cell_type": "markdown",
   "id": "839ed7d7-8d39-4647-8fae-8ca1cc6936d9",
   "metadata": {
    "slideshow": {
     "slide_type": "subslide"
    },
    "tags": []
   },
   "source": [
    "<figure>\n",
    "    <center>\n",
    "        <img src=\"../imagenes/recta.png\" align=\"center\"/> \n",
    "            <figcaption>Recta dividiendo el plano. Fuente: Alvaro Montenegro\n",
    "            </figcaption>\n",
    "    </center>\n",
    "</figure>"
   ]
  },
  {
   "cell_type": "markdown",
   "id": "71f1c605-cd28-4ba0-a5c6-0dd0f0e32866",
   "metadata": {
    "slideshow": {
     "slide_type": "subslide"
    },
    "tags": []
   },
   "source": [
    "### <span style=\"color:#4CC9F0\">Un plano separando el espacio 3D linealmente</span>"
   ]
  },
  {
   "cell_type": "markdown",
   "id": "08dbcb51-8cd5-4564-b999-c68a00aceca3",
   "metadata": {
    "slideshow": {
     "slide_type": "subslide"
    },
    "tags": []
   },
   "source": [
    "Una plano separa el espacio en tres partes disyuntas. Un plano es determinado por la ecuación\n",
    "\n",
    "$$\n",
    "\\large{\n",
    "z = w_1 x +w_2 y + b\n",
    "}\n",
    "$$\n",
    "\n",
    "El ejemplo muestra como el plano $z = 3x+ - 2y + 3$ divide el plan en tres partes disyuntas:"
   ]
  },
  {
   "cell_type": "code",
   "execution_count": null,
   "id": "a6dbb39f-befa-4c65-ae2d-19769a64cdfb",
   "metadata": {},
   "outputs": [],
   "source": [
    "%matplotlib widget\n",
    "\n",
    "import matplotlib.pyplot as plt\n",
    "#from mpl_toolkits.mplot3d import Axes3D\n",
    "import numpy as np\n",
    "\n",
    "\n",
    "x = np.arange(-2, 2, 0.2)\n",
    "y = np.arange(-2, 2, 0.2)\n",
    "\n",
    "X, Y = np.meshgrid(x, x)\n",
    "\n",
    "Z = 3 * X + 2 * Y + 3\n",
    "\n",
    "fig = plt.figure(figsize=(8, 8))\n",
    "ax = Axes3D(fig, auto_add_to_figure=False )\n",
    "#ax = fig.gca(projection='3d')\n",
    "fig.add_axes(ax)\n",
    "\n",
    "# plano\n",
    "ax.plot_surface(X, Y, Z, color='blue', alpha= 0.3 )\n",
    "\n",
    "ax.set_xlabel('x')\n",
    "ax.set_ylabel('y')\n",
    "ax.set_zlabel('z ')\n",
    "\n",
    "plt.subplots_adjust(top = 1, bottom = 0, right = 1, left = 0, \n",
    "            hspace = 0, wspace = 0)\n",
    "#ax.annotate('xxxx', xy=(-0.20, 0.9, 2.0),  xycoords='data',\n",
    "#             rotation=38, size=10, color ='blue')\n",
    "#plt.title('Transformación $(x,y) \\longrightarrow (x,y, x^2 + y^2)$')\n",
    "fig.suptitle('Un plano divide el espacio en tres partes disyuntas', fontsize='xx-large')\n",
    "plt.savefig('../imagenes/plano.png', bbox_inches='tight', pad_inches=0.2)\n",
    "plt.show()"
   ]
  },
  {
   "cell_type": "markdown",
   "id": "bf6a7609-9db3-4e2a-9393-b039f648b779",
   "metadata": {},
   "source": [
    "<figure>\n",
    "    <center>\n",
    "        <img src=\"../imagenes/plano.png\" align=\"center\"/> \n",
    "            <figcaption>Plano dividiendo el el espacio 3D. \n",
    "            </figcaption>\n",
    "    </center>\n",
    "</figure>\n",
    "\n",
    "Fuente: Alvaro Montenegro"
   ]
  },
  {
   "cell_type": "markdown",
   "id": "8165c7e8-cb47-45cc-883b-ecf27fdbe31e",
   "metadata": {
    "slideshow": {
     "slide_type": "subslide"
    },
    "tags": []
   },
   "source": [
    "## <span style=\"color:blue\"><center>Datos separables linealmente en un espacio euclideano $\\mathfrak{R}^n$ </center></span>"
   ]
  },
  {
   "cell_type": "markdown",
   "id": "3fd8dca6-ac4e-4655-b5cb-8bdb8e26f6d4",
   "metadata": {
    "slideshow": {
     "slide_type": "subslide"
    },
    "tags": []
   },
   "source": [
    "### <span style=\"color:#4CC9F0\">Sobre los datos</span>"
   ]
  },
  {
   "cell_type": "markdown",
   "id": "8c8e44cd-2f6c-4113-86f3-2a15176e463e",
   "metadata": {
    "slideshow": {
     "slide_type": "subslide"
    },
    "tags": []
   },
   "source": [
    "En esta presentación vamos a considerar conjuntos de datos $S$ determinados por\n",
    "\n",
    "$$\n",
    "\\large{\n",
    "S= \\{ (\\mathbf{x}_1, y_1), \\ldots, (\\mathbf{x}_p, y_p  ))\\}\n",
    "},\n",
    "$$\n",
    "\n",
    "en donde cada $\\mathbf{x}$ es un vector en algún espacio euclidiano, digamos $\\mathfrak{R}^n$. Cada componente es una característica (`feature`) de un individuo, y diremos que $\\mathbf{x}$  es un vector de características. \n",
    "\n",
    "Por otro lado estaremos interesados en problemas de aprendizaje supervisado. Así que las $y$'s representan etiquetas para los datos. Por simplicidad de nuestra exposición supondremos que la etiquetas son elementos del conjunto \n",
    "\n",
    "$$\n",
    "\\large{\n",
    "Y = \\{-1, 1\\}\n",
    "}.\n",
    "$$"
   ]
  },
  {
   "cell_type": "markdown",
   "id": "12746dfd-4af2-4d33-a4c6-9dd4fabfd6c1",
   "metadata": {
    "slideshow": {
     "slide_type": "subslide"
    },
    "tags": []
   },
   "source": [
    "### <span style=\"color:#4CC9F0\">Hiperplanos</span>"
   ]
  },
  {
   "cell_type": "markdown",
   "id": "489465c5-d328-4049-ae96-a305048d9ba0",
   "metadata": {
    "slideshow": {
     "slide_type": "subslide"
    },
    "tags": []
   },
   "source": [
    "Un hiperplano en el espacio euclidiano $\\mathfrak{R}^{n}$ es la generalización de la recta en $\\mathfrak{R}^2$ y del plano en $\\mathfrak{R}^3$. Un hiperplano es una espacio de dimensión $n$ sumergido en el espacio euclidiano $\\mathfrak{R}^{n}$ y se define como el conjunto de puntos $\\mathbf{x} \\in \\mathfrak{R}^{n}$ que satisfacen la ecuación\n",
    "\n",
    "$$\n",
    "\\large{\n",
    "w_1 x_1 +w_2 x_2, \\ldots,w_{n}x_{n} + b = 0.\n",
    "}\n",
    "$$\n",
    "\n",
    "El vector $\\mathbf{w} = (w_1, \\ldots, w_n)$ se denominará `vector de pesos` y el número $b$ se denominará `umbral` o sesgo. Observe que un hiperplano en $\\mathfrak{R}^{n}$ queda complemetamente determinado por la pareja $(\\mathbf{w},b)$"
   ]
  },
  {
   "cell_type": "markdown",
   "id": "1dce52e6-318a-4034-b0fa-58a4fea2ac3c",
   "metadata": {
    "slideshow": {
     "slide_type": "subslide"
    },
    "tags": []
   },
   "source": [
    "### <span style=\"color:#4CC9F0\">Datos separables linealmente en un espacio euclidiano $\\mathfrak{R}^{n}$</span>"
   ]
  },
  {
   "cell_type": "markdown",
   "id": "9f6958bb-48f8-4dde-bbb6-cb3a2f393777",
   "metadata": {
    "slideshow": {
     "slide_type": "subslide"
    },
    "tags": []
   },
   "source": [
    "Decimos que el el conjunto de puntos $S$ es linealmente separable en  $\\mathfrak{R}^{n}$ si  existe un hiperplano $(\\mathbf{w},b)$ en  $\\mathfrak{R}^{n}$ talque\n",
    "\n",
    "$$\n",
    "\\begin{align}\n",
    "w_1 x_1 +w_2 x_2, \\ldots,w_{n}x_{n} + b < 0, \\quad &\\text{ cuando } y=-1\\\\\n",
    "w_1 x_1 +w_2 x_2, \\ldots,w_{n}x_{n} + b > 0, \\quad &\\text{ cuando } y = 1\n",
    "\\end{align}\n",
    "$$"
   ]
  },
  {
   "cell_type": "markdown",
   "id": "a2b141c1-3b2c-46b0-b8b4-2608b7c2c104",
   "metadata": {
    "slideshow": {
     "slide_type": "subslide"
    },
    "tags": []
   },
   "source": [
    "### <span style=\"color:#4CC9F0\">Hiperplanos separadores de un conjunto de puntos</span>"
   ]
  },
  {
   "cell_type": "markdown",
   "id": "c3d903ea-0a0c-4b13-9f9f-af0a60f38f5a",
   "metadata": {
    "slideshow": {
     "slide_type": "subslide"
    },
    "tags": []
   },
   "source": [
    "Un hiperplano $(\\mathbf{w},b)$ que separa linealmente al conjunto de puntos $S$ se denomina hiperplano separador del conjunto $S$. \n",
    "\n",
    "Cuando el conjunto de puntos $S$ es separable linealmente, pueden existir infinitos planos separadores  para $S$. ¿Puede imaginar porque?"
   ]
  },
  {
   "cell_type": "code",
   "execution_count": null,
   "id": "3eeb505b-d5d7-43fc-b7ac-d48f019aa0f2",
   "metadata": {
    "tags": []
   },
   "outputs": [],
   "source": [
    "import matplotlib.pyplot as plt\n",
    "import numpy as\n",
    "np.random.seed(1000)\n",
    "x = np.linspace(-1.5, 1.5, 200)\n",
    "y = 2*x + 1\n",
    "\n",
    "_x = np.linspace(-1., 1., 50)\n",
    "_y = 2 * _x + 1\n",
    "y_eps = np.random.rand(_x.shape[0])\n",
    "y_out = _y + y_eps \n",
    "x_eps =  np.random.rand(_x.shape[0])\n",
    "x_out = _x + x_eps\n",
    "\n",
    "#plt.annotate('$y = 2 x + 1$', xy=(-0.20, 0.9),  xycoords='data', rotation=38, size=10, color ='blue')\n",
    "#plt.annotate('$y > 2 x + 1$', xy=(-1.0, 1.5),  xycoords='data', rotation=0, size=10, color ='red')\n",
    "#plt.annotate('$y < 2 x + 1$', xy=(0.5, 0.0),  xycoords='data', rotation=0, size=10, color ='red')\n",
    "plt.grid()\n",
    "plt.plot(x,y, color='gray')\n",
    "plt.scatter(_x, y_out, color = 'blue')\n",
    "plt.scatter(x_out, _y, color = 'red')\n",
    "plt.title('Una recta divide el plano en dos tres partes disyuntas', color='blue')\n",
    "plt.savefig('../imagenes/datos_separables_recta.png')\n",
    "plt.show()"
   ]
  },
  {
   "cell_type": "markdown",
   "id": "477e4490-7dd6-4f6e-a48d-3f9adc711de5",
   "metadata": {
    "tags": []
   },
   "source": [
    "<figure>\n",
    "    <center>\n",
    "        <img src=\"../imagenes/datos_separables_recta.png\" align=\"center\"/> \n",
    "            <figcaption>Datos separables por una línea recta. \n",
    "            </figcaption>\n",
    "    </center>\n",
    "</figure>\n",
    "\n",
    "Fuente: Alvaro Montenegro"
   ]
  },
  {
   "cell_type": "markdown",
   "id": "4f31f2e1-470e-4271-96f4-81a9a1763bd8",
   "metadata": {
    "tags": []
   },
   "source": [
    "## <span style=\"color:blue\"><center>Datos separables linealmente en 3D</center></span>"
   ]
  },
  {
   "cell_type": "code",
   "execution_count": null,
   "id": "99dfbbcb-bd3a-4dde-b404-b88525d8b688",
   "metadata": {},
   "outputs": [],
   "source": [
    "%matplotlib widget\n",
    "\n",
    "import matplotlib.pyplot as plt\n",
    "import numpy as np\n",
    "\n",
    "# Fixing random state for reproducibility\n",
    "np.random.seed(19680801)\n",
    "\n",
    "\n",
    "def randrange(n, vmin, vmax):\n",
    "    \"\"\"\n",
    "    Helper function to make an array of random numbers having shape (n, )\n",
    "    with each number distributed Uniform(vmin, vmax).\n",
    "    \"\"\"\n",
    "    return (vmax - vmin)*np.random.rand(n) + vmin\n",
    "\n",
    "fig = plt.figure()\n",
    "ax = fig.add_subplot(projection='3d')\n",
    "\n",
    "n = 100\n",
    "\n",
    "# For each set of style and range settings, plot n random points in the box\n",
    "# defined by x in [23, 32], y in [0, 100], z in [zlow, zhigh].\n",
    "for m, zlow, zhigh in [('o', -2, -1), ('^', 0, 1)]:\n",
    "    xs = randrange(n, 23, 32)\n",
    "    ys = randrange(n, 0, 100)\n",
    "    zs = randrange(n, zlow, zhigh)\n",
    "    ax.scatter(xs, ys, zs, marker=m)\n",
    "\n",
    "x, y = np.meshgrid(xs, ys)\n",
    "\n",
    "z = x-x + y-y -0.25\n",
    "ax.plot_surface(x, y, z, color='blue', alpha= 0.005 )\n",
    "    \n",
    "ax.set_xlabel('x')\n",
    "ax.set_ylabel('y')\n",
    "ax.set_zlabel('z')\n",
    "plt.savefig('../imagenes/puntos_separables_3D.png')\n",
    "plt.show()"
   ]
  },
  {
   "cell_type": "markdown",
   "id": "0c622fd1-98bb-4e78-9834-8103dca1d42c",
   "metadata": {},
   "source": [
    "<figure>\n",
    "    <center>\n",
    "        <img src=\"../imagenes/puntos_separables_3D.png\" align=\"center\"/> \n",
    "            <figcaption>Datos separables por un plano en 3D. \n",
    "            </figcaption>\n",
    "    </center>\n",
    "</figure>\n",
    "\n",
    "Fuente: Alvaro Montenegro"
   ]
  },
  {
   "cell_type": "markdown",
   "id": "e186b6e5-1703-4c31-a85a-c91974fadafc",
   "metadata": {
    "tags": []
   },
   "source": [
    "## <span style=\"color:blue\"><center>Datos no separables linealmente en 2D</center></span>"
   ]
  },
  {
   "cell_type": "markdown",
   "id": "d74c7f4a-1731-4c54-8fc9-766e083ba3a9",
   "metadata": {},
   "source": [
    "El siguiente ejemplo presenta un conjunto de datos en $\\mathfrak{R}^2$ que no pueden separarse linealmente."
   ]
  },
  {
   "cell_type": "code",
   "execution_count": null,
   "id": "5090841e-9bcb-49d7-bb3e-59ccfc66c78e",
   "metadata": {
    "tags": []
   },
   "outputs": [],
   "source": [
    "%matplotlib widget\n",
    "\n",
    "import matplotlib.pyplot as plt\n",
    "from mpl_toolkits.mplot3d import Axes3D\n",
    "import numpy as np\n",
    "\n",
    "num_in = 100\n",
    "num_out = 150\n",
    "\n",
    "np.random.seed(seed=100)\n",
    "radio_in = np.sqrt(np.random.rand(num_in))\n",
    "radio_out = np.sqrt(np.random.rand(num_out)) + 1.0\n",
    "\n",
    "theta_in = np.random.rand(num_in) * 2 * np.pi -np.pi\n",
    "theta_out = np.random.rand(num_out) * 2* np.pi - np.pi\n",
    "\n",
    "x_in = radio_in * np.cos(theta_in)\n",
    "y_in = radio_in * np.sin(theta_in)\n",
    "\n",
    "x_out = radio_out * np.cos(theta_out)\n",
    "y_out = radio_out * np.sin(theta_out)\n",
    "\n",
    "\n",
    "plt.close('all')\n",
    "fig = plt.figure(figsize=(6, 6))\n",
    "plt.scatter(x_out, y_out, color ='red')\n",
    "plt.scatter(x_in, y_in, color ='blue')\n",
    "# círculo\n",
    "_t = np.arange(0,7,0.1)\n",
    "_x = np.cos(_t)\n",
    "_y = np.sin(_t)\n",
    "plt.plot(_x,_y,'g-')\n",
    "plt.xlim(-2,2)\n",
    "plt.ylim(-2, 2)\n",
    "plt.xlabel('x')\n",
    "plt.ylabel('y')\n",
    "plt.title('Datos no separables linealmente')\n",
    "plt.grid(True)\n",
    "plt.savefig('../imagenes/imag.png')\n",
    "plt.show()"
   ]
  },
  {
   "cell_type": "markdown",
   "id": "82030bd0-e07d-4216-91c3-dded06826733",
   "metadata": {},
   "source": [
    "<figure>\n",
    "    <center>\n",
    "        <img src=\"../imagenes/imag.png\" width=\"600\" height=\"600\" align=\"center\"/> \n",
    "            <figcaption>Fuente: Alvaro Montenegro\n",
    "            </figcaption>\n",
    "    </center>\n",
    "</figure>"
   ]
  },
  {
   "cell_type": "markdown",
   "id": "d9b6ed25-b38d-4780-877f-76f9f3ffa72b",
   "metadata": {
    "slideshow": {
     "slide_type": "subslide"
    },
    "tags": []
   },
   "source": [
    "## <span style=\"color:blue\">Transformando los datos para que sean linealmente separables</span>"
   ]
  },
  {
   "cell_type": "markdown",
   "id": "82fb1f22-0863-4752-9dbf-aa1d744b9cd8",
   "metadata": {
    "slideshow": {
     "slide_type": "subslide"
    },
    "tags": []
   },
   "source": [
    "Existen diferentes estrategias que permiten transformar un conjunto de datos no separable en otro que si sea separable. El **truco** es subir a un espacio más grande. veamos como podríamos hacerlo en el anterior ejemplo.\n",
    "\n",
    "El truco es usar la siguiente transformación de los datos\n",
    "\n",
    "$$\n",
    "\\large{\n",
    "(x,y) \\mapsto (x,y, x^2 + y^2)\n",
    "}.\n",
    "$$\n",
    "\n",
    "Observe que el conjunto de datos transformado ahora está en $\\mathfrak{R}^3$ y ya es separable linealmente.\n",
    "\n",
    "El problema en la practica es diseñar procedimientos generales para tratar de incrustar los datos en un espacio más grande, que llamaremos espacio de características o `feature space`, de tal manera que los datos transformados sean separables (o `casi separables, en el sentido de un error pequeño`) en ese espacio.\n",
    "\n",
    "**Invitamos a imaginar como sería un plano separador en este caso**."
   ]
  },
  {
   "cell_type": "code",
   "execution_count": null,
   "id": "60525b56-8ee8-492e-bfb8-9c62c1c0fe51",
   "metadata": {
    "slideshow": {
     "slide_type": "fragment"
    },
    "tags": []
   },
   "outputs": [],
   "source": [
    "%matplotlib widget\n",
    "\n",
    "import matplotlib.pyplot as plt\n",
    "from mpl_toolkits.mplot3d import Axes3D\n",
    "import numpy as np\n",
    "\n",
    "\n",
    "x = np.arange(-2, 2, 0.2)\n",
    "y = np.arange(-2, 2, 0.2)\n",
    "\n",
    "X, Y = np.meshgrid(x, y)\n",
    "\n",
    "Z = (X**2 + Y**2) \n",
    "\n",
    "Z1 = X + Y - 1\n",
    "Z2 = Z1-Z1 + 1\n",
    "\n",
    "fig = plt.figure(figsize=(8, 8))\n",
    "ax = Axes3D(fig, auto_add_to_figure=False )\n",
    "#ax = fig.gca(projection='3d')\n",
    "fig.add_axes(ax)\n",
    "\n",
    "# plano\n",
    "#ax.plot_surface(X, Y, Z1, color='blue', alpha= 0.3 )\n",
    "# superficie\n",
    "ax.plot_surface(X, Y, Z, color='green', alpha= 0.1)\n",
    "ax.plot_surface(X, Y, Z2, color='green', alpha= 0.1)\n",
    "\n",
    "# puntos in\n",
    "z_in = x_in**2 + y_in**2\n",
    "ax.scatter3D(x_in,  y_in, z_in, alpha=0.8, s=60, color='blue')\n",
    "\n",
    "# puntos out\n",
    "z_out = x_out**2 + y_out**2\n",
    "ax.scatter3D(x_out,  y_out, z_out, alpha=0.8, s=60, color='red')\n",
    "\n",
    "ax.set_xlabel('x')\n",
    "ax.set_ylabel('y')\n",
    "ax.set_zlabel('z ')\n",
    "\n",
    "plt.subplots_adjust(top = 1, bottom = 0, right = 1, left = 0, \n",
    "            hspace = 0, wspace = 0)\n",
    "#plt.xticks([]) \n",
    "#plt.yticks([]) \n",
    "#plt.title('Transformación $(x,y) \\longrightarrow (x,y, x^2 + y^2)$')\n",
    "fig.suptitle('Transformación $(x,y) \\longrightarrow (x,y, x^2 + y^2)$', fontsize='xx-large')\n",
    "plt.savefig('../imagenes/transformation.png', bbox_inches='tight', pad_inches=0.2)\n",
    "plt.show()"
   ]
  },
  {
   "cell_type": "markdown",
   "id": "8fbb1f77-30ac-4c17-960c-7956c1d35637",
   "metadata": {},
   "source": [
    "<figure>\n",
    "    <center>\n",
    "        <img src=\"../imagenes/transformation_1.png\" width=\"600\" height=\"600\" align=\"center\"/> \n",
    "            <figcaption>Transformación de los datos a un espacio con más dimensiones\n",
    "            </figcaption>\n",
    "    </center>\n",
    "</figure>\n",
    "\n",
    "Fuente: Alvaro Montenegro"
   ]
  },
  {
   "cell_type": "markdown",
   "id": "7609aedd-c197-4cca-b810-7b9989e65030",
   "metadata": {},
   "source": [
    "Si ha observado detenidamente los separadores lineales presentados antes, es decir las líneas rectas y los planos pueden escribirse de la siguiente manera genérica.\n",
    "\n",
    "$$\n",
    "\\large{w'x - b  = w_1x_1 + w_2x_2 + \\ldots w_nx_n -b = 0},\n",
    "$$\n",
    "\n",
    "En donde $w$ es el parámetro del modelo que tiene dimensión geométrica $n-1$ en relación con la dimensión $n$ del espacio geométrico que separa. Por ejemplo si estamos en el espacio 3D, se tiene que n=3 y que entonces un separador lineal es un plano con ecuación\n",
    "\n",
    "$$\n",
    "\\large{w_1 x_1 + w_2x_2 - b =  0},\n",
    "$$\n",
    "\n",
    "En ocasiones se reescribe el vector $w$ en la forma $(w_0, \\dots, w_n)$ y $x = (1, x_1 \\ldots x_n)$, con lo cual ahora la ecuación del separador lineal toma la forma\n",
    "\n",
    "\n",
    "$$\n",
    "\\large{ w'x = w_0 1 + w_1x_1 + \\ldots w_nx_n = 0},\n",
    "$$\n",
    "\n",
    "Se dice que esta ecuación define un hiperplano separador en  el espacio euclidiano de dimensión $n$, denotado $\\mathfrak{R}^n$."
   ]
  },
  {
   "cell_type": "markdown",
   "id": "3af5ec04-7ac0-4f5f-8cac-3f63b6c6a83f",
   "metadata": {},
   "source": [
    "Como vimos antes, un hiperplano de dimensión $n-1$ separa el correspndiente espacio euclidiano en subespacios:\n",
    "\n",
    "<figure>\n",
    "    <center>\n",
    "        <img src=\"../imagenes/recta.png\" width= 200 heigh = 200 align=\"center\"/> \n",
    "            <figcaption>Recta dividiendo el plano. Fuente: Alvaro Montenegro\n",
    "            </figcaption>\n",
    "    </center>\n",
    "</figure>"
   ]
  },
  {
   "cell_type": "markdown",
   "id": "8e32486b-4f31-4165-b569-a4c20aa0592f",
   "metadata": {},
   "source": [
    "El hiperplano que corresponde al conjunto de puntos $x$ que cumplen con la ecuación\n",
    "$$\n",
    "\\large{ w'x = w_0 1 + w_1x_1 + \\ldots w_nx_n = 0},\n",
    "$$\n",
    "\n",
    "que llamaremos `puntos neutros, indiferentes o de frontera`.\n",
    "\n",
    "* El subespacio de los puntos que están *'por encima'* del hiperplano, que llamaremos `puntos positivos`  es decir los puntos $x$ que satisfacen\n",
    "$$\n",
    "\\large{ w'x = w_0 1 + w_1x_1 + \\ldots w_nx_n > 0}.\n",
    "$$\n",
    "\n",
    "* El subespacio de los puntos que están *'por debajo* del hiperplano que llamaremos `puntos negativos`, es decir los puntos x auq satisfacen\n",
    "$$\n",
    "\\large{ w'x = w_0 1 + w_1x_1 + \\ldots w_nx_n < 0}.\n",
    "$$"
   ]
  },
  {
   "cell_type": "markdown",
   "id": "8a40001b-b389-492f-a748-cd341cb30f73",
   "metadata": {
    "tags": []
   },
   "source": [
    "## <span style=\"color:blue\"><center>Producto escalar</center></span>"
   ]
  },
  {
   "cell_type": "markdown",
   "id": "c88401f3-4e42-4a1b-baae-3de87ab6d8b0",
   "metadata": {},
   "source": [
    "Si se tenemos dos vectores en el  plano, digamos $(x,y)$ y $(u,w)$, el producto escalar entre estos dos vectores es definido por\n",
    "\n",
    "\n",
    "$$\n",
    "\\large{(x,y)\\begin{pmatrix}x \\\\ y \\end{pmatrix}} = x\\ast u + y\\ast w.\n",
    "$$\n",
    "\n",
    "\n",
    "<figure>\n",
    "    <center>\n",
    "        <img src=\"../imagenes/Animación_del_producto_escala.gif\"  width=\"600\" height=\"600\" align=\"center\"/> \n",
    "            <figcaption>Producto escalar en $\\mathfrak{R}^2$\n",
    "            </figcaption>\n",
    "    </center>\n",
    "</figure>\n",
    "\n",
    "Fuente: [Wiki commons](https://commons.wikimedia.org/w/index.php?search=producto+escalar&title=Special:MediaSearch&go=Go&type=image).\n",
    "\n",
    "\n",
    "En general, si  $x = (x_1, \\ldots, x_n)$ y $z=(z_1, \\ldots z_n)$ son vectores en el espacio euclidiano $\\mathfrak{R}^n$, se define  el producto escalar entre $z$ y $w$ como\n",
    "\n",
    "$$\n",
    "\\huge{<x,z>  = x_1\\ast z_1, \\ldots x_n  \\ast z_n}.\n",
    "$$"
   ]
  },
  {
   "cell_type": "markdown",
   "id": "6a53324a-32f8-47a8-9b8c-135707bed42c",
   "metadata": {},
   "source": [
    "## <span style=\"color:blue\"><center>Norma de un vector</center></span>"
   ]
  },
  {
   "cell_type": "markdown",
   "id": "86dc1005-3a86-40dc-93d7-e6f5542584fb",
   "metadata": {},
   "source": [
    "Supongamos que $\\mathbf{w} \\in \\mathfrak{R}^n$ es un vector. La norma (o tamaño) del vector se denota por $||\\mathbf{w}||$ y se define como\n",
    "\n",
    "$$\n",
    "\\huge||\\mathbf{w}|| = \\sqrt{<\\mathbf{w}, \\mathbf{w}>} = \\sqrt{w_1^2+ \\ldots + w_n^2}.\n",
    "$$"
   ]
  },
  {
   "cell_type": "markdown",
   "id": "94be6500-5eaf-4d71-b7b8-4bcfd2b301b4",
   "metadata": {},
   "source": [
    "## <span style=\"color:blue\"><center>Proyección de un vector sobre otro</center></span>"
   ]
  },
  {
   "cell_type": "markdown",
   "id": "ea547d2d-fde1-4460-a526-7e032fe3e774",
   "metadata": {},
   "source": [
    "Si $\\mathbf{x}$ y $\\mathbf{w}$ son dos vectores en $\\mathfrak{R}^n$, la proyección del vector $\\mathbf{x}$ sobre el vector $\\mathbf{y}$ es denotada $Pr_{\\mathbf{w}}\\mathbf{x}$ y dedinida como\n",
    "\n",
    "$$\n",
    "\\large{\n",
    "Pr_{\\mathbf{w}}\\mathbf{x} = \\left[\\frac{<\\mathbf{w}, \\mathbf{x}>}{||\\mathbf{w}||}\\right] \\frac{\\mathbf{w}}{||\\mathbf{w}||}\n",
    "} \n",
    "$$\n",
    "\n",
    "\n",
    "<figure>\n",
    "    <center>\n",
    "        <img src=\"../imagenes/projection.png\" width=\"400\" height=\"400\" align=\"center\"/> \n",
    "            <figcaption>Proyección de un vector sobre otro\n",
    "            </figcaption>\n",
    "    </center>\n",
    "</figure>\n",
    "\n",
    "Fuente: [kristakingmath](https://www.kristakingmath.com/blog/scalar-and-vector-projections)\n",
    "\n",
    "No insteresa con esta noción observar que si $||\\mathbf{w}||=1$, entonces $<\\mathbf{w}, \\mathbf{x}>$ es la longitud de la proyección del vector $\\mathbf{x}$  a lo largo del rayo determinado por el vector $\\mathbf{w}$."
   ]
  },
  {
   "cell_type": "markdown",
   "id": "04833167-84f3-44e1-97ce-dc053ea4d924",
   "metadata": {},
   "source": [
    "## <span style=\"color:blue\"><center>Separación lineal y función predictiva</center></span>"
   ]
  },
  {
   "cell_type": "markdown",
   "id": "61dafa23-8c95-48c6-ac39-3672fd1064d2",
   "metadata": {},
   "source": [
    "En un problema de clasificación en dos clases, por ejemplo para distinguir entre perros y gatos, por lo general tenemos un conjunto de características, digamos $\\mathbf{x}=(x_1, \\ldots, x_n)$, que esperamos permitan diferenciar a un perro de un gato. \n",
    "\n",
    "Dado  un vector de pesos $\\mathbf{w}=(w_1,\\ldots, w_n)$ y un umbral $b$  definamos la `función predictiva` $f_{\\mathbf{w},b}(x) $ mediante\n",
    "\n",
    "$$\n",
    "\\large{f_{\\mathbf{w},b}(x) = \\hspace{0.2cm} <\\mathbf{w}, \\mathbf{x}> + \\hspace{0.2cm} b}.\n",
    "$$\n",
    "\n",
    "Tenga en cuenta que $<\\mathbf{w}, \\mathbf{x}>  + \\hspace{0.2cm} b=0$ es un hiperplano separador. Entonces, se tiene que\n",
    "\n",
    "* $f_{\\mathbf{w},b}(\\mathbf{x})> 0$ para todos los puntos positivos.\n",
    "* $f_{\\mathbf{w},b}(\\mathbf{x})= 0$ para todos los puntos de frontera.\n",
    "* $f_{\\mathbf{w},b}(\\mathbf{x})< 0$ para todos los puntos negativos.\n",
    "\n",
    "Ahora definimos la función de clasificación $g_{\\mathbf{w},b}()$ mediante\n",
    "\n",
    "$$\n",
    "g_{\\mathbf{w},b}(x) = \n",
    "\\begin{cases} \n",
    "1 &\\text{ si } f_{\\mathbf{w},b}(\\mathbf{x})\\ge 0,\\\\\n",
    "-1  &\\text{ si } f_{\\mathbf{w},b}(\\mathbf{x})< 0,\\\\\n",
    "\\end{cases}\n",
    "$$\n",
    "\n",
    "\n",
    "\n",
    "Si etiquetamos las características $\\mathbf{x}$ de los perros con -1, y las de los gatos con -1, decimos que los perros y los gatos son `linealmente separables` a partir de sus características $\\mathbf{x}$, si es posible construir una función de clasificación $g$, que clasifique correctamente los datos. \n",
    "\n"
   ]
  },
  {
   "cell_type": "markdown",
   "id": "6cc144f4-78a4-4b6f-a0b3-90555a52aba8",
   "metadata": {},
   "source": [
    "## <span style=\"color:blue\"><center>Algoritmo  genérico para construir un clasificador lineal</center></span>"
   ]
  },
  {
   "cell_type": "markdown",
   "id": "5238152b-461a-4a6f-a841-41fea56b56cf",
   "metadata": {},
   "source": [
    "Consideremos la tarea supervisada de clasificación binaria. Vamos a considerar que los datos viene dados en parejas\n",
    "\n",
    "$$\n",
    "\\large{\n",
    "S = \\{(x_1, y_1), \\ldots, (x_l, y_l) \\}}\n",
    "$$\n",
    "\n",
    "en donde la $x$'s son las características (features) y las $y$'s son la etiquetas. Cada punto $x_i$ proviene de un conjunto $X \\subset \\mathfrak{R}^n$ y las etiquetas $y_i$ provienen del conjunto $Y= \\{-1, +1\\}$ \n",
    "\n",
    "El clasificador lineal binario se define mediante la función\n",
    "\n",
    "$$\n",
    "g_{\\mathbf{w},b}(\\mathbf{x}) = \\text{signo}(<\\mathbf{w},\\mathbf{x}> + b),\n",
    "$$\n",
    "\n",
    "La función *signo* es definida por\n",
    "\n",
    "$$\n",
    "\\text{signo}(x) = \n",
    "\\begin{cases} \n",
    "1 &\\text{ si } x\\ge 0,\\\\\n",
    "-1  &\\text{ si } x< 0,\\\\\n",
    "\\end{cases}\n",
    "$$\n",
    "\n",
    "Aquí adoptamos la convención *signo(0)= 1*, por comodidad del desarrollo.\n",
    "\n",
    "En términos estadísticos, el problema consiste en hallar $\\mathbf{w}$ y $b$  tal que\n",
    "\n",
    "$$\n",
    "\\large{\n",
    "E[0.5|g_{\\mathbf{w},b}(\\mathbf{x})-y|]\n",
    "}\n",
    "$$\n",
    "\n",
    "es pequeño. El signo $|\\cdot|$ se  usa para denotar discrepancia o distancia."
   ]
  },
  {
   "cell_type": "markdown",
   "id": "3e37be25-5896-4a0d-a5f6-08cdc1942b60",
   "metadata": {},
   "source": [
    "## <span style=\"color:blue\"><center>Transformando un problema de separación no lineal</center></span>"
   ]
  },
  {
   "cell_type": "markdown",
   "id": "a04b76ff-c6d9-4b70-bf1a-0269d6c09bc1",
   "metadata": {},
   "source": [
    "Vamos a regresar a nuestro ejemplo inicial de datos no separables linealmente. Recuerde que ya mostramos como es posible hacer un incrustamiento (embedding) en un espacio más grande. Pasamos del espacio 2D al espacio 3D por medio de la transformación\n",
    "\n",
    "$$\n",
    "\\large{\n",
    "(x,y) \\mapsto (x,y, x^2 + y^2).\n",
    "}\n",
    "$$\n",
    "\n",
    "En este momento vamos a considerar una nueva transformación dada por\n",
    "\n",
    "$$\n",
    "\\large{\n",
    "(x,y) \\mapsto (x^2,y^2, \\sqrt{2}xy)\n",
    "}\n",
    "$$\n",
    "\n",
    "La siguiente imagen ilustra una vista de como resultan transformados los datos. \n"
   ]
  },
  {
   "cell_type": "code",
   "execution_count": null,
   "id": "19173ed7-d991-4d75-8c7d-4dd352449a94",
   "metadata": {},
   "outputs": [],
   "source": [
    "%matplotlib widget\n",
    "\n",
    "import matplotlib.pyplot as plt\n",
    "from mpl_toolkits.mplot3d import Axes3D\n",
    "import numpy as np\n",
    "\n",
    "# puntos\n",
    "num_in = 100\n",
    "num_out = 150\n",
    "\n",
    "np.random.seed(seed=100)\n",
    "radio_in = np.sqrt(np.random.rand(num_in))\n",
    "radio_out = np.sqrt(np.random.rand(num_out)) + 1.0\n",
    "\n",
    "theta_in = np.random.rand(num_in) * 2 * np.pi -np.pi\n",
    "theta_out = np.random.rand(num_out) * 2* np.pi - np.pi\n",
    "\n",
    "x_in = radio_in * np.cos(theta_in)\n",
    "y_in = radio_in * np.sin(theta_in)\n",
    "\n",
    "x_out = radio_out * np.cos(theta_out)\n",
    "y_out = radio_out * np.sin(theta_out)\n",
    "\n",
    "\n",
    "# transformación\n",
    "\n",
    "\n",
    "fig = plt.figure(figsize=(8, 8))\n",
    "ax = Axes3D(fig, auto_add_to_figure=False )\n",
    "#ax = fig.gca(projection='3d')\n",
    "fig.add_axes(ax)\n",
    "\n",
    "# puntos in\n",
    "z_in = np.sqrt(2)* (x_in * y_in)\n",
    "ax.scatter3D(x_in**2,  y_in*2, z_in, alpha=0.8, s=20, color='blue')\n",
    "\n",
    "# puntos out\n",
    "z_out = np.sqrt(2)* (x_out * y_out)\n",
    "ax.scatter3D(x_out**2,  y_out*2, z_out, alpha=0.8, s=20, color='red')\n",
    "\n",
    "\n",
    "plt.subplots_adjust(top = 1, bottom = 0, right = 1, left = 0, \n",
    "            hspace = 0, wspace = 0)\n",
    "\n",
    "ax.set_xticks([])\n",
    "ax.set_yticks([])\n",
    "ax.set_zticks([])\n",
    "\n",
    "fig.suptitle('Transformación $(x,y) \\longrightarrow (x^2,y^2, \\sqrt{2}xy)$', fontsize='xx-large')\n",
    "#plt.savefig('../imagenes/embedding_2.png', bbox_inches='tight', pad_inches=0.2)\n",
    "plt.show()"
   ]
  },
  {
   "cell_type": "markdown",
   "id": "ef9caa1f-3e54-4c66-a9e9-e76ed950090d",
   "metadata": {},
   "source": [
    "<figure>\n",
    "    <center>\n",
    "        <img src=\"../imagenes/embedding_2.png\" width= 600 heigh = 600 align=\"center\"/> \n",
    "            <figcaption>Datos transformados con un kernel\n",
    "            </figcaption>\n",
    "    </center>\n",
    "</figure>\n",
    "\n",
    "Fuente: Alvaro Montenegro"
   ]
  },
  {
   "cell_type": "markdown",
   "id": "9db81656-e4bd-4153-abbf-4fdc4267cb8f",
   "metadata": {},
   "source": [
    "## <span style=\"color:blue\"><center>El truco del kernel</center></span>"
   ]
  },
  {
   "cell_type": "markdown",
   "id": "f9c2b5f5-1a0b-4deb-acae-6d24255ea813",
   "metadata": {},
   "source": [
    "Por facilidad los puntos originales serán denotados simplemente  mediante $x=(x_1, x_2)$ y los puntos transformados mediante $\\phi(x)$. Entonces tenemos que\n",
    "\n",
    "$$\n",
    "\\large{\n",
    "\\phi(x) = (x_1^2, x_2^2, \\sqrt{2}x_1x_2)\n",
    "}\n",
    "$$\n",
    "\n",
    "Los punto transformados están ahora en $\\mathfrak{R}^3$. Vamos en seguida a calcular el producto escalar entre dos vectores transformados $w$ y $u$. Tenemos que\n",
    "\n",
    "$$\n",
    "\\large{\n",
    "<\\phi(w),\\phi(v)> = (w_1v_1 + w_2v_2)^2 = \\hspace{0.2cm} <w,v>^2\n",
    "}\n",
    "$$\n",
    "\n",
    "Es decir, que \n",
    "\n",
    "**<center>¡Podemos calcular el producto en el espacio destino sin transformar los datos originales!</center>**\n"
   ]
  },
  {
   "cell_type": "markdown",
   "id": "da45b5d5-1ec7-4c6a-b41f-5a95884f9523",
   "metadata": {},
   "source": [
    "## <span style=\"color:blue\"><center>Función Kernel</center></span>"
   ]
  },
  {
   "cell_type": "markdown",
   "id": "7fda0e24-9431-44ca-a997-bcfff8d2aec2",
   "metadata": {},
   "source": [
    "Consideremos una función de sumergimiento $\\phi$ tal que\n",
    "\n",
    "$$\n",
    "\\large{\n",
    "\\phi: x \\mapsto \\phi(x) \\in F\n",
    "}\n",
    "$$\n",
    "\n",
    "\n",
    "El espacio $F$ se denomina espacio de características (features). Un `kernel` es una función $\\kappa$ que satisface\n",
    "\n",
    "\n",
    "$$\n",
    "\\large{\n",
    "\\kappa(x,y) = <\\phi(x), \\phi(y)>\n",
    "}\n",
    "$$\n",
    "\n",
    "**Interpretación**\n",
    "\n",
    "Un kernel es una función que calcula el producto escalar de dos datos en el espacio de características, sin necesidad de transformar individualmente cada uno de los datos."
   ]
  },
  {
   "cell_type": "markdown",
   "id": "51f54b5c-e7fe-4fee-99ca-fd5a813baa8e",
   "metadata": {},
   "source": [
    "## <span style=\"color:blue\"><center>Función Predictiva revisitada</center></span>"
   ]
  },
  {
   "cell_type": "markdown",
   "id": "1bc48c32-ba33-4b5d-bcfc-c2983dbd658f",
   "metadata": {},
   "source": [
    "\n",
    "\n",
    "Los matemáticos han demostrado que para un conjunto de datos  $ S= \\{(x_1, y_1), \\ldots, (x_p, y_p)\\}$ \n",
    "una función predictiva $f_{\\mathbf{w},b}$ puede escribirse como\n",
    "\n",
    "$$\n",
    "\\large{\n",
    "f_{\\mathbf{w},b}(x) = \\sum_{i=1}^p a_i <x_i,x>,\n",
    "}\n",
    "$$\n",
    "\n",
    "Si denotamos por $\\mathbf{a}$ al vector de pesos $(a_1, \\cdots, a_p)$, como $\\mathbf{y}$ al vector de etiquetas, entonces se tiene que\n",
    "\n",
    "$$\n",
    "\\large{\n",
    "\\mathbf{a} = G^{-1}\\mathbf{y}\n",
    "}\n",
    "$$\n",
    "\n",
    "y el punto central aquí es que la `matriz Gram` $G$ tiene como elementos\n",
    "\n",
    "$$\n",
    "\\large{\n",
    "G_{i,j} = <\\mathbf{x}_i, \\mathbf{x}_j>\n",
    "}\n",
    "$$\n",
    "\n",
    "Es decir la matriz de los productos escalares entre todos los puntos del conjunto $S$\n",
    "\n",
    "Si la matriz Gram $G$ tien problemas para ser invertida, se toma un valor $\\lambda>0$ y la matriz identidad $I$ para obtener una solución de la forma \n",
    "\n",
    "$$\n",
    "\\large{\n",
    "\\mathbf{\\alpha} = \\left[G+\\lambda I\\right]^{-1}\\mathbf{y}\n",
    "}\n",
    "$$\n"
   ]
  },
  {
   "cell_type": "markdown",
   "id": "5ba3a7ab-3ec6-4bcd-b63b-577b24646da5",
   "metadata": {
    "tags": []
   },
   "source": [
    "## <span style=\"color:blue\"><center>Kernel y función predictiva </center></span>"
   ]
  },
  {
   "cell_type": "markdown",
   "id": "47fdd41d-3452-4272-a85a-ea82690fb7de",
   "metadata": {
    "tags": []
   },
   "source": [
    "**Hemos llegado a un punto culminante de esta charla**. Para resumir lo importante digamos que:\n",
    "\n",
    "1. Es posible transformar problemas no separables linealmente en problemas separables linealmente mediante sumergimiento de los datos en espacios de características.\n",
    "1. Un kernel, calcula el producto escalar en el espacio de características determinado por un sumergimiento, sin necesidad de sumergir cada punto de manera individual.\n",
    "1. Una función predictiva para separación lineal puede escribirse en términos del producto escalar entre los puntos, mediante el uso de la matriz Gram. \n",
    "\n",
    "\n",
    "Entonces, si disponemos de un kernel, la matriz Gram en el espacio de características se puede calcular mediante\n",
    "\n",
    "$$\n",
    "\\large{\n",
    "G_{ij} = <\\phi(x_i),\\phi( x_j)> = \\kappa(x_i,x_j)\n",
    "}.\n",
    "$$\n",
    "\n"
   ]
  },
  {
   "cell_type": "markdown",
   "id": "e5a8c76b-00fc-4ca2-960c-247d96cd7b97",
   "metadata": {
    "tags": []
   },
   "source": [
    "## <span style=\"color:blue\"><center>Construcción de kernels</center></span>"
   ]
  },
  {
   "cell_type": "markdown",
   "id": "6b69c7b1-cede-4128-824d-c2de43a23ffe",
   "metadata": {
    "tags": []
   },
   "source": [
    "Supongamos que \n",
    "\n",
    "* $\\kappa_1$ y $\\kappa_2$ son kernels.\n",
    "* $f(\\cdot)$ es una función real.\n",
    "* $\\phi$ es un sumergimiento en $\\mathfrak{R}^n$ con kernel $\\kappa_3$\n",
    "* $B$ es una matriz positiva y semidefinida positiva\n",
    "* $a$ un número real positivo\n",
    "\n",
    "Entonces las siguientes funciones son kernels.\n",
    "\n",
    "1. $\\kappa(x,z) = \\kappa_1(x,z) + \\kappa_2(x,z)$\n",
    "1.  $\\kappa(x,z) = a\\kappa_1(x,z) $\n",
    "1.  $\\kappa(x,z) = \\kappa_1(x,z)\\ast \\kappa_2(x,z)$\n",
    "1.  $\\kappa(x,z) = f(x) \\ast f(y)$\n",
    "1.  $\\kappa(x,z) = x'Bz$"
   ]
  },
  {
   "cell_type": "markdown",
   "id": "8cb1d2b5-5735-4fd0-adad-a273979e9f09",
   "metadata": {
    "tags": []
   },
   "source": [
    "## <span style=\"color:blue\"><center>Kernels polinomiales y gaussianos</center></span>"
   ]
  },
  {
   "cell_type": "markdown",
   "id": "8029174e-511a-4bde-9030-439a58f853d3",
   "metadata": {
    "tags": []
   },
   "source": [
    "Supongamos que $\\kappa_1(x,z)$ es un kernel $p(\\cdot)$ es un polinomio con coeficientes positivos.\n",
    "\n",
    "Entonces las siguientes funciones son kernels.\n",
    "\n",
    "1. $\\kappa(x,z) = p(\\kappa_1(x,z))$\n",
    "1.  $\\kappa(x,z) = \\exp (\\kappa_1(x,z))$\n",
    "1.  $\\kappa(x,z) = \\exp (-||x-z||/(2\\sigma^2))$"
   ]
  },
  {
   "cell_type": "markdown",
   "id": "f79ba7d0-7da2-47ea-b3f2-a1330c86b1bc",
   "metadata": {},
   "source": [
    "</center></span>"
   ]
  },
  {
   "cell_type": "markdown",
   "id": "75165f9b-c9d3-4891-bedb-b492b9fe6138",
   "metadata": {
    "slideshow": {
     "slide_type": "subslide"
    },
    "tags": []
   },
   "source": [
    "## <span style=\"color:blue\"><center>SVM I. Margen funcional</center></span>"
   ]
  },
  {
   "cell_type": "markdown",
   "id": "d5e1e517-434b-4265-bb45-a35dcc5d5815",
   "metadata": {
    "slideshow": {
     "slide_type": "subslide"
    },
    "tags": []
   },
   "source": [
    "\n",
    "Para una función real  $g$ definida en el espacio de características, su `margen con respecto  a un ejemplo` $(\\mathbf{x},y)$ es definido por\n",
    "\n",
    "$$\n",
    "m(g, (\\mathbf{x},y)) = y g(\\mathbf{x}).\n",
    "$$\n",
    "\n",
    "El margen funcional de la función $f$  con el conjunto de entrenamiento $S=(\\mathbf{x}_1, y_1), \\cdots, \\mathbf{x}_l, y_l)$, es definido por\n",
    "\n",
    "$$\n",
    "m(S,g) = \\min_{1\\le i \\le l} y_i g(\\mathbf{x}_i).\n",
    "$$\n",
    "\n",
    "Dada una función $g$ y un deseado margen $\\lambda$ denotamos por\n",
    "\n",
    "$$\n",
    "\\xi_i = (\\lambda -y_ig(\\mathbf{x},y_i))_+\n",
    "$$\n",
    "\n",
    "al valor por el cual $g$ falla para alcanzar el margen $\\lambda$. Esta cantidad es conocida como la `variable de holgura` del ejemplo. Recuerde que  $(x)_+= x$ si $x\\ge 0$ y cero en otra parte. "
   ]
  },
  {
   "cell_type": "markdown",
   "id": "bdca6f94-842c-4b19-93b3-911912c25f01",
   "metadata": {
    "slideshow": {
     "slide_type": "subslide"
    },
    "tags": []
   },
   "source": [
    "## <span style=\"color:blue\"><center>SVM II. Margen funcional y función de predicción lineal </center></span>"
   ]
  },
  {
   "cell_type": "markdown",
   "id": "011d5c1f-13f1-4dba-9e58-74778c045d1f",
   "metadata": {
    "slideshow": {
     "slide_type": "subslide"
    },
    "tags": []
   },
   "source": [
    "Ya tenemos los requisitos para introducir la máquinas de soporte vectorial (SVM). Para empezar, supongmos que tenemos un conjunto de datos de entrenamiento $S= \\{(\\mathbf{x}_1, y_1), \\cdots, (\\mathbf{x}_p, y_p\\})$. \n",
    "\n",
    "Por otro lado supongamos que existe un función de predicción lineal\n",
    "\n",
    "$$\n",
    "g_{\\mathbf{w},b}(\\mathbf{x}) = <\\mathbf{w}, \\phi(\\mathbf{x})> + \\hspace{0.2cm} b,\n",
    "$$\n",
    "\n",
    "determinada por un vector de pesos $\\mathbf{w}$ y un umbral $b$. Supongamos además que existe una constante $\\gamma > 0$ talque \n",
    "\n",
    "$$\n",
    "\\xi_i = (\\gamma -y_ig(\\mathbf{x}_i))_+ = 0,  \\text{ para } i = 1,\\ldots, p.\n",
    "$$\n",
    "\n",
    "Esto significa que el margen $(S,g)$ del conjunto de entrenamiento satisface\n",
    "\n",
    "$$\n",
    "m(S,g) = \\min_{1\\le i \\le l } y_ig(\\mathbf{x}_i) \\ge \\lambda.\n",
    "$$"
   ]
  },
  {
   "cell_type": "markdown",
   "id": "1b92ec5c-9a56-4d67-9396-f20e1cf8c7e6",
   "metadata": {
    "slideshow": {
     "slide_type": "subslide"
    },
    "tags": []
   },
   "source": [
    "## <span style=\"color:blue\"><center>SVM III. Interpretación del margen funcional y la función de predicción </center></span>"
   ]
  },
  {
   "cell_type": "markdown",
   "id": "9feae180-486f-406e-837e-5f50a4111443",
   "metadata": {
    "slideshow": {
     "slide_type": "subslide"
    },
    "tags": []
   },
   "source": [
    "Informalmente, lo que  queremos  decir es que las dos clases de datos pueden ser separadas por un hiperplano con margen $\\lambda$ como se ilustra a continuación.  Decimos en este caso que el conjunto de datos es `linealmente separable` con margen $\\lambda$. Además se dice que el clasificador resultante es consistente si clasifica correctamente todos los datos de entrenamiento. \n",
    "\n",
    "Margen en el caso de los datos de iris. Fuente: [wiki commons](https://commons.wikimedia.org/w/index.php?search=support+vector+machine&title=Special:MediaSearch&go=Go&type=image)\n",
    "<figure>\n",
    "    <center>\n",
    "        <img src=\"../imagenes/SVM_-_Iris_dataset.png\" width= 400 heigh = 400 align=\"left\"/> \n",
    "            <figcaption> \n",
    "            </figcaption>\n",
    "    </center>\n",
    "</figure>\n",
    "\n",
    "Por comodidad se puede asumir que el vector de pesos tiene norma 1, es decir $||\\mathbf{w}||=1$. En este caso, la expresión $<\\mathbf{w}, \\phi(\\mathbf{x}_i)>$ mide la longitud de la proyección del punto $\\phi(\\mathbf{x}_i)$ sobre el rayo defindo por $\\mathbf{w}$. \n",
    "\n",
    "Tambien se tiene que \n",
    "$$y_i g(\\mathbf{x}_i)= y_i <\\mathbf{w}, \\phi(\\mathbf{x}_i)>$$\n",
    "mide que tan lejos está el punto $\\phi(\\mathbf{x}_i)$ de la frontera definida por el hiperplano."
   ]
  },
  {
   "cell_type": "markdown",
   "id": "9edbd82b-b19c-4665-9f2e-4401bb0b4b0d",
   "metadata": {
    "slideshow": {
     "slide_type": "subslide"
    },
    "tags": []
   },
   "source": [
    "## <span style=\"color:blue\"><center> SVM IV. Máquinas de Soporte Vectorial (SVM)</center></span>"
   ]
  },
  {
   "cell_type": "markdown",
   "id": "ea1ead21-ce34-4217-a892-d611e4f8f81b",
   "metadata": {
    "slideshow": {
     "slide_type": "subslide"
    },
    "tags": []
   },
   "source": [
    "Una máquina de vectores de soporte construye un hiperplano o un conjunto de hiperplanos en un espacio dimensional alto o infinito, que puede usarse para clasificación, regresión u otras tareas. Intuitivamente, una buena separación se logra con el hiperplano que tiene la mayor distancia a los puntos de datos de entrenamiento más cercanos de cualquier clase (el llamado margen funcional), ya que, en general, cuanto mayor es el margen, menor es el error de generalización del clasificador. La siguiente figura muestra la función de decisión para un problema separable linealmente, con tres muestras en los límites del margen, llamados `vectores de soporte`."
   ]
  },
  {
   "cell_type": "markdown",
   "id": "dd389ee5-bc11-419d-93f2-e066e7528a22",
   "metadata": {
    "slideshow": {
     "slide_type": "subslide"
    },
    "tags": []
   },
   "source": [
    "<figure>\n",
    "    <center>\n",
    "        <img src=\"../imagenes/SVM_margin.png\" width = 600 high= 600 align=\"center\"/> \n",
    "            <figcaption>Máquina de Soporte Vectorial\n",
    "            </figcaption>\n",
    "    </center>\n",
    "</figure>"
   ]
  },
  {
   "cell_type": "markdown",
   "id": "751b1b78-1088-4052-a155-f34955a93aa3",
   "metadata": {},
   "source": [
    "## <span style=\"color:blue\"><center> SVM V. Algoritmo SVM lineal</center></span>"
   ]
  },
  {
   "cell_type": "markdown",
   "id": "7998e386-0541-49e0-8e73-ea9b592d8c78",
   "metadata": {},
   "source": [
    "Teniendo en cuenta todo el recorrido hecho hasta el este momento, lo único que resta para construir una máquina de soporte vectorial (SVM) para clasificar un conjunto de entrenamiento $S=\\{(\\mathbf{x}_1, y_1), \\cdots, (\\mathbf{x}_l, y_l)\\}$ es exhibir un algortimo para lograrlo. \n",
    "\n",
    "\n",
    "Si el conjunto de datos $S$ es linealmente separable, el hiperplano $(\\mathbf{w},b)$ que resuelve el siguiente problema de optimización \n",
    "\n",
    "$$\n",
    "\\begin{align}\n",
    "\\text{minimize}_{\\mathbf{w},b} \\hspace{1cm} & \\tfrac{1}{2}<\\mathbf{w},\\mathbf{w}>\\\\\n",
    "\\text{sujeto a} \\hspace{1cm} &y_i(<\\mathbf{w}, \\mathbf{x}_i> + \\hspace{0.2cm} b) \\ge 1\\\\\n",
    "& i= 1, \\ldots, p.\n",
    "\\end{align}\n",
    "$$\n",
    "\n",
    "+ Los vectores $\\mathbf{x}_j$ para los cuales se tiene en la solución que $<\\mathbf{w},\\mathbf{x}_j>  + b  = \\pm 1$ se denominan `vectores de soporte` y son los que actúan como separadores de las clases.\n",
    "\n",
    "\n",
    "es el hiperplano de margen maximal que separa los puntos de $S$ con margen dado por $\\lambda = 1/||\\mathbf{w}||$.\n",
    "\n",
    "Este problema es **convexo**, lo que implica que tiene una única solución. \n"
   ]
  },
  {
   "cell_type": "markdown",
   "id": "661423cb-56a2-4eb8-a369-e9ceec7cc544",
   "metadata": {},
   "source": [
    "## <span style=\"color:blue\"><center> SVM VI. Algoritmo SVM lineal como problema de Programación cuadrática</center></span>"
   ]
  },
  {
   "cell_type": "markdown",
   "id": "cbf2fc93-9237-452a-a8de-258b1b903484",
   "metadata": {},
   "source": [
    "Se puede demostrar que el problema de optimización anterior se puede re-escribir en la siguiente forma, que es la que realmente se implementa con frecuencia\n",
    "\n",
    "$$\n",
    "\\begin{align}\n",
    "\\text{minimize}_{\\mathbf{a}} \\hspace{1cm} & \\tfrac{1}{2}\\mathbf{a}^T \\mathbf{Y}\\mathbf{K}\\mathbf{Y}\\mathbf{a} - \\mathbf{1}^T\\mathbf{a}\\\\\n",
    "\\text{sujeto a} \\hspace{1cm} & \\mathbf{a}^T \\mathbf{y} = 0,\\\\\n",
    "& \\mathbf{a} \\ge 0\n",
    "\\end{align}\n",
    "$$\n",
    "\n",
    "en donde \n",
    "\n",
    "* $\\mathbf{Y} = \\text{diag}(y_1,\\ldots, y_p)$\n",
    "* $\\mathbf{K}$ es la matriz Gram de los puntos $\\mathbf{x}$, es decir, sus elementos son $k_{ij} = <\\mathbf{x}_i, \\mathbf{x}_j>$.\n",
    "\n",
    "El vector $\\mathbf{w}$ es obtenido como\n",
    "\n",
    "$$\n",
    "\\mathbf{w} = \\sum_{i=1}^p a_iy_i\\mathbf{x}_i.\n",
    "$$\n",
    "\n",
    "El umbral $b$ puede obtenerse a partir de cualquier vector soporte $\\mathbf{x}_j$, resolviendo al ecuación $<\\mathbf{w}, \\mathbf{x}_j> + \\hspace{0.2cm} b= 1$ o $<\\mathbf{w}, \\mathbf{x}_j> + \\hspace{0.2cm} b= -1$, según sea el caso."
   ]
  },
  {
   "cell_type": "markdown",
   "id": "75f29341-9470-4246-ac78-b93a714ea4bd",
   "metadata": {},
   "source": [
    "## <span style=\"color:blue\"><center> SVM VII. Algoritmo SVM solución suave</center></span>"
   ]
  },
  {
   "cell_type": "markdown",
   "id": "9531246b-a6f2-49fd-97cd-497e7d82a5b2",
   "metadata": {},
   "source": [
    "El caso más común es cuando las clases son casi separables linealmente. En este caso, se busca el hiperplano separador que minimiza el error de clasificación. \n",
    "\n",
    "* En este caso permitimos errores de clasificación introduciendo las variables de holgura $\\xi_i$ definidas previamente.\n",
    "* Introducimos un parámetro de regularización o penalización (trade off)\n",
    "\n",
    "El problema ahora se reescribe en la forma\n",
    "\n",
    "\n",
    "$$\n",
    "\\begin{align}\n",
    "\\text{minimize}_{\\mathbf{w},b} \\hspace{1cm} & \\tfrac{1}{2}<\\mathbf{w},\\mathbf{w}> + C\\sum_i \\xi_i\\\\\n",
    "\\text{sujeto a} \\hspace{1cm} &y_i(<\\mathbf{w}, \\mathbf{x}_i> + \\hspace{0.2cm} b) \\ge 1- \\xi_i  \\hspace{0.2cm} \\forall{i} \\\\\n",
    "& \\xi_i \\ge 0, \\hspace{0.2cm} \\forall{i}.\n",
    "\\end{align} \n",
    "$$"
   ]
  },
  {
   "cell_type": "markdown",
   "id": "ee9ef5fd-a26d-4d77-a50c-09a292376b93",
   "metadata": {},
   "source": [
    "## <span style=\"color:blue\"><center> SVM VIII. Algoritmo SVM no lineal con programación cuadrática</center></span>"
   ]
  },
  {
   "cell_type": "markdown",
   "id": "b59efeff-e562-411d-b7c4-a0e2de68767f",
   "metadata": {},
   "source": [
    "Finalmente resolvemos el problema de clasificación no lineal.\n",
    "\n",
    "El problema se traduce a la solución cuadrática media, conocida como `solución dual`. La única diferencia es que ahora la mtriz Gram usa un kernel definido por el usuario.\n",
    "\n",
    "Así el problema se escribe como:\n",
    "\n",
    "\n",
    "$$\n",
    "\\begin{align}\n",
    "\\text{minimize}_{\\mathbf{a}} \\hspace{1cm} & \\tfrac{1}{2}\\mathbf{a}^T \\mathbf{Y}\\mathbf{K}\\mathbf{Y}\\mathbf{a} - \\mathbf{1}^T\\mathbf{a}\\\\\n",
    "\\text{sujeto a} \\hspace{1cm} & \\mathbf{a}^T \\mathbf{y} = 0,\\\\\n",
    "& 0 \\le \\mathbf{a} \\le C\n",
    "\\end{align}\n",
    "$$\n",
    "\n",
    "en donde \n",
    "\n",
    "* $\\mathbf{Y} = \\text{diag}(y_1,\\ldots, y_p)$\n",
    "* $\\mathbf{K}$ es la matriz Gram de los puntos $\\phi(\\mathbf{x})$, es decir, sus elementos son $k_{ij} = <\\phi(\\mathbf{x}_i), \\phi(\\mathbf{x}_j)> = \\kappa(\\mathbf{x}_i, \\mathbf{x}_i)$.\n",
    "\n",
    "El vector $\\mathbf{w}$ es obtenido como\n",
    "\n",
    "$$\n",
    "\\mathbf{w} = \\sum_{i=1}^p a_iy_i\\phi(\\mathbf{x}_i).\n",
    "$$\n",
    "\n",
    "El umbral $b$ puede obtenerse a partir de cualquier vector soporte $\\mathbf{x}_j$, resolviendo al ecuación $<\\mathbf{w}, \\mathbf{x}_j> + \\hspace{0.2cm} b= 1$ o $<\\mathbf{w}, \\mathbf{x}_j> + \\hspace{0.2cm} b= -1$, según sea el caso."
   ]
  },
  {
   "cell_type": "markdown",
   "id": "6b27e643-e87f-40e7-8729-00f93f507914",
   "metadata": {},
   "source": [
    "## <span style=\"color:blue\"><center> El ejemplo de los datos de Iris con sklearn</center></span>"
   ]
  },
  {
   "cell_type": "markdown",
   "id": "60339000-973e-474e-a43e-f5f4b84765f2",
   "metadata": {},
   "source": [
    "Finalizamos esta aventura con un ejemplo típico de la estadística. El ejemplo iris. Por comodidad usaremos únicamente dos clases. El ejemplo es tomado de los [tutoriales de sklearn](https://scikit-learn.org/stable/modules/classes.html?highlight=svm#module-sklearn.svm)"
   ]
  },
  {
   "cell_type": "code",
   "execution_count": 26,
   "id": "2c243f2d-fa72-4e1d-939c-4f88efc4d089",
   "metadata": {},
   "outputs": [
    {
     "data": {
      "application/vnd.jupyter.widget-view+json": {
       "model_id": "4da08fcaa15a4509a25e2ceed3da57dd",
       "version_major": 2,
       "version_minor": 0
      },
      "image/png": "[encoded data removed]",
      "text/html": [
       "\n",
       "            <div style=\"display: inline-block;\">\n",
       "                <div class=\"jupyter-widgets widget-label\" style=\"text-align: center;\">\n",
       "                    Figure\n",
       "                </div>\n",
       "                <img src='data:image/png;base64,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' width=640.0/>\n",
       "            </div>\n",
       "        "
      ],
      "text/plain": [
       "Canvas(toolbar=Toolbar(toolitems=[('Home', 'Reset original view', 'home', 'home'), ('Back', 'Back to previous …"
      ]
     },
     "metadata": {},
     "output_type": "display_data"
    }
   ],
   "source": [
    "import matplotlib.pyplot as plt\n",
    "from sklearn import svm, datasets\n",
    "from sklearn.inspection import DecisionBoundaryDisplay\n",
    "\n",
    "\n",
    "# import some data to play with\n",
    "iris = datasets.load_iris()\n",
    "# Take the first two features. We could avoid this by using a two-dim dataset\n",
    "X = iris.data[:, :2]\n",
    "y = iris.target\n",
    "\n",
    "# we create an instance of SVM and fit out data. We do not scale our\n",
    "# data since we want to plot the support vectors\n",
    "C = 1.0  # SVM regularization parameter\n",
    "models = (\n",
    "    svm.SVC(kernel=\"linear\", C=C),\n",
    "    svm.LinearSVC(C=C, max_iter=10000),\n",
    "    svm.SVC(kernel=\"rbf\", gamma=0.7, C=C),\n",
    "    svm.SVC(kernel=\"poly\", degree=3, gamma=\"auto\", C=C),\n",
    ")\n",
    "models = (clf.fit(X, y) for clf in models)\n",
    "\n",
    "# title for the plots\n",
    "titles = (\n",
    "    \"SVC con un kernel lineal\",\n",
    "    \"LinearSVC (kernel lineal\",\n",
    "    \"SVC con Kernel gaussiano \",\n",
    "    \"SVC with kernel polinomial (grado 3)\",\n",
    ")\n",
    "\n",
    "# Set-up 2x2 grid for plotting.\n",
    "fig, sub = plt.subplots(2, 2)\n",
    "plt.subplots_adjust(wspace=0.4, hspace=0.4)\n",
    "\n",
    "X0, X1 = X[:, 0], X[:, 1]\n",
    "\n",
    "for clf, title, ax in zip(models, titles, sub.flatten()):\n",
    "    disp = DecisionBoundaryDisplay.from_estimator(\n",
    "        clf,\n",
    "        X,\n",
    "        response_method=\"predict\",\n",
    "        cmap=plt.cm.coolwarm,\n",
    "        alpha=0.8,\n",
    "        ax=ax,\n",
    "        xlabel=iris.feature_names[0],\n",
    "        ylabel=iris.feature_names[1],\n",
    "    )\n",
    "    ax.scatter(X0, X1, c=y, cmap=plt.cm.coolwarm, s=20, edgecolors=\"k\")\n",
    "    ax.set_xticks(())\n",
    "    ax.set_yticks(())\n",
    "    ax.set_title(title)\n",
    "\n",
    "plt.show()\n"
   ]
  },
  {
   "cell_type": "markdown",
   "id": "89458023-aacc-475e-bb6a-ed771f325b9a",
   "metadata": {
    "slideshow": {
     "slide_type": "fragment"
    },
    "tags": []
   },
   "source": []
  },
  {
   "cell_type": "markdown",
   "id": "91adb516-1deb-4642-b0f8-71107baf82a1",
   "metadata": {
    "slideshow": {
     "slide_type": "fragment"
    },
    "tags": []
   },
   "source": [
    "# <span style=\"color:blue\"><center> ¡Muchas gracias!</center></span><figure> \n",
    "<img src=\"../imagenes/logo-final-ap.png\"  width=\"80\" height=\"80\" align=\"right\"/> \n",
    "</figure>"
   ]
  }
 ],
 "metadata": {
  "kernelspec": {
   "display_name": "Python 3 (ipykernel)",
   "language": "python",
   "name": "python3"
  },
  "language_info": {
   "codemirror_mode": {
    "name": "ipython",
    "version": 3
   },
   "file_extension": ".py",
   "mimetype": "text/x-python",
   "name": "python",
   "nbconvert_exporter": "python",
   "pygments_lexer": "ipython3",
   "version": "3.10.4"
  }
 },
 "nbformat": 4,
 "nbformat_minor": 5
}
